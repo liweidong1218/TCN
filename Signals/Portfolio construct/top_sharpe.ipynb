{
 "cells": [
  {
   "cell_type": "code",
   "execution_count": 1,
   "source": [
    "# First import\r\n",
    "import os\r\n",
    "import sys\r\n",
    "\r\n",
    "# project_dir = os.path.realpath(os.path.join(os.getcwd(), '..','..','..'))\r\n",
    "# tool_dir = os.path.join(project_dir, 'Utils')\r\n",
    "# sys.path.append(tool_dir)\r\n",
    "print(\"First import is completed.\")"
   ],
   "outputs": [
    {
     "output_type": "stream",
     "name": "stdout",
     "text": [
      "First import is completed.\n"
     ]
    }
   ],
   "metadata": {}
  },
  {
   "cell_type": "code",
   "execution_count": 2,
   "source": [
    "# Second import\r\n",
    "from workers import *\r\n",
    "import ta\r\n",
    "import matplotlib.pyplot as plt\r\n",
    "import pandas as pd\r\n",
    "plt.style.use('seaborn')\r\n",
    "\r\n",
    "print(\"Second import is completed.\")"
   ],
   "outputs": [
    {
     "output_type": "stream",
     "name": "stdout",
     "text": [
      "Second import is completed.\n"
     ]
    }
   ],
   "metadata": {}
  },
  {
   "cell_type": "markdown",
   "source": [
    "### Section 1 Short term 3 years"
   ],
   "metadata": {}
  },
  {
   "cell_type": "code",
   "execution_count": 4,
   "source": [
    "%%time \r\n",
    "ticker_list = pd.read_csv('S&P500.csv')['Ticker'].to_list()\r\n",
    "start_date = '2018-08-20'\r\n",
    "end_date = '2021-08-20'\r\n",
    "\r\n",
    "price_df = get_all_price(ticker_list, start_date, end_date)"
   ],
   "outputs": [
    {
     "output_type": "stream",
     "name": "stdout",
     "text": [
      "[*********************100%***********************]  505 of 505 completed\n",
      "\n",
      "7 Failed downloads:\n",
      "- MYL: No data found, symbol may be delisted\n",
      "- VAR: No data found, symbol may be delisted\n",
      "- FLIR: No data found, symbol may be delisted\n",
      "- BRK.B: No data found, symbol may be delisted\n",
      "- BF.B: No data found for this date range, symbol may be delisted\n",
      "- TIF: No data found, symbol may be delisted\n",
      "- CXO: No data found, symbol may be delisted\n",
      "Wall time: 36.6 s\n"
     ]
    },
    {
     "output_type": "stream",
     "name": "stderr",
     "text": [
      "d:\\Git Repository\\Trading-tools\\Signals\\Portfolio construct\\workers.py:29: FutureWarning: inplace is deprecated and will be removed in a future version.\n",
      "  price_df.columns.set_levels(price_df.columns.levels[1].str.lower(),level=1,inplace=True)\n"
     ]
    }
   ],
   "metadata": {
    "scrolled": true
   }
  },
  {
   "cell_type": "code",
   "execution_count": 7,
   "source": [
    "days = 1\r\n",
    "rtn_3_df = price_df.xs('adj close', axis = 1, level = 1, drop_level=True).pct_change(days).fillna(0)"
   ],
   "outputs": [],
   "metadata": {}
  },
  {
   "cell_type": "code",
   "execution_count": 13,
   "source": [
    "import quantstats as qs\r\n",
    "rtn_3_df.dropna(inplace = True)\r\n",
    "sharpe_all = rtn_3_df.apply(qs.stats.sharpe, axis = 0)"
   ],
   "outputs": [
    {
     "output_type": "stream",
     "name": "stderr",
     "text": [
      "C:\\Users\\liwei\\AppData\\Local\\Programs\\Python\\Python39\\lib\\site-packages\\quantstats\\stats.py:216: RuntimeWarning: invalid value encountered in double_scalars\n",
      "  res = returns.mean() / returns.std()\n"
     ]
    }
   ],
   "metadata": {}
  },
  {
   "cell_type": "code",
   "execution_count": 18,
   "source": [
    "sharpe_all.sort_values(ascending = False).head(30)"
   ],
   "outputs": [
    {
     "output_type": "execute_result",
     "data": {
      "text/plain": [
       "WST     1.686969\n",
       "CARR    1.612799\n",
       "DHR     1.600497\n",
       "SNPS    1.366489\n",
       "CMG     1.344995\n",
       "MSCI    1.331829\n",
       "GRMN    1.331606\n",
       "TGT     1.326083\n",
       "POOL    1.294855\n",
       "CDNS    1.288455\n",
       "CHTR    1.282063\n",
       "A       1.277607\n",
       "MSFT    1.270811\n",
       "FTNT    1.270560\n",
       "MTD     1.238267\n",
       "ODFL    1.235312\n",
       "AMD     1.232869\n",
       "IDXX    1.211119\n",
       "ZBRA    1.202555\n",
       "COST    1.197971\n",
       "TT      1.190250\n",
       "LLY     1.183685\n",
       "TMO     1.159303\n",
       "DXCM    1.158283\n",
       "DG      1.153649\n",
       "PYPL    1.149173\n",
       "AAPL    1.147149\n",
       "PWR     1.144975\n",
       "OTIS    1.140023\n",
       "TSCO    1.134363\n",
       "dtype: float64"
      ]
     },
     "metadata": {},
     "execution_count": 18
    }
   ],
   "metadata": {}
  },
  {
   "cell_type": "markdown",
   "source": [
    "### Section 2 Mid term 5 years"
   ],
   "metadata": {}
  },
  {
   "cell_type": "code",
   "execution_count": 19,
   "source": [
    "%%time \r\n",
    "ticker_list = pd.read_csv('S&P500.csv')['Ticker'].to_list()\r\n",
    "start_date = '2016-08-20'\r\n",
    "end_date = '2021-08-20'\r\n",
    "\r\n",
    "price_df = get_all_price(ticker_list, start_date, end_date)"
   ],
   "outputs": [
    {
     "output_type": "stream",
     "name": "stdout",
     "text": [
      "[*********************100%***********************]  505 of 505 completed\n",
      "\n",
      "7 Failed downloads:\n",
      "- MYL: No data found, symbol may be delisted\n",
      "- VAR: No data found, symbol may be delisted\n",
      "- FLIR: No data found, symbol may be delisted\n",
      "- BRK.B: No data found, symbol may be delisted\n",
      "- BF.B: No data found for this date range, symbol may be delisted\n",
      "- TIF: No data found, symbol may be delisted\n",
      "- CXO: No data found, symbol may be delisted\n",
      "Wall time: 13.5 s\n"
     ]
    },
    {
     "output_type": "stream",
     "name": "stderr",
     "text": [
      "d:\\Git Repository\\Trading-tools\\Signals\\Portfolio construct\\workers.py:29: FutureWarning: inplace is deprecated and will be removed in a future version.\n",
      "  price_df.columns.set_levels(price_df.columns.levels[1].str.lower(),level=1,inplace=True)\n"
     ]
    }
   ],
   "metadata": {}
  },
  {
   "cell_type": "code",
   "execution_count": 21,
   "source": [
    "days = 1\r\n",
    "rtn_5_df = price_df.xs('adj close', axis = 1, level = 1, drop_level=True).pct_change(days).fillna(0)"
   ],
   "outputs": [],
   "metadata": {}
  },
  {
   "cell_type": "code",
   "execution_count": 22,
   "source": [
    "import quantstats as qs\r\n",
    "rtn_5_df.dropna(inplace = True)\r\n",
    "sharpe_all = rtn_5_df.apply(qs.stats.sharpe, axis = 0)"
   ],
   "outputs": [
    {
     "output_type": "stream",
     "name": "stderr",
     "text": [
      "C:\\Users\\liwei\\AppData\\Local\\Programs\\Python\\Python39\\lib\\site-packages\\quantstats\\stats.py:216: RuntimeWarning: invalid value encountered in double_scalars\n",
      "  res = returns.mean() / returns.std()\n"
     ]
    }
   ],
   "metadata": {}
  },
  {
   "cell_type": "code",
   "execution_count": 23,
   "source": [
    "sharpe_all.sort_values(ascending = False).head(30)"
   ],
   "outputs": [
    {
     "output_type": "execute_result",
     "data": {
      "text/plain": [
       "MSCI    1.424772\n",
       "MSFT    1.398261\n",
       "WST     1.394337\n",
       "ODFL    1.388880\n",
       "IDXX    1.365235\n",
       "DHR     1.337061\n",
       "FTNT    1.334705\n",
       "SNPS    1.331381\n",
       "ADBE    1.316764\n",
       "NOW     1.314910\n",
       "ZBRA    1.314196\n",
       "AAPL    1.313742\n",
       "NVDA    1.305926\n",
       "CDNS    1.302347\n",
       "PYPL    1.297712\n",
       "CPRT    1.294117\n",
       "POOL    1.267323\n",
       "ZTS     1.261313\n",
       "CARR    1.247734\n",
       "KEYS    1.246995\n",
       "INTU    1.232798\n",
       "PAYC    1.226639\n",
       "BIO     1.218909\n",
       "ETSY    1.207706\n",
       "AMD     1.204167\n",
       "TT      1.163593\n",
       "COST    1.156659\n",
       "GRMN    1.149644\n",
       "TMO     1.142873\n",
       "CDW     1.141760\n",
       "dtype: float64"
      ]
     },
     "metadata": {},
     "execution_count": 23
    }
   ],
   "metadata": {}
  },
  {
   "cell_type": "code",
   "execution_count": null,
   "source": [],
   "outputs": [],
   "metadata": {}
  }
 ],
 "metadata": {
  "interpreter": {
   "hash": "bd2d11dae1870f72b68aef4ba11539c89fa715a3909acb663518747e605052a3"
  },
  "kernelspec": {
   "name": "python3",
   "display_name": "Python 3.9.6 64-bit"
  },
  "language_info": {
   "codemirror_mode": {
    "name": "ipython",
    "version": 3
   },
   "file_extension": ".py",
   "mimetype": "text/x-python",
   "name": "python",
   "nbconvert_exporter": "python",
   "pygments_lexer": "ipython3",
   "version": "3.9.6"
  }
 },
 "nbformat": 4,
 "nbformat_minor": 4
}
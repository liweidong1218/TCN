{
 "cells": [
  {
   "cell_type": "code",
   "execution_count": null,
   "metadata": {},
   "outputs": [],
   "source": [
    "import os\n",
    "import sys\n",
    "\n",
    "project_dir = os.path.realpath(os.path.join(os.getcwd(), '..','..','..','..'))\n",
    "tool_dir = os.path.join(project_dir, 'Utils')\n",
    "sys.path.append(tool_dir)"
   ]
  },
  {
   "cell_type": "code",
   "execution_count": null,
   "metadata": {},
   "outputs": [],
   "source": [
    "import pandas as pd\n",
    "from workers import *\n",
    "from MRS import regimeSwitch, mrsPreprocess, get_MRS_stats\n",
    "import warnings\n",
    "import numpy as np\n",
    "\n",
    "plt.style.use('seaborn-whitegrid')\n",
    "warnings.filterwarnings(\"ignore\")"
   ]
  },
  {
   "cell_type": "code",
   "execution_count": null,
   "metadata": {},
   "outputs": [],
   "source": [
    "start = '2019-01-01'\n",
    "end = '2021-05-14'\n",
    "ticker = ['QQQ']\n",
    "df = get_all_price(ticker, start, end)\n",
    "df.head()"
   ]
  },
  {
   "cell_type": "code",
   "execution_count": null,
   "metadata": {},
   "outputs": [],
   "source": [
    "processed_data = mrsPreprocess(df)\n",
    "train, test = processed_data.split_train_test(testNum=80)\n",
    "\n",
    "train_endog, train_exog = train['ret'], train[['lag1_ret','lag2_ret']]\n",
    "test_endog, test_exog = test['ret'], test[['lag1_ret','lag2_ret']]"
   ]
  },
  {
   "cell_type": "code",
   "execution_count": null,
   "metadata": {},
   "outputs": [],
   "source": [
    "predictV, predictP, rmse, actual, model = get_MRS_stats(train_endog, train_exog, test_endog, test_exog)\n",
    "rmsedf = pd.DataFrame(rmse)\n",
    "rmsedf"
   ]
  },
  {
   "cell_type": "code",
   "execution_count": null,
   "metadata": {},
   "outputs": [],
   "source": [
    "rmsedf.T.plot(figsize=(12,7),title='RMSE for 2 models',kind='bar')"
   ]
  },
  {
   "cell_type": "code",
   "execution_count": null,
   "metadata": {
    "scrolled": false
   },
   "outputs": [],
   "source": [
    "regimeSwitch.plotCompareModel(actual, predictV, 'Out-of-sample Predicted vs Actual Stock Return')"
   ]
  },
  {
   "cell_type": "code",
   "execution_count": null,
   "metadata": {
    "scrolled": false
   },
   "outputs": [],
   "source": [
    "predictP[0].plot(title='QQQ Predicted Probability of 3 regimes under model 0', figsize=(10,5))\n",
    "predictP[1].plot(title='QQQ Predicted Probability of 3 regimes under model 1', figsize=(10,5))"
   ]
  },
  {
   "cell_type": "code",
   "execution_count": null,
   "metadata": {
    "scrolled": false
   },
   "outputs": [],
   "source": [
    "plt.figure(figsize=(8,5))\n",
    "actual.plot(title='QQQ stock return ',color='k')\n",
    "mrsPreprocess(df).df['ret'].plot(linestyle='dotted')"
   ]
  }
 ],
 "metadata": {
  "interpreter": {
   "hash": "bd2d11dae1870f72b68aef4ba11539c89fa715a3909acb663518747e605052a3"
  },
  "kernelspec": {
   "display_name": "Python 3.9.6 64-bit",
   "name": "python3"
  },
  "language_info": {
   "codemirror_mode": {
    "name": "ipython",
    "version": 3
   },
   "file_extension": ".py",
   "mimetype": "text/x-python",
   "name": "python",
   "nbconvert_exporter": "python",
   "pygments_lexer": "ipython3",
   "version": "3.9.6"
  }
 },
 "nbformat": 4,
 "nbformat_minor": 4
}

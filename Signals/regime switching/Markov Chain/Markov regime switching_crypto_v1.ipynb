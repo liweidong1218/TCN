{
 "cells": [
  {
   "cell_type": "code",
   "execution_count": 1,
   "metadata": {},
   "outputs": [],
   "source": [
    "import os\r\n",
    "import warnings\r\n",
    "\r\n",
    "import pandas as pd\r\n",
    "import numpy as np\r\n",
    "import datetime as dt\r\n",
    "\r\n",
    "import statsmodels.api as sm \r\n",
    "from statsmodels.tsa.stattools import adfuller\r\n",
    "import matplotlib.pyplot as plt\r\n",
    "import mplfinance as mpf\r\n",
    "\r\n",
    "plt.style.use('seaborn-whitegrid')\r\n",
    "warnings.filterwarnings(\"ignore\")"
   ]
  },
  {
   "cell_type": "code",
   "execution_count": 2,
   "metadata": {},
   "outputs": [],
   "source": [
    "def read_file(dir_list, folder_path):\n",
    "    file_list=[]\n",
    "    for filename in dir_list: \n",
    "        file_list.append(pd.read_csv(folder_path + filename))\n",
    "\n",
    "    df = pd.concat(file_list)\n",
    "    df.reset_index(inplace = True, drop = True)\n",
    "    df['Date'] = pd.to_datetime(df['Date'])\n",
    "    # df.set_index('Date', inplace = True)\n",
    "    return df"
   ]
  },
  {
   "cell_type": "code",
   "execution_count": 3,
   "metadata": {},
   "outputs": [],
   "source": [
    "#construct variables for 1 ticker\n",
    "def create_variable(df):\n",
    "    #endogenous\n",
    "    df['pricechange'] = df['close'].diff()\n",
    "    df['ret'] = np.log(df['close']).diff()\n",
    "    #exogenous\n",
    "    df['lag1_ret'] = df['ret'].shift()\n",
    "    df['lag2_ret'] = df['ret'].shift(2)\n",
    "    df['volumeGap'] = np.log(df['volume']).diff()\n",
    "    df['fractHigh'] = (df['high'] - df['open']) / df['open']\n",
    "    df['fractLow'] = (df['open'] - df['low']) / df['open']\n",
    "    df.dropna(inplace=True)\n",
    "    \n",
    "    return df\n",
    "\n",
    "def split_train_test(df, testNum = 80):\n",
    "    return df.iloc[:-testNum], df.iloc[-testNum:]"
   ]
  },
  {
   "cell_type": "code",
   "execution_count": 4,
   "metadata": {},
   "outputs": [],
   "source": [
    "folder_path = 'D:/Database/Crypto data/_coin_api/'\n",
    "dir_list = os.listdir(folder_path)\n",
    "# print(dir_list)\n",
    "df = read_file(dir_list, folder_path)"
   ]
  },
  {
   "cell_type": "code",
   "execution_count": 5,
   "metadata": {},
   "outputs": [],
   "source": [
    "df.set_index('Date', inplace = True, drop = False)"
   ]
  },
  {
   "cell_type": "code",
   "execution_count": 6,
   "metadata": {},
   "outputs": [],
   "source": [
    "df_train = df.loc['2021-03-01' : '2021-05-14']\r\n",
    "df_test = df.loc['2021-05-15' :]"
   ]
  },
  {
   "cell_type": "code",
   "execution_count": 7,
   "metadata": {},
   "outputs": [
    {
     "data": {
      "text/html": [
       "<div>\n",
       "<style scoped>\n",
       "    .dataframe tbody tr th:only-of-type {\n",
       "        vertical-align: middle;\n",
       "    }\n",
       "\n",
       "    .dataframe tbody tr th {\n",
       "        vertical-align: top;\n",
       "    }\n",
       "\n",
       "    .dataframe thead th {\n",
       "        text-align: right;\n",
       "    }\n",
       "</style>\n",
       "<table border=\"1\" class=\"dataframe\">\n",
       "  <thead>\n",
       "    <tr style=\"text-align: right;\">\n",
       "      <th></th>\n",
       "      <th>open</th>\n",
       "      <th>high</th>\n",
       "      <th>low</th>\n",
       "      <th>close</th>\n",
       "      <th>volume</th>\n",
       "      <th>trade_count</th>\n",
       "      <th>pricechange</th>\n",
       "      <th>ret</th>\n",
       "      <th>lag1_ret</th>\n",
       "      <th>lag2_ret</th>\n",
       "      <th>volumeGap</th>\n",
       "      <th>fractHigh</th>\n",
       "      <th>fractLow</th>\n",
       "    </tr>\n",
       "  </thead>\n",
       "  <tbody>\n",
       "    <tr>\n",
       "      <th>0</th>\n",
       "      <td>3231.44500</td>\n",
       "      <td>3250.49750</td>\n",
       "      <td>3222.86500</td>\n",
       "      <td>3238.86750</td>\n",
       "      <td>3664.819431</td>\n",
       "      <td>8763.500</td>\n",
       "      <td>7.21625</td>\n",
       "      <td>0.002231</td>\n",
       "      <td>0.005946</td>\n",
       "      <td>0.036029</td>\n",
       "      <td>-0.429986</td>\n",
       "      <td>0.005896</td>\n",
       "      <td>0.002655</td>\n",
       "    </tr>\n",
       "    <tr>\n",
       "      <th>1</th>\n",
       "      <td>3238.87000</td>\n",
       "      <td>3255.57625</td>\n",
       "      <td>3220.96500</td>\n",
       "      <td>3240.75625</td>\n",
       "      <td>3760.038450</td>\n",
       "      <td>9470.125</td>\n",
       "      <td>1.88875</td>\n",
       "      <td>0.000583</td>\n",
       "      <td>0.002231</td>\n",
       "      <td>0.005946</td>\n",
       "      <td>0.025650</td>\n",
       "      <td>0.005158</td>\n",
       "      <td>0.005528</td>\n",
       "    </tr>\n",
       "    <tr>\n",
       "      <th>2</th>\n",
       "      <td>3240.83625</td>\n",
       "      <td>3250.12375</td>\n",
       "      <td>3216.24375</td>\n",
       "      <td>3227.55250</td>\n",
       "      <td>3096.227170</td>\n",
       "      <td>8343.625</td>\n",
       "      <td>-13.20375</td>\n",
       "      <td>-0.004083</td>\n",
       "      <td>0.000583</td>\n",
       "      <td>0.002231</td>\n",
       "      <td>-0.194245</td>\n",
       "      <td>0.002866</td>\n",
       "      <td>0.007588</td>\n",
       "    </tr>\n",
       "    <tr>\n",
       "      <th>3</th>\n",
       "      <td>3227.67000</td>\n",
       "      <td>3238.73500</td>\n",
       "      <td>3209.85250</td>\n",
       "      <td>3218.22000</td>\n",
       "      <td>3856.204647</td>\n",
       "      <td>8966.000</td>\n",
       "      <td>-9.33250</td>\n",
       "      <td>-0.002896</td>\n",
       "      <td>-0.004083</td>\n",
       "      <td>0.000583</td>\n",
       "      <td>0.219499</td>\n",
       "      <td>0.003428</td>\n",
       "      <td>0.005520</td>\n",
       "    </tr>\n",
       "    <tr>\n",
       "      <th>4</th>\n",
       "      <td>3218.16125</td>\n",
       "      <td>3238.35250</td>\n",
       "      <td>3200.50125</td>\n",
       "      <td>3214.00000</td>\n",
       "      <td>5162.313284</td>\n",
       "      <td>10533.750</td>\n",
       "      <td>-4.22000</td>\n",
       "      <td>-0.001312</td>\n",
       "      <td>-0.002896</td>\n",
       "      <td>-0.004083</td>\n",
       "      <td>0.291701</td>\n",
       "      <td>0.006274</td>\n",
       "      <td>0.005488</td>\n",
       "    </tr>\n",
       "  </tbody>\n",
       "</table>\n",
       "</div>"
      ],
      "text/plain": [
       "         open        high         low       close       volume  trade_count  \\\n",
       "0  3231.44500  3250.49750  3222.86500  3238.86750  3664.819431     8763.500   \n",
       "1  3238.87000  3255.57625  3220.96500  3240.75625  3760.038450     9470.125   \n",
       "2  3240.83625  3250.12375  3216.24375  3227.55250  3096.227170     8343.625   \n",
       "3  3227.67000  3238.73500  3209.85250  3218.22000  3856.204647     8966.000   \n",
       "4  3218.16125  3238.35250  3200.50125  3214.00000  5162.313284    10533.750   \n",
       "\n",
       "   pricechange       ret  lag1_ret  lag2_ret  volumeGap  fractHigh  fractLow  \n",
       "0      7.21625  0.002231  0.005946  0.036029  -0.429986   0.005896  0.002655  \n",
       "1      1.88875  0.000583  0.002231  0.005946   0.025650   0.005158  0.005528  \n",
       "2    -13.20375 -0.004083  0.000583  0.002231  -0.194245   0.002866  0.007588  \n",
       "3     -9.33250 -0.002896 -0.004083  0.000583   0.219499   0.003428  0.005520  \n",
       "4     -4.22000 -0.001312 -0.002896 -0.004083   0.291701   0.006274  0.005488  "
      ]
     },
     "execution_count": 7,
     "metadata": {},
     "output_type": "execute_result"
    }
   ],
   "source": [
    "group_df_train = df_train.groupby([df_train.Date.dt.hour, df_train.Date.dt.minute]).mean()\r\n",
    "train = create_variable(group_df_train)\r\n",
    "train = train.droplevel(level = 0)\r\n",
    "train.reset_index(drop = True, inplace = True)\r\n",
    "train.head()\r\n",
    "\r\n",
    "group_df_test = df_test.groupby([df_test.Date.dt.hour, df_test.Date.dt.minute]).mean()\r\n",
    "test = create_variable(group_df_test)\r\n",
    "test = test.droplevel(level = 0)\r\n",
    "test.reset_index(drop = True, inplace = True)\r\n",
    "test.head()"
   ]
  },
  {
   "cell_type": "code",
   "execution_count": 8,
   "metadata": {},
   "outputs": [],
   "source": [
    "endog_train, exog_train, exog_ochl_train = abs(train['ret']), abs(train[['lag1_ret', 'lag2_ret']]), train[['volumeGap','fractHigh', 'fractLow']]\r\n",
    "# endog_test, exog_test, exog_ochl_test = test['ret'], test[['lag1_ret','lag2_ret']], test[['volumeGap','fractHigh', 'fractLow']]"
   ]
  },
  {
   "cell_type": "code",
   "execution_count": 9,
   "metadata": {},
   "outputs": [],
   "source": [
    "# Include exog variables: lag 1, lag 2\r\n",
    "mod = sm.tsa.MarkovRegression(endog=endog_train, k_regimes=2, exog=exog_train, trend = 'nc', \r\n",
    "                            switching_variance=True).fit()"
   ]
  },
  {
   "cell_type": "code",
   "execution_count": 10,
   "metadata": {},
   "outputs": [
    {
     "data": {
      "text/html": [
       "<table class=\"simpletable\">\n",
       "<caption>Markov Switching Model Results</caption>\n",
       "<tr>\n",
       "  <th>Dep. Variable:</th>          <td>ret</td>       <th>  No. Observations:  </th>    <td>285</td>   \n",
       "</tr>\n",
       "<tr>\n",
       "  <th>Model:</th>           <td>MarkovRegression</td> <th>  Log Likelihood     </th> <td>1712.356</td> \n",
       "</tr>\n",
       "<tr>\n",
       "  <th>Date:</th>            <td>Sat, 03 Jul 2021</td> <th>  AIC                </th> <td>-3408.711</td>\n",
       "</tr>\n",
       "<tr>\n",
       "  <th>Time:</th>                <td>14:35:16</td>     <th>  BIC                </th> <td>-3379.491</td>\n",
       "</tr>\n",
       "<tr>\n",
       "  <th>Sample:</th>                  <td>0</td>        <th>  HQIC               </th> <td>-3396.998</td>\n",
       "</tr>\n",
       "<tr>\n",
       "  <th></th>                      <td> - 285</td>      <th>                     </th>     <td> </td>    \n",
       "</tr>\n",
       "<tr>\n",
       "  <th>Covariance Type:</th>      <td>approx</td>      <th>                     </th>     <td> </td>    \n",
       "</tr>\n",
       "</table>\n",
       "<table class=\"simpletable\">\n",
       "<caption>Regime 0 parameters</caption>\n",
       "<tr>\n",
       "      <td></td>        <th>coef</th>     <th>std err</th>      <th>z</th>      <th>P>|z|</th>  <th>[0.025</th>    <th>0.975]</th>  \n",
       "</tr>\n",
       "<tr>\n",
       "  <th>lag1_ret</th> <td>    0.1279</td> <td>    0.029</td> <td>    4.434</td> <td> 0.000</td> <td>    0.071</td> <td>    0.184</td>\n",
       "</tr>\n",
       "<tr>\n",
       "  <th>lag2_ret</th> <td>    0.1166</td> <td>    0.021</td> <td>    5.465</td> <td> 0.000</td> <td>    0.075</td> <td>    0.158</td>\n",
       "</tr>\n",
       "<tr>\n",
       "  <th>sigma2</th>   <td> 1.984e-07</td> <td>      nan</td> <td>      nan</td> <td>   nan</td> <td>      nan</td> <td>      nan</td>\n",
       "</tr>\n",
       "</table>\n",
       "<table class=\"simpletable\">\n",
       "<caption>Regime 1 parameters</caption>\n",
       "<tr>\n",
       "      <td></td>        <th>coef</th>     <th>std err</th>      <th>z</th>      <th>P>|z|</th>  <th>[0.025</th>    <th>0.975]</th>  \n",
       "</tr>\n",
       "<tr>\n",
       "  <th>lag1_ret</th> <td>    0.4510</td> <td>    0.207</td> <td>    2.174</td> <td> 0.030</td> <td>    0.044</td> <td>    0.858</td>\n",
       "</tr>\n",
       "<tr>\n",
       "  <th>lag2_ret</th> <td>    1.1713</td> <td>    0.467</td> <td>    2.510</td> <td> 0.012</td> <td>    0.257</td> <td>    2.086</td>\n",
       "</tr>\n",
       "<tr>\n",
       "  <th>sigma2</th>   <td> 1.681e-05</td> <td> 6.32e-06</td> <td>    2.661</td> <td> 0.008</td> <td> 4.43e-06</td> <td> 2.92e-05</td>\n",
       "</tr>\n",
       "</table>\n",
       "<table class=\"simpletable\">\n",
       "<caption>Regime transition parameters</caption>\n",
       "<tr>\n",
       "     <td></td>        <th>coef</th>     <th>std err</th>      <th>z</th>      <th>P>|z|</th>  <th>[0.025</th>    <th>0.975]</th>  \n",
       "</tr>\n",
       "<tr>\n",
       "  <th>p[0->0]</th> <td>    0.9425</td> <td>    0.018</td> <td>   53.528</td> <td> 0.000</td> <td>    0.908</td> <td>    0.977</td>\n",
       "</tr>\n",
       "<tr>\n",
       "  <th>p[1->0]</th> <td>    0.8780</td> <td>    0.111</td> <td>    7.898</td> <td> 0.000</td> <td>    0.660</td> <td>    1.096</td>\n",
       "</tr>\n",
       "</table><br/><br/>Warnings:<br/>[1] Covariance matrix calculated using numerical (complex-step) differentiation."
      ],
      "text/plain": [
       "<class 'statsmodels.iolib.summary.Summary'>\n",
       "\"\"\"\n",
       "                        Markov Switching Model Results                        \n",
       "==============================================================================\n",
       "Dep. Variable:                    ret   No. Observations:                  285\n",
       "Model:               MarkovRegression   Log Likelihood                1712.356\n",
       "Date:                Sat, 03 Jul 2021   AIC                          -3408.711\n",
       "Time:                        14:35:16   BIC                          -3379.491\n",
       "Sample:                             0   HQIC                         -3396.998\n",
       "                                - 285                                         \n",
       "Covariance Type:               approx                                         \n",
       "                             Regime 0 parameters                              \n",
       "==============================================================================\n",
       "                 coef    std err          z      P>|z|      [0.025      0.975]\n",
       "------------------------------------------------------------------------------\n",
       "lag1_ret       0.1279      0.029      4.434      0.000       0.071       0.184\n",
       "lag2_ret       0.1166      0.021      5.465      0.000       0.075       0.158\n",
       "sigma2      1.984e-07        nan        nan        nan         nan         nan\n",
       "                             Regime 1 parameters                              \n",
       "==============================================================================\n",
       "                 coef    std err          z      P>|z|      [0.025      0.975]\n",
       "------------------------------------------------------------------------------\n",
       "lag1_ret       0.4510      0.207      2.174      0.030       0.044       0.858\n",
       "lag2_ret       1.1713      0.467      2.510      0.012       0.257       2.086\n",
       "sigma2      1.681e-05   6.32e-06      2.661      0.008    4.43e-06    2.92e-05\n",
       "                         Regime transition parameters                         \n",
       "==============================================================================\n",
       "                 coef    std err          z      P>|z|      [0.025      0.975]\n",
       "------------------------------------------------------------------------------\n",
       "p[0->0]        0.9425      0.018     53.528      0.000       0.908       0.977\n",
       "p[1->0]        0.8780      0.111      7.898      0.000       0.660       1.096\n",
       "==============================================================================\n",
       "\n",
       "Warnings:\n",
       "[1] Covariance matrix calculated using numerical (complex-step) differentiation.\n",
       "\"\"\""
      ]
     },
     "execution_count": 10,
     "metadata": {},
     "output_type": "execute_result"
    }
   ],
   "source": [
    "mod.summary()"
   ]
  },
  {
   "cell_type": "code",
   "execution_count": 11,
   "metadata": {},
   "outputs": [
    {
     "data": {
      "text/html": [
       "<div>\n",
       "<style scoped>\n",
       "    .dataframe tbody tr th:only-of-type {\n",
       "        vertical-align: middle;\n",
       "    }\n",
       "\n",
       "    .dataframe tbody tr th {\n",
       "        vertical-align: top;\n",
       "    }\n",
       "\n",
       "    .dataframe thead th {\n",
       "        text-align: right;\n",
       "    }\n",
       "</style>\n",
       "<table border=\"1\" class=\"dataframe\">\n",
       "  <thead>\n",
       "    <tr style=\"text-align: right;\">\n",
       "      <th></th>\n",
       "      <th>0</th>\n",
       "      <th>1</th>\n",
       "    </tr>\n",
       "  </thead>\n",
       "  <tbody>\n",
       "    <tr>\n",
       "      <th>0</th>\n",
       "      <td>4.011019e-125</td>\n",
       "      <td>1.000000</td>\n",
       "    </tr>\n",
       "    <tr>\n",
       "      <th>1</th>\n",
       "      <td>6.360380e-20</td>\n",
       "      <td>1.000000</td>\n",
       "    </tr>\n",
       "    <tr>\n",
       "      <th>2</th>\n",
       "      <td>9.996969e-01</td>\n",
       "      <td>0.000303</td>\n",
       "    </tr>\n",
       "    <tr>\n",
       "      <th>3</th>\n",
       "      <td>9.961590e-01</td>\n",
       "      <td>0.003841</td>\n",
       "    </tr>\n",
       "    <tr>\n",
       "      <th>4</th>\n",
       "      <td>9.848199e-01</td>\n",
       "      <td>0.015180</td>\n",
       "    </tr>\n",
       "    <tr>\n",
       "      <th>...</th>\n",
       "      <td>...</td>\n",
       "      <td>...</td>\n",
       "    </tr>\n",
       "    <tr>\n",
       "      <th>280</th>\n",
       "      <td>9.933533e-01</td>\n",
       "      <td>0.006647</td>\n",
       "    </tr>\n",
       "    <tr>\n",
       "      <th>281</th>\n",
       "      <td>9.937478e-01</td>\n",
       "      <td>0.006252</td>\n",
       "    </tr>\n",
       "    <tr>\n",
       "      <th>282</th>\n",
       "      <td>9.920214e-01</td>\n",
       "      <td>0.007979</td>\n",
       "    </tr>\n",
       "    <tr>\n",
       "      <th>283</th>\n",
       "      <td>9.906353e-01</td>\n",
       "      <td>0.009365</td>\n",
       "    </tr>\n",
       "    <tr>\n",
       "      <th>284</th>\n",
       "      <td>9.865630e-01</td>\n",
       "      <td>0.013437</td>\n",
       "    </tr>\n",
       "  </tbody>\n",
       "</table>\n",
       "<p>285 rows × 2 columns</p>\n",
       "</div>"
      ],
      "text/plain": [
       "                 0         1\n",
       "0    4.011019e-125  1.000000\n",
       "1     6.360380e-20  1.000000\n",
       "2     9.996969e-01  0.000303\n",
       "3     9.961590e-01  0.003841\n",
       "4     9.848199e-01  0.015180\n",
       "..             ...       ...\n",
       "280   9.933533e-01  0.006647\n",
       "281   9.937478e-01  0.006252\n",
       "282   9.920214e-01  0.007979\n",
       "283   9.906353e-01  0.009365\n",
       "284   9.865630e-01  0.013437\n",
       "\n",
       "[285 rows x 2 columns]"
      ]
     },
     "execution_count": 11,
     "metadata": {},
     "output_type": "execute_result"
    }
   ],
   "source": [
    "mod.smoothed_marginal_probabilities"
   ]
  },
  {
   "cell_type": "code",
   "execution_count": 12,
   "metadata": {},
   "outputs": [
    {
     "data": {
      "text/plain": [
       "<AxesSubplot:>"
      ]
     },
     "execution_count": 12,
     "metadata": {},
     "output_type": "execute_result"
    },
    {
     "data": {
      "image/png": "[encoded data removed]",
      "text/plain": [
       "<Figure size 432x288 with 1 Axes>"
      ]
     },
     "metadata": {},
     "output_type": "display_data"
    }
   ],
   "source": [
    "mod.smoothed_marginal_probabilities[0].plot()"
   ]
  },
  {
   "cell_type": "code",
   "execution_count": null,
   "metadata": {},
   "outputs": [],
   "source": [
    "tranM = np.empty((2, 2))\r\n",
    "tranM[:1] = np.array(mod.params[mod.params.index.str.contains('p')]).reshape(1, 2)\r\n",
    "tranM[-1] = 1 - np.array(mod.params[mod.params.index.str.contains('p')]).reshape(1, 2).sum(axis=0)"
   ]
  },
  {
   "cell_type": "code",
   "execution_count": null,
   "metadata": {},
   "outputs": [],
   "source": [
    "xparam = mod.params[mod.params.index.str.contains('x')]\r\n",
    "nExog = int(len(xparam) / 2)\r\n",
    "xparam = np.array(xparam).reshape(nExog, 2)"
   ]
  },
  {
   "cell_type": "code",
   "execution_count": null,
   "metadata": {},
   "outputs": [],
   "source": [
    "params = mod.params\r\n",
    "cparam = params[params.index.str.contains('c')]\r\n",
    "cparam = np.array(cparam)"
   ]
  },
  {
   "cell_type": "code",
   "execution_count": null,
   "metadata": {},
   "outputs": [],
   "source": [
    "last_prob = mod.smoothed_marginal_probabilities.iloc[-1, :]"
   ]
  },
  {
   "cell_type": "code",
   "execution_count": null,
   "metadata": {},
   "outputs": [],
   "source": [
    "last_prob"
   ]
  },
  {
   "cell_type": "code",
   "execution_count": null,
   "metadata": {},
   "outputs": [],
   "source": [
    "tranM"
   ]
  },
  {
   "cell_type": "code",
   "execution_count": null,
   "metadata": {},
   "outputs": [],
   "source": [
    "np.dot(last_prob, tranM.T)"
   ]
  },
  {
   "cell_type": "code",
   "execution_count": null,
   "metadata": {},
   "outputs": [],
   "source": []
  },
  {
   "cell_type": "code",
   "execution_count": null,
   "metadata": {},
   "outputs": [],
   "source": []
  },
  {
   "cell_type": "code",
   "execution_count": null,
   "metadata": {},
   "outputs": [],
   "source": []
  },
  {
   "cell_type": "code",
   "execution_count": null,
   "metadata": {},
   "outputs": [],
   "source": []
  },
  {
   "cell_type": "code",
   "execution_count": null,
   "metadata": {},
   "outputs": [],
   "source": []
  },
  {
   "cell_type": "code",
   "execution_count": null,
   "metadata": {},
   "outputs": [],
   "source": [
    "# Include exog variables: lag 1, lag 2\r\n",
    "mod = sm.tsa.MarkovRegression(endog=endog_train, k_regimes=2, exog=exog_train, trend='nc', \r\n",
    "                            switching_trend=True,\r\n",
    "                            switching_exog=True,\r\n",
    "                            switching_variance=True).fit()"
   ]
  },
  {
   "cell_type": "code",
   "execution_count": null,
   "metadata": {},
   "outputs": [],
   "source": [
    "mod.summary()"
   ]
  },
  {
   "cell_type": "code",
   "execution_count": null,
   "metadata": {},
   "outputs": [],
   "source": [
    "mod.smoothed_marginal_probabilities[0].plot()"
   ]
  },
  {
   "cell_type": "code",
   "execution_count": null,
   "metadata": {},
   "outputs": [],
   "source": [
    "mod.smoothed_marginal_probabilities[1].plot()"
   ]
  },
  {
   "cell_type": "code",
   "execution_count": null,
   "metadata": {},
   "outputs": [],
   "source": [
    "# No exog variables\r\n",
    "mod = sm.tsa.MarkovRegression(endog=endog_train, k_regimes=2, trend='nc', \r\n",
    "                            switching_trend=True,\r\n",
    "                            switching_variance=True).fit()"
   ]
  },
  {
   "cell_type": "code",
   "execution_count": null,
   "metadata": {},
   "outputs": [],
   "source": [
    "mod.summary()"
   ]
  },
  {
   "cell_type": "code",
   "execution_count": null,
   "metadata": {},
   "outputs": [],
   "source": [
    "mod.smoothed_marginal_probabilities[0].plot()"
   ]
  },
  {
   "cell_type": "code",
   "execution_count": null,
   "metadata": {},
   "outputs": [],
   "source": [
    "mod.smoothed_marginal_probabilities[1].plot()"
   ]
  },
  {
   "cell_type": "code",
   "execution_count": null,
   "metadata": {},
   "outputs": [],
   "source": [
    "mod.params"
   ]
  },
  {
   "cell_type": "code",
   "execution_count": null,
   "metadata": {},
   "outputs": [],
   "source": [
    "    def betaMatrix(self):\r\n",
    "        '''k*k beta matrix, each row contains one beta under each regime'''\r\n",
    "        if self.exog is not None:\r\n",
    "            params = self.mod.params\r\n",
    "            xparam = params[params.index.str.contains('x')]\r\n",
    "            nExog = int(len(xparam) / self.k)\r\n",
    "            xparam = np.array(xparam).reshape(nExog, self.k)\r\n",
    "            return xparam\r\n",
    "        else:  \r\n",
    "            return 0"
   ]
  }
 ],
 "metadata": {
  "interpreter": {
   "hash": "bd2d11dae1870f72b68aef4ba11539c89fa715a3909acb663518747e605052a3"
  },
  "kernelspec": {
   "display_name": "Python 3.9.5 64-bit",
   "name": "python3"
  },
  "language_info": {
   "codemirror_mode": {
    "name": "ipython",
    "version": 3
   },
   "file_extension": ".py",
   "mimetype": "text/x-python",
   "name": "python",
   "nbconvert_exporter": "python",
   "pygments_lexer": "ipython3",
   "version": "3.9.5"
  }
 },
 "nbformat": 4,
 "nbformat_minor": 4
}
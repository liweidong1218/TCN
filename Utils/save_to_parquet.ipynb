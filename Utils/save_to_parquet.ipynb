{
 "cells": [
  {
   "cell_type": "code",
   "execution_count": null,
   "metadata": {},
   "outputs": [],
   "source": [
    "import pandas as pd\n",
    "import datetime as dt\n",
    "import calendar\n",
    "import numpy as np\n",
    "import itertools\n",
    "from zipfile import ZipFile"
   ]
  },
  {
   "cell_type": "code",
   "execution_count": null,
   "metadata": {},
   "outputs": [],
   "source": [
    "def readDayCsv(folderPath, date):\n",
    "    #folderPath: path of folder 2016\n",
    "    #date: '20160104', str\n",
    "    zFile = folderPath + date[:4] + f'/ORATS_SMV_Strikes_{date}.zip'\n",
    "    csvFile = f'ORATS_SMV_Strikes_{date}.csv'\n",
    "    with ZipFile(zFile) as z:\n",
    "        with z.open(csvFile) as f:\n",
    "            df = pd.read_csv(f, parse_dates = ['trade_date','expirDate'], index_col='trade_date')\n",
    "    return df"
   ]
  },
  {
   "cell_type": "code",
   "execution_count": null,
   "metadata": {},
   "outputs": [],
   "source": [
    "def readMultiDay(folderPath, startDate, endDate):\n",
    "    #startDate, endDate: 20160104, 20160531, str\n",
    "    dateList = [d.strftime('%Y%m%d') for d in pd.date_range(startDate, endDate)]\n",
    "    df = []\n",
    "    for d in dateList:\n",
    "        try:\n",
    "            dayDf = readDayCsv(folderPath, d)\n",
    "            df.append(dayDf)\n",
    "        except:\n",
    "            pass\n",
    "    return pd.concat(df)"
   ]
  },
  {
   "cell_type": "code",
   "execution_count": null,
   "metadata": {},
   "outputs": [],
   "source": [
    "def datetime_range(start, end, delta):\n",
    "    current = start\n",
    "    while current < end:\n",
    "        yield current\n",
    "        current += delta"
   ]
  },
  {
   "cell_type": "code",
   "execution_count": null,
   "metadata": {},
   "outputs": [],
   "source": [
    "def get_date_list(year_start, year_end):\n",
    "    year_list = np.arange(year_start, year_end+1)\n",
    "    month_list = np.arange(1, 12+1)\n",
    "    first_day = []\n",
    "    last_day = []\n",
    "    \n",
    "    for year, month in itertools.product(year_list, month_list):\n",
    "        _, num_days = calendar.monthrange(year, month)\n",
    "        first_day.append(dt.date(year, month, 1).strftime('%Y%m%d'))\n",
    "        last_day.append(dt.date(year, month, num_days).strftime('%Y%m%d'))\n",
    "        # print(first_day, last_day)\n",
    "    return (first_day, last_day)"
   ]
  },
  {
   "cell_type": "code",
   "execution_count": null,
   "metadata": {},
   "outputs": [],
   "source": [
    "folderPath = 'D:/Database/Option data/Orats/'\n",
    "year_start = 2020\n",
    "year_end = 2021"
   ]
  },
  {
   "cell_type": "code",
   "execution_count": null,
   "metadata": {},
   "outputs": [],
   "source": [
    "first_day, last_day = get_date_list(year_start, year_end)"
   ]
  },
  {
   "cell_type": "code",
   "execution_count": null,
   "metadata": {
    "scrolled": true
   },
   "outputs": [],
   "source": [
    "%%time\n",
    "print('Save as Parquet')\n",
    "for start, end in zip(first_day, last_day):\n",
    "    try:\n",
    "        print(start + ' ' + end + ' ' + 'start.')\n",
    "        df = readMultiDay(folderPath, start, end)\n",
    "        df.to_parquet('D:/Database/Option data/Orats/Parquet/' + start[:4] + '/ORATS_SMV_Stries_' + start[:-2] + '.parquet')\n",
    "        del df\n",
    "        print(start + ' ' + end + ' ' + 'is done!')\n",
    "    except:\n",
    "        pass"
   ]
  },
  {
   "cell_type": "code",
   "execution_count": null,
   "metadata": {},
   "outputs": [],
   "source": [
    "%%time\n",
    "print('Save as HDF')\n",
    "for start, end in zip(first_day, last_day): \n",
    "    try:\n",
    "        print(start + ' ' + end + ' ' + 'start.')\n",
    "        df = readMultiDay(folderPath, start, end)\n",
    "        # df.to_parquet('D:/Database/Option data/Orats/Parquet/' + start[:4] + '/ORATS_SMV_Stries_' + start[:-2] + '.parquet')\n",
    "        df.to_hdf('D:/Database/Option data/Orats/HDF/' + start[:4] + '/ORATS_SMV_Stries_' + start[:-2] + '.h5', key='df', mode='w')\n",
    "        del df\n",
    "        print(start + ' ' + end + ' ' + 'is done!')\n",
    "    except:\n",
    "        pass"
   ]
  },
  {
   "cell_type": "code",
   "execution_count": null,
   "metadata": {},
   "outputs": [],
   "source": []
  },
  {
   "cell_type": "code",
   "execution_count": null,
   "metadata": {},
   "outputs": [],
   "source": []
  },
  {
   "cell_type": "code",
   "execution_count": null,
   "metadata": {},
   "outputs": [],
   "source": []
  },
  {
   "cell_type": "code",
   "execution_count": null,
   "metadata": {},
   "outputs": [],
   "source": []
  }
 ],
 "metadata": {
  "kernelspec": {
   "display_name": "Python 3",
   "language": "python",
   "name": "python3"
  },
  "language_info": {
   "codemirror_mode": {
    "name": "ipython",
    "version": 3
   },
   "file_extension": ".py",
   "mimetype": "text/x-python",
   "name": "python",
   "nbconvert_exporter": "python",
   "pygments_lexer": "ipython3",
   "version": "3.7.3"
  }
 },
 "nbformat": 4,
 "nbformat_minor": 4
}

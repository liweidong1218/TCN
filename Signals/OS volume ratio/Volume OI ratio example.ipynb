{
 "cells": [
  {
   "cell_type": "code",
   "execution_count": 1,
   "source": [
    "# First import\r\n",
    "import os, sys\r\n",
    "print(\"First import completed.\")\r\n",
    "\r\n",
    "# Second import\r\n",
    "import pandas as pd\r\n",
    "import pandas_datareader.data as web\r\n",
    "import matplotlib.pyplot as plt\r\n",
    "import pandas as pd\r\n",
    "import numpy as np\r\n",
    "import datetime as dt\r\n",
    "\r\n",
    "print(\"Second import completed.\")\r\n",
    "\r\n",
    "# Set config\r\n",
    "# TEST_DIR = os.path.realpath(os.path.join(os.getcwd(), '..', 'test'))\r\n",
    "DATA_DIR = 'D:\\\\Git Repository\\\\_local_data_\\\\DLW\\\\Orats\\\\'\r\n",
    "# DATA_CLEAN_DIR = 'd:\\\\jupyter\\\\wooji\\\\repository\\\\Utils'\r\n",
    "\r\n",
    "pd.set_option('display.max_rows', 500)\r\n",
    "plt.style.use('seaborn')\r\n",
    "\r\n",
    "# sys.path.append(TEST_DIR)\r\n",
    "sys.path.append(DATA_DIR)\r\n",
    "# sys.path.append(DATA_CLEAN_DIR)\r\n",
    "print('Config all set.')\r\n",
    "\r\n",
    "from read_option_data import *\r\n",
    "from workers import *\r\n",
    "# from anomaly_detection_helper import train_test_split\r\n",
    "# import pickle\r\n",
    "# import seaborn as sns\r\n",
    "print(\"Third import completed.\")\r\n"
   ],
   "outputs": [
    {
     "output_type": "stream",
     "name": "stdout",
     "text": [
      "First import completed.\n",
      "Second import completed.\n",
      "Config all set.\n",
      "Third import completed.\n"
     ]
    }
   ],
   "metadata": {}
  },
  {
   "cell_type": "code",
   "execution_count": 2,
   "source": [
    "start_date = '20210903'\r\n",
    "end_date = '20210915'\r\n",
    "ticker = ['AAPL']\r\n",
    "# optionsdata = readMultiDay(DATA_DIR, start_date, end_date, ticker=['TSLA'])\r\n"
   ],
   "outputs": [],
   "metadata": {}
  },
  {
   "cell_type": "code",
   "execution_count": 3,
   "source": [
    "def expiry_contract(df, _expiry):\r\n",
    "    \"\"\"\r\n",
    "    return expiry in current/next/3rd month filter\r\n",
    "    \"\"\"\r\n",
    "    expiration, quotedate = df['expiration'], df['quotedate']\r\n",
    "    timedelta = (expiration - quotedate).dt.days\r\n",
    "\r\n",
    "    if _expiry == 'cur':\r\n",
    "        return timedelta <= 30\r\n",
    "    if _expiry == 'next':\r\n",
    "        return (timedelta <= 60) & (timedelta >= 30)\r\n",
    "    if _expiry == 'third':\r\n",
    "        return (timedelta <= 90) & (timedelta >= 60)"
   ],
   "outputs": [],
   "metadata": {}
  },
  {
   "cell_type": "code",
   "execution_count": 4,
   "source": [
    "def get_volumeOI(folder_path, start_date, end_date, ticker, expiry_period = 'cur', delta_thres = [0.75, 0.25]):\r\n",
    "    \r\n",
    "    dateList = [d.strftime('%Y%m%d') for d in pd.date_range(start_date, end_date)]\r\n",
    "    volumeOI_list = []\r\n",
    "    for d in dateList:\r\n",
    "        try:\r\n",
    "            df = cleanDF(readDayCsv(folder_path, d), ticker)\r\n",
    "            print('pass')\r\n",
    "            temp_df = df[(expiry_contract(df, expiry_period)) & (abs(df.delta) <= delta_thres[0]) & (abs(df.delta) >= delta_thres[1])]\r\n",
    "            voi_ratio = temp_df['volume'] / temp_df['openinterest']\r\n",
    "            voi_ratio.replace([np.inf, -np.inf], 0, inplace=True)\r\n",
    "            # voi_ratio.dropna(inplace = True)\r\n",
    "            output_row = temp_df.iloc[np.argmax(voi_ratio), :]\r\n",
    "            volumeOI_list.append(output_row)\r\n",
    "        except:\r\n",
    "            print(f'{d} is not a trading day.')\r\n",
    "    \r\n",
    "    return volumeOI_list"
   ],
   "outputs": [],
   "metadata": {}
  },
  {
   "cell_type": "code",
   "execution_count": 13,
   "source": [
    "option_voi_ratio = get_volumeOI(DATA_DIR, start_date, end_date, ticker, expiry_period = 'third', delta_thres = [0.75, 0.25])"
   ],
   "outputs": [
    {
     "output_type": "stream",
     "name": "stdout",
     "text": [
      "pass\n",
      "20210904 is not a trading day.\n",
      "20210905 is not a trading day.\n",
      "20210906 is not a trading day.\n",
      "pass\n",
      "pass\n",
      "pass\n",
      "pass\n",
      "20210911 is not a trading day.\n",
      "20210912 is not a trading day.\n",
      "pass\n",
      "pass\n",
      "pass\n"
     ]
    }
   ],
   "metadata": {}
  },
  {
   "cell_type": "code",
   "execution_count": 6,
   "source": [
    "price_vec = [x['underlying_last'] for x in option_voi_ratio]"
   ],
   "outputs": [],
   "metadata": {}
  },
  {
   "cell_type": "code",
   "execution_count": null,
   "source": [
    "price_vec"
   ],
   "outputs": [],
   "metadata": {}
  },
  {
   "cell_type": "code",
   "execution_count": 11,
   "source": [
    "stock_df = get_all_price(ticker, '2021-09-03', '2021-09-16')"
   ],
   "outputs": [
    {
     "output_type": "stream",
     "name": "stdout",
     "text": [
      "[*********************100%***********************]  1 of 1 completed\n"
     ]
    }
   ],
   "metadata": {}
  },
  {
   "cell_type": "code",
   "execution_count": 12,
   "source": [
    "plt.plot(stock_df.index, price_vec, label = 'Option')\r\n",
    "plt.plot(stock_df.close, label = 'Underlying')\r\n",
    "plt.legend()\r\n",
    "plt.show()"
   ],
   "outputs": [
    {
     "output_type": "display_data",
     "data": {
      "image/png": "[encoded data removed]",
      "text/plain": [
       "<Figure size 576x396 with 1 Axes>"
      ]
     },
     "metadata": {}
    }
   ],
   "metadata": {}
  },
  {
   "cell_type": "code",
   "execution_count": null,
   "source": [],
   "outputs": [],
   "metadata": {}
  }
 ],
 "metadata": {
  "interpreter": {
   "hash": "bd2d11dae1870f72b68aef4ba11539c89fa715a3909acb663518747e605052a3"
  },
  "kernelspec": {
   "name": "python3",
   "display_name": "Python 3.9.6 64-bit"
  },
  "language_info": {
   "codemirror_mode": {
    "name": "ipython",
    "version": 3
   },
   "file_extension": ".py",
   "mimetype": "text/x-python",
   "name": "python",
   "nbconvert_exporter": "python",
   "pygments_lexer": "ipython3",
   "version": "3.9.6"
  }
 },
 "nbformat": 4,
 "nbformat_minor": 2
}
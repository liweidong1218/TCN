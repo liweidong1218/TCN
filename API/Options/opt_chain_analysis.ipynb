{
 "cells": [
  {
   "cell_type": "markdown",
   "metadata": {},
   "source": [
    "## Option Chain Analysis"
   ]
  },
  {
   "cell_type": "code",
   "execution_count": 1,
   "metadata": {},
   "outputs": [],
   "source": [
    "import time, os, json, logging\n",
    "import pandas as pd\n",
    "import numpy as np\n",
    "import datetime as dt\n",
    "from helpFunc import *\n",
    "import matplotlib.pyplot as plt\n",
    "plt.style.use('ggplot')"
   ]
  },
  {
   "cell_type": "code",
   "execution_count": 2,
   "metadata": {},
   "outputs": [],
   "source": [
    "# inputs\n",
    "ticker = 'SPY'\n",
    "dir_path = 'D:/Database/Option data/Json/2021/'\n",
    "folder_path = dir_path\n",
    "date_list = [dt.date(2021, 4, 1)]"
   ]
  },
  {
   "cell_type": "code",
   "execution_count": 3,
   "metadata": {},
   "outputs": [
    {
     "name": "stdout",
     "output_type": "stream",
     "text": [
      "SPY Apr 1 06_25_01 2021 Thu.txt\n"
     ]
    }
   ],
   "source": [
    "dir_list = os.listdir(folder_path)\n",
    "x = dir_list[0]\n",
    "print(x)"
   ]
  },
  {
   "cell_type": "code",
   "execution_count": 4,
   "metadata": {},
   "outputs": [],
   "source": [
    "file_list = [x for x in dir_list if dt.datetime.strptime(x[len(ticker)+1:-8],'%b %d %H_%M_%S %Y').date() in date_list]  "
   ]
  },
  {
   "cell_type": "code",
   "execution_count": 5,
   "metadata": {},
   "outputs": [
    {
     "name": "stdout",
     "output_type": "stream",
     "text": [
      "Wall time: 38.7 s\n"
     ]
    }
   ],
   "source": [
    "%%time\n",
    "df = day_chain(ticker,folder_path,date_list)\n",
    "call_raw_df = df[df['putCall']=='CALL']\n",
    "put_raw_df = df[df['putCall']=='PUT']"
   ]
  },
  {
   "cell_type": "code",
   "execution_count": null,
   "metadata": {
    "scrolled": true
   },
   "outputs": [],
   "source": [
    "# %%time\n",
    "# read data\n",
    "# how to speed up this process? \n",
    "# idea 1: a faster json loader thru multiple files\n",
    "# idea 2: a faster method / algorithm to read thru the embedded dictionary\n",
    "# current speed: 40 seconds per day (82 files, 750MB)\n",
    "\n",
    "\n",
    "# tup = readChain(ticker, folder_path, date_list)\n",
    "\n",
    "# call_raw_df = tup[0]\n",
    "# call_raw_df.set_index('Date', inplace = True)\n",
    "# put_raw_df = tup[1]\n",
    "# put_raw_df.set_index('Date', inplace = True)\n",
    "\n",
    "# call_raw_df.head()"
   ]
  },
  {
   "cell_type": "code",
   "execution_count": null,
   "metadata": {},
   "outputs": [],
   "source": [
    "call_raw_df.iloc[:, :-1] = call_raw_df.iloc[:, :-1].astype('float64')\n",
    "put_raw_df.iloc[:, :-1] = put_raw_df.iloc[:, :-1].astype('float64')"
   ]
  },
  {
   "cell_type": "markdown",
   "metadata": {},
   "source": [
    "### Plot volume (both difference and cumulative)"
   ]
  },
  {
   "cell_type": "markdown",
   "metadata": {},
   "source": [
    "#### Plot aggregate volume and put-call ratio over time"
   ]
  },
  {
   "cell_type": "code",
   "execution_count": null,
   "metadata": {
    "scrolled": true
   },
   "outputs": [],
   "source": [
    "# cumulative volume\n",
    "frequency = '10min'\n",
    "volume_sum_call = call_raw_df.loc[:timestamp].groupby(pd.Grouper(freq=frequency, dropna = True)).sum()['volume_c']\n",
    "volume_sum_put = put_raw_df.loc[:timestamp].groupby(pd.Grouper(freq=frequency, dropna = True)).sum()['volume_p']"
   ]
  },
  {
   "cell_type": "code",
   "execution_count": null,
   "metadata": {},
   "outputs": [],
   "source": [
    "plt.figure(figsize=(8, 5))\n",
    "plt.plot(volume_sum_call.index, volume_sum_call, volume_sum_put.index, volume_sum_put)\n",
    "plt.legend(['Call volume', 'Put volume'])\n",
    "plt.title('Put Call cumulative volume')\n",
    "plt.show()"
   ]
  },
  {
   "cell_type": "code",
   "execution_count": null,
   "metadata": {},
   "outputs": [],
   "source": [
    "# put-call ratio\n",
    "ratio = volume_sum_put / volume_sum_call\n",
    "plt.figure(figsize=(8, 5))\n",
    "plt.plot(ratio)\n",
    "plt.title('Put Call raio')\n",
    "plt.show()"
   ]
  },
  {
   "cell_type": "markdown",
   "metadata": {},
   "source": [
    "#### Near the money volume, integer strike volume, far from the money volume surprises"
   ]
  },
  {
   "cell_type": "code",
   "execution_count": null,
   "metadata": {},
   "outputs": [],
   "source": [
    "# Near the money\n",
    "frequency = '10min'\n",
    "call_ntm = call_raw_df.loc[(call_raw_df['delta_c'] >= 0.40) & (call_raw_df['delta_c'] <= 0.60)]\n",
    "volume_ntm_call = call_ntm.loc[:timestamp].groupby(pd.Grouper(freq=frequency, dropna = True)).sum()['volume_c']\n",
    "put_ntm = put_raw_df.loc[(put_raw_df['delta_p'] <= -0.40) & (put_raw_df['delta_p'] >= -0.60)]\n",
    "volume_ntm_put = put_ntm.loc[:timestamp].groupby(pd.Grouper(freq=frequency, dropna = True)).sum()['volume_p']"
   ]
  },
  {
   "cell_type": "code",
   "execution_count": null,
   "metadata": {},
   "outputs": [],
   "source": [
    "# ntm put call volume\n",
    "plt.figure(figsize=(8, 5))\n",
    "plt.plot(volume_ntm_call.index, volume_ntm_call, volume_ntm_put.index, volume_ntm_put)\n",
    "plt.legend(['NTM call volume', 'NTM put volume'])\n",
    "plt.title('Near-The-Money Put Call volume')\n",
    "plt.show()"
   ]
  },
  {
   "cell_type": "code",
   "execution_count": null,
   "metadata": {},
   "outputs": [],
   "source": [
    "# ntm put-call ratio\n",
    "ratio_ntm = volume_ntm_put / volume_ntm_call\n",
    "plt.figure(figsize=(8, 5))\n",
    "plt.plot(ratio_ntm)\n",
    "plt.title('Near-The-Money Put Call ratio')\n",
    "plt.show()"
   ]
  },
  {
   "cell_type": "code",
   "execution_count": null,
   "metadata": {},
   "outputs": [],
   "source": [
    "# Integer strike\n",
    "# strike_list = np.arange(370, 385, 5)\n",
    "strike_list = [370, 375, 380, 385, 395]\n",
    "call_int = call_raw_df.loc[call_raw_df['strike'].isin(strike_list)]\n",
    "volume_int_call = call_int.loc[:timestamp].groupby(pd.Grouper(freq=frequency, dropna = True)).sum()['volume_c']\n",
    "put_int = put_raw_df.loc[put_raw_df['strike'].isin(strike_list)]\n",
    "volume_int_put = put_int.loc[:timestamp].groupby(pd.Grouper(freq=frequency, dropna = True)).sum()['volume_p']"
   ]
  },
  {
   "cell_type": "code",
   "execution_count": null,
   "metadata": {},
   "outputs": [],
   "source": [
    "# Integer put call volume\n",
    "plt.figure(figsize=(8, 5))\n",
    "plt.plot(volume_int_call.index, volume_int_call, volume_int_put.index, volume_int_put)\n",
    "plt.legend(['Call volume', 'Put volume'])\n",
    "plt.title('Put Call volume for NTM Integer Strikes')\n",
    "plt.show()"
   ]
  },
  {
   "cell_type": "code",
   "execution_count": null,
   "metadata": {},
   "outputs": [],
   "source": [
    "# Integer put-call ratio\n",
    "ratio_int = volume_int_put / volume_int_call\n",
    "plt.figure(figsize=(8, 5))\n",
    "plt.plot(ratio_int)\n",
    "plt.title('Put Call raio for NTM Integer Strikes')\n",
    "plt.show()"
   ]
  },
  {
   "cell_type": "code",
   "execution_count": null,
   "metadata": {
    "scrolled": true
   },
   "outputs": [],
   "source": [
    "# Far from the money put call ratio\n",
    "call_fotm = call_raw_df.loc[(call_raw_df['delta_c'] <= 0.40) | (call_raw_df['delta_c'] >= 0.60)]\n",
    "volume_fotm_call = call_fotm.loc[:timestamp].groupby(pd.Grouper(freq=frequency, dropna = True)).sum()['volume_c']\n",
    "put_fotm = put_raw_df.loc[(put_raw_df['delta_p'] >= -0.40) | (put_raw_df['delta_p'] <= -0.60)]\n",
    "volume_fotm_put = put_fotm.loc[:timestamp].groupby(pd.Grouper(freq=frequency, dropna = True)).sum()['volume_p']"
   ]
  },
  {
   "cell_type": "code",
   "execution_count": null,
   "metadata": {},
   "outputs": [],
   "source": [
    "plt.figure(figsize=(8, 5))\n",
    "plt.plot(volume_fotm_call.index, volume_fotm_call, volume_fotm_put.index, volume_fotm_put)\n",
    "plt.legend(['FOTM call volume', 'FOTM put volume'])\n",
    "plt.title('Far Out-of-The-Money Put Call volume')\n",
    "plt.show()"
   ]
  },
  {
   "cell_type": "code",
   "execution_count": null,
   "metadata": {},
   "outputs": [],
   "source": [
    "ratio_fotm = volume_fotm_put / volume_fotm_call\n",
    "plt.figure(figsize=(8, 5))\n",
    "plt.plot(ratio_fotm)\n",
    "plt.title('Far Out-of-The-Money Put Call ratio')\n",
    "plt.show()"
   ]
  },
  {
   "cell_type": "code",
   "execution_count": null,
   "metadata": {},
   "outputs": [],
   "source": []
  },
  {
   "cell_type": "markdown",
   "metadata": {},
   "source": [
    "### Plot price"
   ]
  },
  {
   "cell_type": "markdown",
   "metadata": {},
   "source": [
    "### Volume surge monitor (original version)"
   ]
  },
  {
   "cell_type": "code",
   "execution_count": null,
   "metadata": {},
   "outputs": [],
   "source": [
    "call_raw_df.head()"
   ]
  },
  {
   "cell_type": "code",
   "execution_count": null,
   "metadata": {},
   "outputs": [],
   "source": [
    "call_df = call_raw_df.loc['2021-05-11']\n",
    "put_df = put_raw_df.loc['2021-05-11']"
   ]
  },
  {
   "cell_type": "code",
   "execution_count": null,
   "metadata": {},
   "outputs": [],
   "source": [
    "call_exp_tup = rankExpiry(call_df, method = 'max')\n",
    "call_expiry = call_exp_tup[0]\n",
    "print('highest rank expiry date is: ' + call_expiry)\n",
    "call_strike_tup = rankStrike(call_df, method = 'max')\n",
    "call_strike = call_strike_tup[0]\n",
    "print('highest rank strike is: ' + str(call_strike))"
   ]
  },
  {
   "cell_type": "code",
   "execution_count": null,
   "metadata": {
    "scrolled": true
   },
   "outputs": [],
   "source": [
    "# call_df.Expiry.tail(100)"
   ]
  },
  {
   "cell_type": "code",
   "execution_count": null,
   "metadata": {},
   "outputs": [],
   "source": [
    "call_strike = 425.0\n",
    "put_strike = 410.0"
   ]
  },
  {
   "cell_type": "code",
   "execution_count": null,
   "metadata": {},
   "outputs": [],
   "source": [
    "put_df.groupby(pd.Grouper(freq='D')).sum()['volume_p'] / call_df.groupby(pd.Grouper(freq='D')).sum()['volume_c']"
   ]
  },
  {
   "cell_type": "code",
   "execution_count": null,
   "metadata": {},
   "outputs": [],
   "source": [
    "exp_date = '2021-05-21'"
   ]
  },
  {
   "cell_type": "code",
   "execution_count": null,
   "metadata": {},
   "outputs": [],
   "source": [
    "call_fil_df = call_df.loc[(call_df.Expiry == exp_date) & (call_df.strike == call_strike)]\n",
    "put_fil_df = put_df.loc[(put_df.Expiry == exp_date) & (put_df.strike == put_strike)]"
   ]
  },
  {
   "cell_type": "code",
   "execution_count": null,
   "metadata": {},
   "outputs": [],
   "source": [
    "call_group_df = call_df.loc[(call_df.Expiry == exp_date)].groupby(level = 'Date').sum()\n",
    "put_group_df = put_df.loc[(put_df.Expiry == exp_date)].groupby(level = 'Date').sum()"
   ]
  },
  {
   "cell_type": "code",
   "execution_count": null,
   "metadata": {
    "scrolled": true
   },
   "outputs": [],
   "source": [
    "put_group_df['volume_p'][-1] / call_group_df['volume_c'][-1]"
   ]
  },
  {
   "cell_type": "code",
   "execution_count": null,
   "metadata": {
    "scrolled": true
   },
   "outputs": [],
   "source": [
    "pd.set_option('display.max_rows', None)\n",
    "call_fil_df.volume_c.diff()"
   ]
  },
  {
   "cell_type": "code",
   "execution_count": null,
   "metadata": {
    "scrolled": true
   },
   "outputs": [],
   "source": [
    "pd.set_option('display.max_rows', None)\n",
    "put_fil_df.volume_p.diff()"
   ]
  },
  {
   "cell_type": "code",
   "execution_count": null,
   "metadata": {},
   "outputs": [],
   "source": [
    "plt.plot(call_fil_df.volume_c.diff())"
   ]
  },
  {
   "cell_type": "code",
   "execution_count": null,
   "metadata": {},
   "outputs": [],
   "source": [
    "plt.plot(put_fil_df.volume_p.diff())"
   ]
  },
  {
   "cell_type": "code",
   "execution_count": null,
   "metadata": {},
   "outputs": [],
   "source": []
  },
  {
   "cell_type": "code",
   "execution_count": null,
   "metadata": {},
   "outputs": [],
   "source": []
  },
  {
   "cell_type": "code",
   "execution_count": null,
   "metadata": {},
   "outputs": [],
   "source": []
  },
  {
   "cell_type": "code",
   "execution_count": null,
   "metadata": {},
   "outputs": [],
   "source": []
  }
 ],
 "metadata": {
  "kernelspec": {
   "display_name": "Python 3",
   "language": "python",
   "name": "python3"
  },
  "language_info": {
   "codemirror_mode": {
    "name": "ipython",
    "version": 3
   },
   "file_extension": ".py",
   "mimetype": "text/x-python",
   "name": "python",
   "nbconvert_exporter": "python",
   "pygments_lexer": "ipython3",
   "version": "3.7.3"
  }
 },
 "nbformat": 4,
 "nbformat_minor": 2
}

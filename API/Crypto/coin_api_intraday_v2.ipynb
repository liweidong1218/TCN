{
 "cells": [
  {
   "cell_type": "code",
   "execution_count": 1,
   "metadata": {},
   "outputs": [],
   "source": [
    "import requests, os\n",
    "import datetime as dt\n",
    "import pandas as pd\n",
    "import matplotlib.pyplot as plt\n",
    "from coinapi_rest_v1.restapi import CoinAPIv1"
   ]
  },
  {
   "cell_type": "code",
   "execution_count": 2,
   "metadata": {},
   "outputs": [],
   "source": [
    "'''Free api key, 100 request per day. If exceed limit too often, will be asked to upgrade'''\n",
    "api = CoinAPIv1('4C0F25D9-035A-4E89-B38F-B168FFE89E8C')\n",
    "# api = CoinAPIv1('892571FE-0278-4F02-9A2D-D5CA3B652D45')\n",
    "# 892571FE-0278-4F02-9A2D-D5CA3B652D45\n",
    "# 4C0F25D9-035A-4E89-B38F-B168FFE89E8C"
   ]
  },
  {
   "cell_type": "code",
   "execution_count": 3,
   "metadata": {},
   "outputs": [],
   "source": [
    "# end_date = dt.datetime.combine(dt.date.today(), dt.time.min).isoformat()\n",
    "# start_date = dt.datetime.combine(dt.date.today() - dt.timedelta(days=2), dt.time.min).isoformat()\n",
    "# end_date = dt.datetime.combine(dt.date.today() - dt.timedelta(days=1), dt.time.min).isoformat()\n",
    "# print(start_date, end_date)"
   ]
  },
  {
   "cell_type": "code",
   "execution_count": 4,
   "metadata": {},
   "outputs": [],
   "source": [
    "def datetime_range(start, end, delta):\n",
    "    current = start\n",
    "    while current < end:\n",
    "        yield current\n",
    "        current += delta\n",
    "        \n",
    "date_list = [date.isoformat() for date in datetime_range(dt.datetime(2021, 5, 19), dt.datetime(2021, 5, 24), dt.timedelta(days = 1))]"
   ]
  },
  {
   "cell_type": "code",
   "execution_count": 5,
   "metadata": {},
   "outputs": [],
   "source": [
    "# print(date_list)"
   ]
  },
  {
   "cell_type": "code",
   "execution_count": 6,
   "metadata": {},
   "outputs": [],
   "source": [
    "# exchanges = api.metadata_list_exchanges()\n",
    "# print('Exchanges')\n",
    "# for exchange in exchanges:\n",
    "#     print('Exchange ID: %s' % exchange['exchange_id'])\n",
    "#     print('Exchange website: %s' % exchange['website'])\n",
    "#     print('Exchange name: %s' % exchange['name'])\n",
    "\n",
    "# periods = api.ohlcv_list_all_periods()"
   ]
  },
  {
   "cell_type": "code",
   "execution_count": 7,
   "metadata": {},
   "outputs": [],
   "source": [
    "# symbols = api.metadata_list_symbols()\n",
    "# print('Symbols')\n",
    "# for symbol in symbols:\n",
    "#     print('Symbol ID: %s' % symbol['symbol_id'])\n",
    "#     print('Exchange ID: %s' % symbol['exchange_id'])\n",
    "#     print('Symbol type: %s' % symbol['symbol_type'])"
   ]
  },
  {
   "cell_type": "code",
   "execution_count": 8,
   "metadata": {},
   "outputs": [],
   "source": [
    "def appendDFToCSV_void(df, csvFilePath, sep=\",\"):\n",
    "    if not os.path.isfile(csvFilePath):\n",
    "        df.to_csv(csvFilePath, mode='w', index=True, sep=sep)\n",
    "    else: \n",
    "        print(\"File already up-to-date!\")"
   ]
  },
  {
   "cell_type": "code",
   "execution_count": 9,
   "metadata": {},
   "outputs": [
    {
     "name": "stdout",
     "output_type": "stream",
     "text": [
      "2021-05-19T00:00:00\n",
      "2021-05-19T08:20:00\n",
      "2021-05-19T16:40:00\n",
      "2021-05-20T00:00:00\n",
      "2021-05-20T08:20:00\n",
      "2021-05-20T16:40:00\n",
      "2021-05-21T00:00:00\n",
      "2021-05-21T08:20:00\n",
      "2021-05-21T16:40:00\n",
      "2021-05-22T00:00:00\n",
      "2021-05-22T08:20:00\n",
      "2021-05-22T16:40:00\n"
     ]
    }
   ],
   "source": [
    "symbol = 'HUOBIPRO_SPOT_ETH_USDT'\n",
    "period_id = '5MIN'\n",
    "\n",
    "date_iter = iter(date_list)\n",
    "for (index, value) in enumerate(date_list[:-1]): \n",
    "    ohlcv_list = []\n",
    "    start_date, end_date = value, date_list[index + 1]\n",
    "    while start_date != end_date:\n",
    "        print(start_date)\n",
    "        ohlcv_historical = api.ohlcv_historical_data(symbol, {'period_id': period_id, 'time_start': start_date, 'time_end': end_date})\n",
    "        ohlcv_list.append(pd.DataFrame(ohlcv_historical))\n",
    "        start_date = dt.datetime.strptime(ohlcv_historical[-1]['time_period_end'],\"%Y-%m-%dT%H:%M:%S.%f000Z\").isoformat()\n",
    "    \n",
    "    ohlcv_df = pd.concat(ohlcv_list)\n",
    "    ohlcv_df.reset_index(drop = True, inplace = True)\n",
    "    time_period_start = [dt.datetime.strptime(x,\"%Y-%m-%dT%H:%M:%S.%f000Z\") for x in ohlcv_df['time_period_start']]\n",
    "    time_period_end = [dt.datetime.strptime(x,\"%Y-%m-%dT%H:%M:%S.%f000Z\") for x in ohlcv_df['time_period_end']]\n",
    "    final_df = pd.DataFrame(ohlcv_df[['price_open', 'price_high', 'price_low', 'price_close', 'volume_traded', 'trades_count']])\n",
    "    final_df.index = time_period_end\n",
    "    final_df.columns = ['open', 'high', 'low', 'close', 'volume', 'trade_count']\n",
    "    final_df.index.names = ['Date']\n",
    "    \n",
    "    csvFilePath = r'D:/Database/Crypto data/_coin_api/' + symbol + ' ' + value[:-9] + '.csv'\n",
    "    appendDFToCSV_void(final_df, csvFilePath)"
   ]
  },
  {
   "cell_type": "code",
   "execution_count": null,
   "metadata": {},
   "outputs": [],
   "source": []
  }
 ],
 "metadata": {
  "kernelspec": {
   "display_name": "Python 3",
   "language": "python",
   "name": "python3"
  },
  "language_info": {
   "codemirror_mode": {
    "name": "ipython",
    "version": 3
   },
   "file_extension": ".py",
   "mimetype": "text/x-python",
   "name": "python",
   "nbconvert_exporter": "python",
   "pygments_lexer": "ipython3",
   "version": "3.7.3"
  }
 },
 "nbformat": 4,
 "nbformat_minor": 2
}

{
 "cells": [
  {
   "cell_type": "code",
   "execution_count": 1,
   "metadata": {},
   "outputs": [],
   "source": [
    "import os\n",
    "import sys\n",
    "\n",
    "project_dir = os.path.realpath(os.path.join(os.getcwd(), '..','..','..','..'))\n",
    "data_dir = os.path.join(project_dir, 'ORATS','parquet')\n",
    "tickerdata_dir = os.path.join(project_dir, 'ORATS','byticker')\n",
    "data_clean_dir = os.path.join(project_dir, 'repository','utils')\n",
    "\n",
    "sys.path.append(data_clean_dir)"
   ]
  },
  {
   "cell_type": "code",
   "execution_count": 13,
   "metadata": {},
   "outputs": [],
   "source": [
    "from orats_cleaner import *\n",
    "from anomaly_detection_helper import quotedate_contract"
   ]
  },
  {
   "cell_type": "code",
   "execution_count": 3,
   "metadata": {},
   "outputs": [],
   "source": [
    "filelist = generate_file_list(data_dir, '201401','202105')"
   ]
  },
  {
   "cell_type": "code",
   "execution_count": 4,
   "metadata": {},
   "outputs": [],
   "source": [
    "tickers = pd.read_excel('options-screener-06-25-2021.xlsx', sheet_name='Symbol universe', \n",
    "                        header=None).values.reshape(-1)"
   ]
  },
  {
   "cell_type": "code",
   "execution_count": 5,
   "metadata": {},
   "outputs": [
    {
     "name": "stdout",
     "output_type": "stream",
     "text": [
      "done\n"
     ]
    }
   ],
   "source": [
    "optiondata = read_optiondata_by_ticker(filelist,tickers[:60])\n",
    "filename = '60SymbolUniv_14_21.parquet'\n",
    "file_address = os.path.join(tickerdata_dir, filename)\n",
    "optiondata.to_parquet(file_address)"
   ]
  },
  {
   "cell_type": "code",
   "execution_count": 5,
   "metadata": {
    "scrolled": true
   },
   "outputs": [
    {
     "name": "stdout",
     "output_type": "stream",
     "text": [
      "D:\\jupyter\\wooji\\ORATS\\parquet\\2014\\ORATS_SMV_Stries_201401.parquet done!\n",
      "D:\\jupyter\\wooji\\ORATS\\parquet\\2014\\ORATS_SMV_Stries_201402.parquet done!\n",
      "D:\\jupyter\\wooji\\ORATS\\parquet\\2014\\ORATS_SMV_Stries_201403.parquet done!\n",
      "D:\\jupyter\\wooji\\ORATS\\parquet\\2014\\ORATS_SMV_Stries_201404.parquet done!\n",
      "D:\\jupyter\\wooji\\ORATS\\parquet\\2014\\ORATS_SMV_Stries_201405.parquet done!\n",
      "D:\\jupyter\\wooji\\ORATS\\parquet\\2014\\ORATS_SMV_Stries_201406.parquet done!\n",
      "D:\\jupyter\\wooji\\ORATS\\parquet\\2014\\ORATS_SMV_Stries_201407.parquet done!\n",
      "D:\\jupyter\\wooji\\ORATS\\parquet\\2014\\ORATS_SMV_Stries_201408.parquet done!\n",
      "D:\\jupyter\\wooji\\ORATS\\parquet\\2014\\ORATS_SMV_Stries_201409.parquet done!\n",
      "D:\\jupyter\\wooji\\ORATS\\parquet\\2014\\ORATS_SMV_Stries_201410.parquet done!\n",
      "D:\\jupyter\\wooji\\ORATS\\parquet\\2014\\ORATS_SMV_Stries_201411.parquet done!\n",
      "D:\\jupyter\\wooji\\ORATS\\parquet\\2014\\ORATS_SMV_Stries_201412.parquet done!\n",
      "D:\\jupyter\\wooji\\ORATS\\parquet\\2015\\ORATS_SMV_Stries_201501.parquet done!\n",
      "D:\\jupyter\\wooji\\ORATS\\parquet\\2015\\ORATS_SMV_Stries_201502.parquet done!\n",
      "D:\\jupyter\\wooji\\ORATS\\parquet\\2015\\ORATS_SMV_Stries_201503.parquet done!\n",
      "D:\\jupyter\\wooji\\ORATS\\parquet\\2015\\ORATS_SMV_Stries_201504.parquet done!\n",
      "D:\\jupyter\\wooji\\ORATS\\parquet\\2015\\ORATS_SMV_Stries_201505.parquet done!\n",
      "D:\\jupyter\\wooji\\ORATS\\parquet\\2015\\ORATS_SMV_Stries_201506.parquet done!\n",
      "D:\\jupyter\\wooji\\ORATS\\parquet\\2015\\ORATS_SMV_Stries_201507.parquet done!\n",
      "D:\\jupyter\\wooji\\ORATS\\parquet\\2015\\ORATS_SMV_Stries_201508.parquet done!\n",
      "D:\\jupyter\\wooji\\ORATS\\parquet\\2015\\ORATS_SMV_Stries_201509.parquet done!\n",
      "D:\\jupyter\\wooji\\ORATS\\parquet\\2015\\ORATS_SMV_Stries_201510.parquet done!\n",
      "D:\\jupyter\\wooji\\ORATS\\parquet\\2015\\ORATS_SMV_Stries_201511.parquet done!\n",
      "D:\\jupyter\\wooji\\ORATS\\parquet\\2015\\ORATS_SMV_Stries_201512.parquet done!\n",
      "D:\\jupyter\\wooji\\ORATS\\parquet\\2016\\ORATS_SMV_Stries_201601.parquet done!\n",
      "D:\\jupyter\\wooji\\ORATS\\parquet\\2016\\ORATS_SMV_Stries_201602.parquet done!\n",
      "D:\\jupyter\\wooji\\ORATS\\parquet\\2016\\ORATS_SMV_Stries_201603.parquet done!\n",
      "D:\\jupyter\\wooji\\ORATS\\parquet\\2016\\ORATS_SMV_Stries_201604.parquet done!\n",
      "D:\\jupyter\\wooji\\ORATS\\parquet\\2016\\ORATS_SMV_Stries_201605.parquet done!\n",
      "D:\\jupyter\\wooji\\ORATS\\parquet\\2016\\ORATS_SMV_Stries_201606.parquet done!\n",
      "D:\\jupyter\\wooji\\ORATS\\parquet\\2016\\ORATS_SMV_Stries_201607.parquet done!\n",
      "D:\\jupyter\\wooji\\ORATS\\parquet\\2016\\ORATS_SMV_Stries_201608.parquet done!\n",
      "D:\\jupyter\\wooji\\ORATS\\parquet\\2016\\ORATS_SMV_Stries_201609.parquet done!\n",
      "D:\\jupyter\\wooji\\ORATS\\parquet\\2016\\ORATS_SMV_Stries_201610.parquet done!\n",
      "D:\\jupyter\\wooji\\ORATS\\parquet\\2016\\ORATS_SMV_Stries_201611.parquet done!\n",
      "D:\\jupyter\\wooji\\ORATS\\parquet\\2016\\ORATS_SMV_Stries_201612.parquet done!\n",
      "D:\\jupyter\\wooji\\ORATS\\parquet\\2017\\ORATS_SMV_Stries_201701.parquet done!\n",
      "D:\\jupyter\\wooji\\ORATS\\parquet\\2017\\ORATS_SMV_Stries_201702.parquet done!\n",
      "D:\\jupyter\\wooji\\ORATS\\parquet\\2017\\ORATS_SMV_Stries_201703.parquet done!\n",
      "D:\\jupyter\\wooji\\ORATS\\parquet\\2017\\ORATS_SMV_Stries_201704.parquet done!\n",
      "D:\\jupyter\\wooji\\ORATS\\parquet\\2017\\ORATS_SMV_Stries_201705.parquet done!\n",
      "D:\\jupyter\\wooji\\ORATS\\parquet\\2017\\ORATS_SMV_Stries_201706.parquet done!\n",
      "D:\\jupyter\\wooji\\ORATS\\parquet\\2017\\ORATS_SMV_Stries_201707.parquet done!\n",
      "D:\\jupyter\\wooji\\ORATS\\parquet\\2017\\ORATS_SMV_Stries_201708.parquet done!\n",
      "D:\\jupyter\\wooji\\ORATS\\parquet\\2017\\ORATS_SMV_Stries_201709.parquet done!\n",
      "D:\\jupyter\\wooji\\ORATS\\parquet\\2017\\ORATS_SMV_Stries_201710.parquet done!\n",
      "D:\\jupyter\\wooji\\ORATS\\parquet\\2017\\ORATS_SMV_Stries_201711.parquet done!\n",
      "D:\\jupyter\\wooji\\ORATS\\parquet\\2017\\ORATS_SMV_Stries_201712.parquet done!\n",
      "D:\\jupyter\\wooji\\ORATS\\parquet\\2018\\ORATS_SMV_Stries_201801.parquet done!\n",
      "D:\\jupyter\\wooji\\ORATS\\parquet\\2018\\ORATS_SMV_Stries_201802.parquet done!\n",
      "D:\\jupyter\\wooji\\ORATS\\parquet\\2018\\ORATS_SMV_Stries_201803.parquet done!\n",
      "D:\\jupyter\\wooji\\ORATS\\parquet\\2018\\ORATS_SMV_Stries_201804.parquet done!\n",
      "D:\\jupyter\\wooji\\ORATS\\parquet\\2018\\ORATS_SMV_Stries_201805.parquet done!\n",
      "D:\\jupyter\\wooji\\ORATS\\parquet\\2018\\ORATS_SMV_Stries_201806.parquet done!\n",
      "D:\\jupyter\\wooji\\ORATS\\parquet\\2018\\ORATS_SMV_Stries_201807.parquet done!\n",
      "D:\\jupyter\\wooji\\ORATS\\parquet\\2018\\ORATS_SMV_Stries_201808.parquet done!\n",
      "D:\\jupyter\\wooji\\ORATS\\parquet\\2018\\ORATS_SMV_Stries_201809.parquet done!\n",
      "D:\\jupyter\\wooji\\ORATS\\parquet\\2018\\ORATS_SMV_Stries_201810.parquet done!\n",
      "D:\\jupyter\\wooji\\ORATS\\parquet\\2018\\ORATS_SMV_Stries_201811.parquet done!\n",
      "D:\\jupyter\\wooji\\ORATS\\parquet\\2018\\ORATS_SMV_Stries_201812.parquet done!\n",
      "D:\\jupyter\\wooji\\ORATS\\parquet\\2019\\ORATS_SMV_Stries_201901.parquet done!\n",
      "D:\\jupyter\\wooji\\ORATS\\parquet\\2019\\ORATS_SMV_Stries_201902.parquet done!\n",
      "D:\\jupyter\\wooji\\ORATS\\parquet\\2019\\ORATS_SMV_Stries_201903.parquet done!\n",
      "D:\\jupyter\\wooji\\ORATS\\parquet\\2019\\ORATS_SMV_Stries_201904.parquet done!\n",
      "D:\\jupyter\\wooji\\ORATS\\parquet\\2019\\ORATS_SMV_Stries_201905.parquet done!\n",
      "D:\\jupyter\\wooji\\ORATS\\parquet\\2019\\ORATS_SMV_Stries_201906.parquet done!\n",
      "D:\\jupyter\\wooji\\ORATS\\parquet\\2019\\ORATS_SMV_Stries_201907.parquet done!\n",
      "D:\\jupyter\\wooji\\ORATS\\parquet\\2019\\ORATS_SMV_Stries_201908.parquet done!\n",
      "D:\\jupyter\\wooji\\ORATS\\parquet\\2019\\ORATS_SMV_Stries_201909.parquet done!\n",
      "D:\\jupyter\\wooji\\ORATS\\parquet\\2019\\ORATS_SMV_Stries_201910.parquet done!\n",
      "D:\\jupyter\\wooji\\ORATS\\parquet\\2019\\ORATS_SMV_Stries_201911.parquet done!\n",
      "D:\\jupyter\\wooji\\ORATS\\parquet\\2019\\ORATS_SMV_Stries_201912.parquet done!\n",
      "D:\\jupyter\\wooji\\ORATS\\parquet\\2020\\ORATS_SMV_Stries_202001.parquet done!\n",
      "D:\\jupyter\\wooji\\ORATS\\parquet\\2020\\ORATS_SMV_Stries_202002.parquet done!\n",
      "D:\\jupyter\\wooji\\ORATS\\parquet\\2020\\ORATS_SMV_Stries_202003.parquet done!\n",
      "D:\\jupyter\\wooji\\ORATS\\parquet\\2020\\ORATS_SMV_Stries_202004.parquet done!\n",
      "D:\\jupyter\\wooji\\ORATS\\parquet\\2020\\ORATS_SMV_Stries_202005.parquet done!\n",
      "D:\\jupyter\\wooji\\ORATS\\parquet\\2020\\ORATS_SMV_Stries_202006.parquet done!\n",
      "D:\\jupyter\\wooji\\ORATS\\parquet\\2020\\ORATS_SMV_Stries_202007.parquet done!\n",
      "D:\\jupyter\\wooji\\ORATS\\parquet\\2020\\ORATS_SMV_Stries_202008.parquet done!\n",
      "D:\\jupyter\\wooji\\ORATS\\parquet\\2020\\ORATS_SMV_Stries_202009.parquet done!\n",
      "D:\\jupyter\\wooji\\ORATS\\parquet\\2020\\ORATS_SMV_Stries_202010.parquet done!\n",
      "D:\\jupyter\\wooji\\ORATS\\parquet\\2020\\ORATS_SMV_Stries_202011.parquet done!\n",
      "D:\\jupyter\\wooji\\ORATS\\parquet\\2020\\ORATS_SMV_Stries_202012.parquet done!\n",
      "D:\\jupyter\\wooji\\ORATS\\parquet\\2021\\ORATS_SMV_Stries_202101.parquet done!\n",
      "D:\\jupyter\\wooji\\ORATS\\parquet\\2021\\ORATS_SMV_Stries_202102.parquet done!\n",
      "D:\\jupyter\\wooji\\ORATS\\parquet\\2021\\ORATS_SMV_Stries_202103.parquet done!\n",
      "D:\\jupyter\\wooji\\ORATS\\parquet\\2021\\ORATS_SMV_Stries_202104.parquet done!\n",
      "D:\\jupyter\\wooji\\ORATS\\parquet\\2021\\ORATS_SMV_Stries_202105.parquet done!\n"
     ]
    }
   ],
   "source": [
    "optiondata = read_optiondata_by_ticker(filelist,tickers[60:120])\n",
    "filename = '120SymbolUniv_14_21.parquet'\n",
    "file_address = os.path.join(tickerdata_dir, filename)\n",
    "optiondata.to_parquet(file_address)"
   ]
  },
  {
   "cell_type": "code",
   "execution_count": 5,
   "metadata": {
    "scrolled": true
   },
   "outputs": [
    {
     "name": "stdout",
     "output_type": "stream",
     "text": [
      "D:\\jupyter\\wooji\\ORATS\\parquet\\2014\\ORATS_SMV_Stries_201401.parquet done!\n",
      "D:\\jupyter\\wooji\\ORATS\\parquet\\2014\\ORATS_SMV_Stries_201402.parquet done!\n",
      "D:\\jupyter\\wooji\\ORATS\\parquet\\2014\\ORATS_SMV_Stries_201403.parquet done!\n",
      "D:\\jupyter\\wooji\\ORATS\\parquet\\2014\\ORATS_SMV_Stries_201404.parquet done!\n",
      "D:\\jupyter\\wooji\\ORATS\\parquet\\2014\\ORATS_SMV_Stries_201405.parquet done!\n",
      "D:\\jupyter\\wooji\\ORATS\\parquet\\2014\\ORATS_SMV_Stries_201406.parquet done!\n",
      "D:\\jupyter\\wooji\\ORATS\\parquet\\2014\\ORATS_SMV_Stries_201407.parquet done!\n",
      "D:\\jupyter\\wooji\\ORATS\\parquet\\2014\\ORATS_SMV_Stries_201408.parquet done!\n",
      "D:\\jupyter\\wooji\\ORATS\\parquet\\2014\\ORATS_SMV_Stries_201409.parquet done!\n",
      "D:\\jupyter\\wooji\\ORATS\\parquet\\2014\\ORATS_SMV_Stries_201410.parquet done!\n",
      "D:\\jupyter\\wooji\\ORATS\\parquet\\2014\\ORATS_SMV_Stries_201411.parquet done!\n",
      "D:\\jupyter\\wooji\\ORATS\\parquet\\2014\\ORATS_SMV_Stries_201412.parquet done!\n",
      "D:\\jupyter\\wooji\\ORATS\\parquet\\2015\\ORATS_SMV_Stries_201501.parquet done!\n",
      "D:\\jupyter\\wooji\\ORATS\\parquet\\2015\\ORATS_SMV_Stries_201502.parquet done!\n",
      "D:\\jupyter\\wooji\\ORATS\\parquet\\2015\\ORATS_SMV_Stries_201503.parquet done!\n",
      "D:\\jupyter\\wooji\\ORATS\\parquet\\2015\\ORATS_SMV_Stries_201504.parquet done!\n",
      "D:\\jupyter\\wooji\\ORATS\\parquet\\2015\\ORATS_SMV_Stries_201505.parquet done!\n",
      "D:\\jupyter\\wooji\\ORATS\\parquet\\2015\\ORATS_SMV_Stries_201506.parquet done!\n",
      "D:\\jupyter\\wooji\\ORATS\\parquet\\2015\\ORATS_SMV_Stries_201507.parquet done!\n",
      "D:\\jupyter\\wooji\\ORATS\\parquet\\2015\\ORATS_SMV_Stries_201508.parquet done!\n",
      "D:\\jupyter\\wooji\\ORATS\\parquet\\2015\\ORATS_SMV_Stries_201509.parquet done!\n",
      "D:\\jupyter\\wooji\\ORATS\\parquet\\2015\\ORATS_SMV_Stries_201510.parquet done!\n",
      "D:\\jupyter\\wooji\\ORATS\\parquet\\2015\\ORATS_SMV_Stries_201511.parquet done!\n",
      "D:\\jupyter\\wooji\\ORATS\\parquet\\2015\\ORATS_SMV_Stries_201512.parquet done!\n",
      "D:\\jupyter\\wooji\\ORATS\\parquet\\2016\\ORATS_SMV_Stries_201601.parquet done!\n",
      "D:\\jupyter\\wooji\\ORATS\\parquet\\2016\\ORATS_SMV_Stries_201602.parquet done!\n",
      "D:\\jupyter\\wooji\\ORATS\\parquet\\2016\\ORATS_SMV_Stries_201603.parquet done!\n",
      "D:\\jupyter\\wooji\\ORATS\\parquet\\2016\\ORATS_SMV_Stries_201604.parquet done!\n",
      "D:\\jupyter\\wooji\\ORATS\\parquet\\2016\\ORATS_SMV_Stries_201605.parquet done!\n",
      "D:\\jupyter\\wooji\\ORATS\\parquet\\2016\\ORATS_SMV_Stries_201606.parquet done!\n",
      "D:\\jupyter\\wooji\\ORATS\\parquet\\2016\\ORATS_SMV_Stries_201607.parquet done!\n",
      "D:\\jupyter\\wooji\\ORATS\\parquet\\2016\\ORATS_SMV_Stries_201608.parquet done!\n",
      "D:\\jupyter\\wooji\\ORATS\\parquet\\2016\\ORATS_SMV_Stries_201609.parquet done!\n",
      "D:\\jupyter\\wooji\\ORATS\\parquet\\2016\\ORATS_SMV_Stries_201610.parquet done!\n",
      "D:\\jupyter\\wooji\\ORATS\\parquet\\2016\\ORATS_SMV_Stries_201611.parquet done!\n",
      "D:\\jupyter\\wooji\\ORATS\\parquet\\2016\\ORATS_SMV_Stries_201612.parquet done!\n",
      "D:\\jupyter\\wooji\\ORATS\\parquet\\2017\\ORATS_SMV_Stries_201701.parquet done!\n",
      "D:\\jupyter\\wooji\\ORATS\\parquet\\2017\\ORATS_SMV_Stries_201702.parquet done!\n",
      "D:\\jupyter\\wooji\\ORATS\\parquet\\2017\\ORATS_SMV_Stries_201703.parquet done!\n",
      "D:\\jupyter\\wooji\\ORATS\\parquet\\2017\\ORATS_SMV_Stries_201704.parquet done!\n",
      "D:\\jupyter\\wooji\\ORATS\\parquet\\2017\\ORATS_SMV_Stries_201705.parquet done!\n",
      "D:\\jupyter\\wooji\\ORATS\\parquet\\2017\\ORATS_SMV_Stries_201706.parquet done!\n",
      "D:\\jupyter\\wooji\\ORATS\\parquet\\2017\\ORATS_SMV_Stries_201707.parquet done!\n",
      "D:\\jupyter\\wooji\\ORATS\\parquet\\2017\\ORATS_SMV_Stries_201708.parquet done!\n",
      "D:\\jupyter\\wooji\\ORATS\\parquet\\2017\\ORATS_SMV_Stries_201709.parquet done!\n",
      "D:\\jupyter\\wooji\\ORATS\\parquet\\2017\\ORATS_SMV_Stries_201710.parquet done!\n",
      "D:\\jupyter\\wooji\\ORATS\\parquet\\2017\\ORATS_SMV_Stries_201711.parquet done!\n",
      "D:\\jupyter\\wooji\\ORATS\\parquet\\2017\\ORATS_SMV_Stries_201712.parquet done!\n",
      "D:\\jupyter\\wooji\\ORATS\\parquet\\2018\\ORATS_SMV_Stries_201801.parquet done!\n",
      "D:\\jupyter\\wooji\\ORATS\\parquet\\2018\\ORATS_SMV_Stries_201802.parquet done!\n",
      "D:\\jupyter\\wooji\\ORATS\\parquet\\2018\\ORATS_SMV_Stries_201803.parquet done!\n",
      "D:\\jupyter\\wooji\\ORATS\\parquet\\2018\\ORATS_SMV_Stries_201804.parquet done!\n",
      "D:\\jupyter\\wooji\\ORATS\\parquet\\2018\\ORATS_SMV_Stries_201805.parquet done!\n",
      "D:\\jupyter\\wooji\\ORATS\\parquet\\2018\\ORATS_SMV_Stries_201806.parquet done!\n",
      "D:\\jupyter\\wooji\\ORATS\\parquet\\2018\\ORATS_SMV_Stries_201807.parquet done!\n",
      "D:\\jupyter\\wooji\\ORATS\\parquet\\2018\\ORATS_SMV_Stries_201808.parquet done!\n",
      "D:\\jupyter\\wooji\\ORATS\\parquet\\2018\\ORATS_SMV_Stries_201809.parquet done!\n",
      "D:\\jupyter\\wooji\\ORATS\\parquet\\2018\\ORATS_SMV_Stries_201810.parquet done!\n",
      "D:\\jupyter\\wooji\\ORATS\\parquet\\2018\\ORATS_SMV_Stries_201811.parquet done!\n",
      "D:\\jupyter\\wooji\\ORATS\\parquet\\2018\\ORATS_SMV_Stries_201812.parquet done!\n",
      "D:\\jupyter\\wooji\\ORATS\\parquet\\2019\\ORATS_SMV_Stries_201901.parquet done!\n",
      "D:\\jupyter\\wooji\\ORATS\\parquet\\2019\\ORATS_SMV_Stries_201902.parquet done!\n",
      "D:\\jupyter\\wooji\\ORATS\\parquet\\2019\\ORATS_SMV_Stries_201903.parquet done!\n",
      "D:\\jupyter\\wooji\\ORATS\\parquet\\2019\\ORATS_SMV_Stries_201904.parquet done!\n",
      "D:\\jupyter\\wooji\\ORATS\\parquet\\2019\\ORATS_SMV_Stries_201905.parquet done!\n",
      "D:\\jupyter\\wooji\\ORATS\\parquet\\2019\\ORATS_SMV_Stries_201906.parquet done!\n",
      "D:\\jupyter\\wooji\\ORATS\\parquet\\2019\\ORATS_SMV_Stries_201907.parquet done!\n",
      "D:\\jupyter\\wooji\\ORATS\\parquet\\2019\\ORATS_SMV_Stries_201908.parquet done!\n",
      "D:\\jupyter\\wooji\\ORATS\\parquet\\2019\\ORATS_SMV_Stries_201909.parquet done!\n",
      "D:\\jupyter\\wooji\\ORATS\\parquet\\2019\\ORATS_SMV_Stries_201910.parquet done!\n",
      "D:\\jupyter\\wooji\\ORATS\\parquet\\2019\\ORATS_SMV_Stries_201911.parquet done!\n",
      "D:\\jupyter\\wooji\\ORATS\\parquet\\2019\\ORATS_SMV_Stries_201912.parquet done!\n",
      "D:\\jupyter\\wooji\\ORATS\\parquet\\2020\\ORATS_SMV_Stries_202001.parquet done!\n",
      "D:\\jupyter\\wooji\\ORATS\\parquet\\2020\\ORATS_SMV_Stries_202002.parquet done!\n",
      "D:\\jupyter\\wooji\\ORATS\\parquet\\2020\\ORATS_SMV_Stries_202003.parquet done!\n",
      "D:\\jupyter\\wooji\\ORATS\\parquet\\2020\\ORATS_SMV_Stries_202004.parquet done!\n",
      "D:\\jupyter\\wooji\\ORATS\\parquet\\2020\\ORATS_SMV_Stries_202005.parquet done!\n",
      "D:\\jupyter\\wooji\\ORATS\\parquet\\2020\\ORATS_SMV_Stries_202006.parquet done!\n",
      "D:\\jupyter\\wooji\\ORATS\\parquet\\2020\\ORATS_SMV_Stries_202007.parquet done!\n",
      "D:\\jupyter\\wooji\\ORATS\\parquet\\2020\\ORATS_SMV_Stries_202008.parquet done!\n",
      "D:\\jupyter\\wooji\\ORATS\\parquet\\2020\\ORATS_SMV_Stries_202009.parquet done!\n",
      "D:\\jupyter\\wooji\\ORATS\\parquet\\2020\\ORATS_SMV_Stries_202010.parquet done!\n",
      "D:\\jupyter\\wooji\\ORATS\\parquet\\2020\\ORATS_SMV_Stries_202011.parquet done!\n",
      "D:\\jupyter\\wooji\\ORATS\\parquet\\2020\\ORATS_SMV_Stries_202012.parquet done!\n",
      "D:\\jupyter\\wooji\\ORATS\\parquet\\2021\\ORATS_SMV_Stries_202101.parquet done!\n",
      "D:\\jupyter\\wooji\\ORATS\\parquet\\2021\\ORATS_SMV_Stries_202102.parquet done!\n",
      "D:\\jupyter\\wooji\\ORATS\\parquet\\2021\\ORATS_SMV_Stries_202103.parquet done!\n",
      "D:\\jupyter\\wooji\\ORATS\\parquet\\2021\\ORATS_SMV_Stries_202104.parquet done!\n",
      "D:\\jupyter\\wooji\\ORATS\\parquet\\2021\\ORATS_SMV_Stries_202105.parquet done!\n"
     ]
    }
   ],
   "source": [
    "filename = '180SymbolUniv_14_21.parquet'\n",
    "file_address = os.path.join(tickerdata_dir, filename)\n",
    "read_optiondata_by_ticker(filelist,tickers[120:180], file_address)"
   ]
  },
  {
   "cell_type": "code",
   "execution_count": 5,
   "metadata": {
    "scrolled": true
   },
   "outputs": [
    {
     "name": "stdout",
     "output_type": "stream",
     "text": [
      "D:\\jupyter\\wooji\\ORATS\\parquet\\2014\\ORATS_SMV_Stries_201401.parquet done!\n",
      "D:\\jupyter\\wooji\\ORATS\\parquet\\2014\\ORATS_SMV_Stries_201402.parquet done!\n",
      "D:\\jupyter\\wooji\\ORATS\\parquet\\2014\\ORATS_SMV_Stries_201403.parquet done!\n",
      "D:\\jupyter\\wooji\\ORATS\\parquet\\2014\\ORATS_SMV_Stries_201404.parquet done!\n",
      "D:\\jupyter\\wooji\\ORATS\\parquet\\2014\\ORATS_SMV_Stries_201405.parquet done!\n",
      "D:\\jupyter\\wooji\\ORATS\\parquet\\2014\\ORATS_SMV_Stries_201406.parquet done!\n",
      "D:\\jupyter\\wooji\\ORATS\\parquet\\2014\\ORATS_SMV_Stries_201407.parquet done!\n",
      "D:\\jupyter\\wooji\\ORATS\\parquet\\2014\\ORATS_SMV_Stries_201408.parquet done!\n",
      "D:\\jupyter\\wooji\\ORATS\\parquet\\2014\\ORATS_SMV_Stries_201409.parquet done!\n",
      "D:\\jupyter\\wooji\\ORATS\\parquet\\2014\\ORATS_SMV_Stries_201410.parquet done!\n",
      "D:\\jupyter\\wooji\\ORATS\\parquet\\2014\\ORATS_SMV_Stries_201411.parquet done!\n",
      "D:\\jupyter\\wooji\\ORATS\\parquet\\2014\\ORATS_SMV_Stries_201412.parquet done!\n",
      "D:\\jupyter\\wooji\\ORATS\\parquet\\2015\\ORATS_SMV_Stries_201501.parquet done!\n",
      "D:\\jupyter\\wooji\\ORATS\\parquet\\2015\\ORATS_SMV_Stries_201502.parquet done!\n",
      "D:\\jupyter\\wooji\\ORATS\\parquet\\2015\\ORATS_SMV_Stries_201503.parquet done!\n",
      "D:\\jupyter\\wooji\\ORATS\\parquet\\2015\\ORATS_SMV_Stries_201504.parquet done!\n",
      "D:\\jupyter\\wooji\\ORATS\\parquet\\2015\\ORATS_SMV_Stries_201505.parquet done!\n",
      "D:\\jupyter\\wooji\\ORATS\\parquet\\2015\\ORATS_SMV_Stries_201506.parquet done!\n",
      "D:\\jupyter\\wooji\\ORATS\\parquet\\2015\\ORATS_SMV_Stries_201507.parquet done!\n",
      "D:\\jupyter\\wooji\\ORATS\\parquet\\2015\\ORATS_SMV_Stries_201508.parquet done!\n",
      "D:\\jupyter\\wooji\\ORATS\\parquet\\2015\\ORATS_SMV_Stries_201509.parquet done!\n",
      "D:\\jupyter\\wooji\\ORATS\\parquet\\2015\\ORATS_SMV_Stries_201510.parquet done!\n",
      "D:\\jupyter\\wooji\\ORATS\\parquet\\2015\\ORATS_SMV_Stries_201511.parquet done!\n",
      "D:\\jupyter\\wooji\\ORATS\\parquet\\2015\\ORATS_SMV_Stries_201512.parquet done!\n",
      "D:\\jupyter\\wooji\\ORATS\\parquet\\2016\\ORATS_SMV_Stries_201601.parquet done!\n",
      "D:\\jupyter\\wooji\\ORATS\\parquet\\2016\\ORATS_SMV_Stries_201602.parquet done!\n",
      "D:\\jupyter\\wooji\\ORATS\\parquet\\2016\\ORATS_SMV_Stries_201603.parquet done!\n",
      "D:\\jupyter\\wooji\\ORATS\\parquet\\2016\\ORATS_SMV_Stries_201604.parquet done!\n",
      "D:\\jupyter\\wooji\\ORATS\\parquet\\2016\\ORATS_SMV_Stries_201605.parquet done!\n",
      "D:\\jupyter\\wooji\\ORATS\\parquet\\2016\\ORATS_SMV_Stries_201606.parquet done!\n",
      "D:\\jupyter\\wooji\\ORATS\\parquet\\2016\\ORATS_SMV_Stries_201607.parquet done!\n",
      "D:\\jupyter\\wooji\\ORATS\\parquet\\2016\\ORATS_SMV_Stries_201608.parquet done!\n",
      "D:\\jupyter\\wooji\\ORATS\\parquet\\2016\\ORATS_SMV_Stries_201609.parquet done!\n",
      "D:\\jupyter\\wooji\\ORATS\\parquet\\2016\\ORATS_SMV_Stries_201610.parquet done!\n",
      "D:\\jupyter\\wooji\\ORATS\\parquet\\2016\\ORATS_SMV_Stries_201611.parquet done!\n",
      "D:\\jupyter\\wooji\\ORATS\\parquet\\2016\\ORATS_SMV_Stries_201612.parquet done!\n",
      "D:\\jupyter\\wooji\\ORATS\\parquet\\2017\\ORATS_SMV_Stries_201701.parquet done!\n",
      "D:\\jupyter\\wooji\\ORATS\\parquet\\2017\\ORATS_SMV_Stries_201702.parquet done!\n",
      "D:\\jupyter\\wooji\\ORATS\\parquet\\2017\\ORATS_SMV_Stries_201703.parquet done!\n",
      "D:\\jupyter\\wooji\\ORATS\\parquet\\2017\\ORATS_SMV_Stries_201704.parquet done!\n",
      "D:\\jupyter\\wooji\\ORATS\\parquet\\2017\\ORATS_SMV_Stries_201705.parquet done!\n",
      "D:\\jupyter\\wooji\\ORATS\\parquet\\2017\\ORATS_SMV_Stries_201706.parquet done!\n",
      "D:\\jupyter\\wooji\\ORATS\\parquet\\2017\\ORATS_SMV_Stries_201707.parquet done!\n",
      "D:\\jupyter\\wooji\\ORATS\\parquet\\2017\\ORATS_SMV_Stries_201708.parquet done!\n",
      "D:\\jupyter\\wooji\\ORATS\\parquet\\2017\\ORATS_SMV_Stries_201709.parquet done!\n",
      "D:\\jupyter\\wooji\\ORATS\\parquet\\2017\\ORATS_SMV_Stries_201710.parquet done!\n",
      "D:\\jupyter\\wooji\\ORATS\\parquet\\2017\\ORATS_SMV_Stries_201711.parquet done!\n",
      "D:\\jupyter\\wooji\\ORATS\\parquet\\2017\\ORATS_SMV_Stries_201712.parquet done!\n",
      "D:\\jupyter\\wooji\\ORATS\\parquet\\2018\\ORATS_SMV_Stries_201801.parquet done!\n",
      "D:\\jupyter\\wooji\\ORATS\\parquet\\2018\\ORATS_SMV_Stries_201802.parquet done!\n",
      "D:\\jupyter\\wooji\\ORATS\\parquet\\2018\\ORATS_SMV_Stries_201803.parquet done!\n",
      "D:\\jupyter\\wooji\\ORATS\\parquet\\2018\\ORATS_SMV_Stries_201804.parquet done!\n",
      "D:\\jupyter\\wooji\\ORATS\\parquet\\2018\\ORATS_SMV_Stries_201805.parquet done!\n",
      "D:\\jupyter\\wooji\\ORATS\\parquet\\2018\\ORATS_SMV_Stries_201806.parquet done!\n",
      "D:\\jupyter\\wooji\\ORATS\\parquet\\2018\\ORATS_SMV_Stries_201807.parquet done!\n",
      "D:\\jupyter\\wooji\\ORATS\\parquet\\2018\\ORATS_SMV_Stries_201808.parquet done!\n",
      "D:\\jupyter\\wooji\\ORATS\\parquet\\2018\\ORATS_SMV_Stries_201809.parquet done!\n",
      "D:\\jupyter\\wooji\\ORATS\\parquet\\2018\\ORATS_SMV_Stries_201810.parquet done!\n",
      "D:\\jupyter\\wooji\\ORATS\\parquet\\2018\\ORATS_SMV_Stries_201811.parquet done!\n",
      "D:\\jupyter\\wooji\\ORATS\\parquet\\2018\\ORATS_SMV_Stries_201812.parquet done!\n",
      "D:\\jupyter\\wooji\\ORATS\\parquet\\2019\\ORATS_SMV_Stries_201901.parquet done!\n",
      "D:\\jupyter\\wooji\\ORATS\\parquet\\2019\\ORATS_SMV_Stries_201902.parquet done!\n",
      "D:\\jupyter\\wooji\\ORATS\\parquet\\2019\\ORATS_SMV_Stries_201903.parquet done!\n",
      "D:\\jupyter\\wooji\\ORATS\\parquet\\2019\\ORATS_SMV_Stries_201904.parquet done!\n",
      "D:\\jupyter\\wooji\\ORATS\\parquet\\2019\\ORATS_SMV_Stries_201905.parquet done!\n",
      "D:\\jupyter\\wooji\\ORATS\\parquet\\2019\\ORATS_SMV_Stries_201906.parquet done!\n",
      "D:\\jupyter\\wooji\\ORATS\\parquet\\2019\\ORATS_SMV_Stries_201907.parquet done!\n",
      "D:\\jupyter\\wooji\\ORATS\\parquet\\2019\\ORATS_SMV_Stries_201908.parquet done!\n",
      "D:\\jupyter\\wooji\\ORATS\\parquet\\2019\\ORATS_SMV_Stries_201909.parquet done!\n",
      "D:\\jupyter\\wooji\\ORATS\\parquet\\2019\\ORATS_SMV_Stries_201910.parquet done!\n",
      "D:\\jupyter\\wooji\\ORATS\\parquet\\2019\\ORATS_SMV_Stries_201911.parquet done!\n",
      "D:\\jupyter\\wooji\\ORATS\\parquet\\2019\\ORATS_SMV_Stries_201912.parquet done!\n",
      "D:\\jupyter\\wooji\\ORATS\\parquet\\2020\\ORATS_SMV_Stries_202001.parquet done!\n",
      "D:\\jupyter\\wooji\\ORATS\\parquet\\2020\\ORATS_SMV_Stries_202002.parquet done!\n",
      "D:\\jupyter\\wooji\\ORATS\\parquet\\2020\\ORATS_SMV_Stries_202003.parquet done!\n",
      "D:\\jupyter\\wooji\\ORATS\\parquet\\2020\\ORATS_SMV_Stries_202004.parquet done!\n",
      "D:\\jupyter\\wooji\\ORATS\\parquet\\2020\\ORATS_SMV_Stries_202005.parquet done!\n",
      "D:\\jupyter\\wooji\\ORATS\\parquet\\2020\\ORATS_SMV_Stries_202006.parquet done!\n",
      "D:\\jupyter\\wooji\\ORATS\\parquet\\2020\\ORATS_SMV_Stries_202007.parquet done!\n",
      "D:\\jupyter\\wooji\\ORATS\\parquet\\2020\\ORATS_SMV_Stries_202008.parquet done!\n",
      "D:\\jupyter\\wooji\\ORATS\\parquet\\2020\\ORATS_SMV_Stries_202009.parquet done!\n",
      "D:\\jupyter\\wooji\\ORATS\\parquet\\2020\\ORATS_SMV_Stries_202010.parquet done!\n",
      "D:\\jupyter\\wooji\\ORATS\\parquet\\2020\\ORATS_SMV_Stries_202011.parquet done!\n",
      "D:\\jupyter\\wooji\\ORATS\\parquet\\2020\\ORATS_SMV_Stries_202012.parquet done!\n",
      "D:\\jupyter\\wooji\\ORATS\\parquet\\2021\\ORATS_SMV_Stries_202101.parquet done!\n",
      "D:\\jupyter\\wooji\\ORATS\\parquet\\2021\\ORATS_SMV_Stries_202102.parquet done!\n",
      "D:\\jupyter\\wooji\\ORATS\\parquet\\2021\\ORATS_SMV_Stries_202103.parquet done!\n",
      "D:\\jupyter\\wooji\\ORATS\\parquet\\2021\\ORATS_SMV_Stries_202104.parquet done!\n",
      "D:\\jupyter\\wooji\\ORATS\\parquet\\2021\\ORATS_SMV_Stries_202105.parquet done!\n"
     ]
    }
   ],
   "source": [
    "optiondata = read_optiondata_by_ticker(filelist,tickers[180:240])\n",
    "filename = '240SymbolUniv_14_21.parquet'\n",
    "file_address = os.path.join(tickerdata_dir, filename)\n",
    "optiondata.to_parquet(file_address)"
   ]
  },
  {
   "cell_type": "code",
   "execution_count": 5,
   "metadata": {
    "scrolled": true
   },
   "outputs": [
    {
     "name": "stdout",
     "output_type": "stream",
     "text": [
      "D:\\jupyter\\wooji\\ORATS\\parquet\\2014\\ORATS_SMV_Stries_201401.parquet done!\n",
      "D:\\jupyter\\wooji\\ORATS\\parquet\\2014\\ORATS_SMV_Stries_201402.parquet done!\n",
      "D:\\jupyter\\wooji\\ORATS\\parquet\\2014\\ORATS_SMV_Stries_201403.parquet done!\n",
      "D:\\jupyter\\wooji\\ORATS\\parquet\\2014\\ORATS_SMV_Stries_201404.parquet done!\n",
      "D:\\jupyter\\wooji\\ORATS\\parquet\\2014\\ORATS_SMV_Stries_201405.parquet done!\n",
      "D:\\jupyter\\wooji\\ORATS\\parquet\\2014\\ORATS_SMV_Stries_201406.parquet done!\n",
      "D:\\jupyter\\wooji\\ORATS\\parquet\\2014\\ORATS_SMV_Stries_201407.parquet done!\n",
      "D:\\jupyter\\wooji\\ORATS\\parquet\\2014\\ORATS_SMV_Stries_201408.parquet done!\n",
      "D:\\jupyter\\wooji\\ORATS\\parquet\\2014\\ORATS_SMV_Stries_201409.parquet done!\n",
      "D:\\jupyter\\wooji\\ORATS\\parquet\\2014\\ORATS_SMV_Stries_201410.parquet done!\n",
      "D:\\jupyter\\wooji\\ORATS\\parquet\\2014\\ORATS_SMV_Stries_201411.parquet done!\n",
      "D:\\jupyter\\wooji\\ORATS\\parquet\\2014\\ORATS_SMV_Stries_201412.parquet done!\n",
      "D:\\jupyter\\wooji\\ORATS\\parquet\\2015\\ORATS_SMV_Stries_201501.parquet done!\n",
      "D:\\jupyter\\wooji\\ORATS\\parquet\\2015\\ORATS_SMV_Stries_201502.parquet done!\n",
      "D:\\jupyter\\wooji\\ORATS\\parquet\\2015\\ORATS_SMV_Stries_201503.parquet done!\n",
      "D:\\jupyter\\wooji\\ORATS\\parquet\\2015\\ORATS_SMV_Stries_201504.parquet done!\n",
      "D:\\jupyter\\wooji\\ORATS\\parquet\\2015\\ORATS_SMV_Stries_201505.parquet done!\n",
      "D:\\jupyter\\wooji\\ORATS\\parquet\\2015\\ORATS_SMV_Stries_201506.parquet done!\n",
      "D:\\jupyter\\wooji\\ORATS\\parquet\\2015\\ORATS_SMV_Stries_201507.parquet done!\n",
      "D:\\jupyter\\wooji\\ORATS\\parquet\\2015\\ORATS_SMV_Stries_201508.parquet done!\n",
      "D:\\jupyter\\wooji\\ORATS\\parquet\\2015\\ORATS_SMV_Stries_201509.parquet done!\n",
      "D:\\jupyter\\wooji\\ORATS\\parquet\\2015\\ORATS_SMV_Stries_201510.parquet done!\n",
      "D:\\jupyter\\wooji\\ORATS\\parquet\\2015\\ORATS_SMV_Stries_201511.parquet done!\n",
      "D:\\jupyter\\wooji\\ORATS\\parquet\\2015\\ORATS_SMV_Stries_201512.parquet done!\n",
      "D:\\jupyter\\wooji\\ORATS\\parquet\\2016\\ORATS_SMV_Stries_201601.parquet done!\n",
      "D:\\jupyter\\wooji\\ORATS\\parquet\\2016\\ORATS_SMV_Stries_201602.parquet done!\n",
      "D:\\jupyter\\wooji\\ORATS\\parquet\\2016\\ORATS_SMV_Stries_201603.parquet done!\n",
      "D:\\jupyter\\wooji\\ORATS\\parquet\\2016\\ORATS_SMV_Stries_201604.parquet done!\n",
      "D:\\jupyter\\wooji\\ORATS\\parquet\\2016\\ORATS_SMV_Stries_201605.parquet done!\n",
      "D:\\jupyter\\wooji\\ORATS\\parquet\\2016\\ORATS_SMV_Stries_201606.parquet done!\n",
      "D:\\jupyter\\wooji\\ORATS\\parquet\\2016\\ORATS_SMV_Stries_201607.parquet done!\n",
      "D:\\jupyter\\wooji\\ORATS\\parquet\\2016\\ORATS_SMV_Stries_201608.parquet done!\n",
      "D:\\jupyter\\wooji\\ORATS\\parquet\\2016\\ORATS_SMV_Stries_201609.parquet done!\n",
      "D:\\jupyter\\wooji\\ORATS\\parquet\\2016\\ORATS_SMV_Stries_201610.parquet done!\n",
      "D:\\jupyter\\wooji\\ORATS\\parquet\\2016\\ORATS_SMV_Stries_201611.parquet done!\n",
      "D:\\jupyter\\wooji\\ORATS\\parquet\\2016\\ORATS_SMV_Stries_201612.parquet done!\n",
      "D:\\jupyter\\wooji\\ORATS\\parquet\\2017\\ORATS_SMV_Stries_201701.parquet done!\n",
      "D:\\jupyter\\wooji\\ORATS\\parquet\\2017\\ORATS_SMV_Stries_201702.parquet done!\n",
      "D:\\jupyter\\wooji\\ORATS\\parquet\\2017\\ORATS_SMV_Stries_201703.parquet done!\n",
      "D:\\jupyter\\wooji\\ORATS\\parquet\\2017\\ORATS_SMV_Stries_201704.parquet done!\n",
      "D:\\jupyter\\wooji\\ORATS\\parquet\\2017\\ORATS_SMV_Stries_201705.parquet done!\n",
      "D:\\jupyter\\wooji\\ORATS\\parquet\\2017\\ORATS_SMV_Stries_201706.parquet done!\n",
      "D:\\jupyter\\wooji\\ORATS\\parquet\\2017\\ORATS_SMV_Stries_201707.parquet done!\n",
      "D:\\jupyter\\wooji\\ORATS\\parquet\\2017\\ORATS_SMV_Stries_201708.parquet done!\n",
      "D:\\jupyter\\wooji\\ORATS\\parquet\\2017\\ORATS_SMV_Stries_201709.parquet done!\n",
      "D:\\jupyter\\wooji\\ORATS\\parquet\\2017\\ORATS_SMV_Stries_201710.parquet done!\n",
      "D:\\jupyter\\wooji\\ORATS\\parquet\\2017\\ORATS_SMV_Stries_201711.parquet done!\n",
      "D:\\jupyter\\wooji\\ORATS\\parquet\\2017\\ORATS_SMV_Stries_201712.parquet done!\n",
      "D:\\jupyter\\wooji\\ORATS\\parquet\\2018\\ORATS_SMV_Stries_201801.parquet done!\n",
      "D:\\jupyter\\wooji\\ORATS\\parquet\\2018\\ORATS_SMV_Stries_201802.parquet done!\n",
      "D:\\jupyter\\wooji\\ORATS\\parquet\\2018\\ORATS_SMV_Stries_201803.parquet done!\n",
      "D:\\jupyter\\wooji\\ORATS\\parquet\\2018\\ORATS_SMV_Stries_201804.parquet done!\n",
      "D:\\jupyter\\wooji\\ORATS\\parquet\\2018\\ORATS_SMV_Stries_201805.parquet done!\n",
      "D:\\jupyter\\wooji\\ORATS\\parquet\\2018\\ORATS_SMV_Stries_201806.parquet done!\n",
      "D:\\jupyter\\wooji\\ORATS\\parquet\\2018\\ORATS_SMV_Stries_201807.parquet done!\n",
      "D:\\jupyter\\wooji\\ORATS\\parquet\\2018\\ORATS_SMV_Stries_201808.parquet done!\n",
      "D:\\jupyter\\wooji\\ORATS\\parquet\\2018\\ORATS_SMV_Stries_201809.parquet done!\n",
      "D:\\jupyter\\wooji\\ORATS\\parquet\\2018\\ORATS_SMV_Stries_201810.parquet done!\n",
      "D:\\jupyter\\wooji\\ORATS\\parquet\\2018\\ORATS_SMV_Stries_201811.parquet done!\n",
      "D:\\jupyter\\wooji\\ORATS\\parquet\\2018\\ORATS_SMV_Stries_201812.parquet done!\n",
      "D:\\jupyter\\wooji\\ORATS\\parquet\\2019\\ORATS_SMV_Stries_201901.parquet done!\n",
      "D:\\jupyter\\wooji\\ORATS\\parquet\\2019\\ORATS_SMV_Stries_201902.parquet done!\n",
      "D:\\jupyter\\wooji\\ORATS\\parquet\\2019\\ORATS_SMV_Stries_201903.parquet done!\n",
      "D:\\jupyter\\wooji\\ORATS\\parquet\\2019\\ORATS_SMV_Stries_201904.parquet done!\n",
      "D:\\jupyter\\wooji\\ORATS\\parquet\\2019\\ORATS_SMV_Stries_201905.parquet done!\n",
      "D:\\jupyter\\wooji\\ORATS\\parquet\\2019\\ORATS_SMV_Stries_201906.parquet done!\n",
      "D:\\jupyter\\wooji\\ORATS\\parquet\\2019\\ORATS_SMV_Stries_201907.parquet done!\n",
      "D:\\jupyter\\wooji\\ORATS\\parquet\\2019\\ORATS_SMV_Stries_201908.parquet done!\n",
      "D:\\jupyter\\wooji\\ORATS\\parquet\\2019\\ORATS_SMV_Stries_201909.parquet done!\n",
      "D:\\jupyter\\wooji\\ORATS\\parquet\\2019\\ORATS_SMV_Stries_201910.parquet done!\n",
      "D:\\jupyter\\wooji\\ORATS\\parquet\\2019\\ORATS_SMV_Stries_201911.parquet done!\n",
      "D:\\jupyter\\wooji\\ORATS\\parquet\\2019\\ORATS_SMV_Stries_201912.parquet done!\n",
      "D:\\jupyter\\wooji\\ORATS\\parquet\\2020\\ORATS_SMV_Stries_202001.parquet done!\n",
      "D:\\jupyter\\wooji\\ORATS\\parquet\\2020\\ORATS_SMV_Stries_202002.parquet done!\n",
      "D:\\jupyter\\wooji\\ORATS\\parquet\\2020\\ORATS_SMV_Stries_202003.parquet done!\n",
      "D:\\jupyter\\wooji\\ORATS\\parquet\\2020\\ORATS_SMV_Stries_202004.parquet done!\n",
      "D:\\jupyter\\wooji\\ORATS\\parquet\\2020\\ORATS_SMV_Stries_202005.parquet done!\n",
      "D:\\jupyter\\wooji\\ORATS\\parquet\\2020\\ORATS_SMV_Stries_202006.parquet done!\n",
      "D:\\jupyter\\wooji\\ORATS\\parquet\\2020\\ORATS_SMV_Stries_202007.parquet done!\n",
      "D:\\jupyter\\wooji\\ORATS\\parquet\\2020\\ORATS_SMV_Stries_202008.parquet done!\n",
      "D:\\jupyter\\wooji\\ORATS\\parquet\\2020\\ORATS_SMV_Stries_202009.parquet done!\n",
      "D:\\jupyter\\wooji\\ORATS\\parquet\\2020\\ORATS_SMV_Stries_202010.parquet done!\n",
      "D:\\jupyter\\wooji\\ORATS\\parquet\\2020\\ORATS_SMV_Stries_202011.parquet done!\n",
      "D:\\jupyter\\wooji\\ORATS\\parquet\\2020\\ORATS_SMV_Stries_202012.parquet done!\n",
      "D:\\jupyter\\wooji\\ORATS\\parquet\\2021\\ORATS_SMV_Stries_202101.parquet done!\n",
      "D:\\jupyter\\wooji\\ORATS\\parquet\\2021\\ORATS_SMV_Stries_202102.parquet done!\n",
      "D:\\jupyter\\wooji\\ORATS\\parquet\\2021\\ORATS_SMV_Stries_202103.parquet done!\n",
      "D:\\jupyter\\wooji\\ORATS\\parquet\\2021\\ORATS_SMV_Stries_202104.parquet done!\n",
      "D:\\jupyter\\wooji\\ORATS\\parquet\\2021\\ORATS_SMV_Stries_202105.parquet done!\n"
     ]
    }
   ],
   "source": [
    "optiondata = read_optiondata_by_ticker(filelist,tickers[240:])\n",
    "filename = '349SymbolUniv_14_21.parquet'\n",
    "file_address = os.path.join(tickerdata_dir, filename)\n",
    "optiondata.to_parquet(file_address)"
   ]
  },
  {
   "cell_type": "code",
   "execution_count": 15,
   "metadata": {
    "scrolled": true
   },
   "outputs": [
    {
     "data": {
      "text/plain": [
       "['D:\\\\jupyter\\\\wooji\\\\ORATS\\\\byticker\\\\120SymbolUniv_14_21.parquet',\n",
       " 'D:\\\\jupyter\\\\wooji\\\\ORATS\\\\byticker\\\\180SymbolUniv_14_21.parquet',\n",
       " 'D:\\\\jupyter\\\\wooji\\\\ORATS\\\\byticker\\\\240SymbolUniv_14_21.parquet',\n",
       " 'D:\\\\jupyter\\\\wooji\\\\ORATS\\\\byticker\\\\349SymbolUniv_14_21.parquet',\n",
       " 'D:\\\\jupyter\\\\wooji\\\\ORATS\\\\byticker\\\\60SymbolUniv_14_21.parquet']"
      ]
     },
     "execution_count": 15,
     "metadata": {},
     "output_type": "execute_result"
    }
   ],
   "source": [
    "symboluniv_data_file = [os.path.join(tickerdata_dir, f) for f in os.listdir(tickerdata_dir)]\n",
    "symboluniv_data_file"
   ]
  },
  {
   "cell_type": "code",
   "execution_count": 16,
   "metadata": {
    "scrolled": true
   },
   "outputs": [
    {
     "name": "stdout",
     "output_type": "stream",
     "text": [
      "D:\\jupyter\\wooji\\ORATS\\byticker\\120SymbolUniv_14_21.parquet  done\n",
      "D:\\jupyter\\wooji\\ORATS\\byticker\\180SymbolUniv_14_21.parquet  done\n",
      "D:\\jupyter\\wooji\\ORATS\\byticker\\240SymbolUniv_14_21.parquet  done\n",
      "D:\\jupyter\\wooji\\ORATS\\byticker\\349SymbolUniv_14_21.parquet  done\n",
      "D:\\jupyter\\wooji\\ORATS\\byticker\\60SymbolUniv_14_21.parquet  done\n"
     ]
    }
   ],
   "source": [
    "start = '2019-01-01'\n",
    "end = '2021-05-31'\n",
    "output = []\n",
    "for f in symboluniv_data_file:\n",
    "    optiondata = pd.read_parquet(f)\n",
    "    output.append(quotedate_contract(optiondata, start, end))\n",
    "    del optiondata\n",
    "    print(f, ' done')\n",
    "#output = pd.concat(output)"
   ]
  },
  {
   "cell_type": "code",
   "execution_count": 18,
   "metadata": {},
   "outputs": [],
   "source": [
    "temp = pd.concat(output)"
   ]
  },
  {
   "cell_type": "code",
   "execution_count": 21,
   "metadata": {},
   "outputs": [],
   "source": [
    "temp.to_parquet('SymbolUniv_19_21.parquet')"
   ]
  },
  {
   "cell_type": "code",
   "execution_count": null,
   "metadata": {},
   "outputs": [],
   "source": []
  }
 ],
 "metadata": {
  "kernelspec": {
   "display_name": "Python 3",
   "language": "python",
   "name": "python3"
  },
  "language_info": {
   "codemirror_mode": {
    "name": "ipython",
    "version": 3
   },
   "file_extension": ".py",
   "mimetype": "text/x-python",
   "name": "python",
   "nbconvert_exporter": "python",
   "pygments_lexer": "ipython3",
   "version": "3.7.9"
  }
 },
 "nbformat": 4,
 "nbformat_minor": 4
}

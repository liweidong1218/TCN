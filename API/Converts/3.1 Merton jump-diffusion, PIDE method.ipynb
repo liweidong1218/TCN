{
 "cells": [
  {
   "cell_type": "markdown",
   "metadata": {},
   "source": [
    "# The Merton Partial Integro-Differential Equation\n",
    "\n",
    "\n",
    "In this notebook we only consider the problem of solving the Merton PIDE.    \n",
    "Let us recall that, this is the pricing PIDE associated to the process:   \n",
    "\n",
    "\\begin{equation}\n",
    "\\label{MertonM}\n",
    "X_t = \\mu t + \\sigma W_t + \\sum_{i=1}^{N_t} Y_i, \n",
    "\\end{equation}\n",
    "\n",
    "where $N_t$ is a Poisson random variable representing the number of jumps of $X_t$ up to time $t$, and $Y_i \\sim \\mathcal{N}(\\alpha, \\xi^2)$ is the size of each jump.\n",
    "\n",
    "This is an **incomplete model**. It means that the risk neutral measure is not unique.    \n",
    "In the following, we will adopt the choice (proposed by Merton) that, when changing from the physical to the risk neutral measure, only the drift is changed, while the other ingredients are unchanged.    \n",
    "The risk neutral process has drift:\n",
    "\n",
    "$$ \\mu = r - \\frac{1}{2} \\sigma^2 - m $$\n",
    " \n",
    "with $r$ risk free interest rate, and $m$ defined below.\n",
    "\n",
    "##### Closed formula\n",
    "Just for information, there exists a closed formula for pricing European call/put options under the Merton model.\n",
    "This formula was presented by Merton in [2]. We just report it without derivation.\n",
    "\n",
    "$$ \\sum_k \\frac{e^{-\\psi T} \\psi T}{k!} \\; V^{BS}\\biggl( S_0,\\, T,\\, r - m + \\frac{k (\\alpha + \\xi^2/2)}{T}  ,\\, \\sqrt{\\sigma^2 + \\frac{k \\xi^2}{T}} \\biggr)  $$ \n",
    "\n",
    "with $\\psi = \\lambda \\bigl( e^{\\alpha + \\frac{1}{2} \\xi^2} \\bigr)$, and $V^{BS}(S,T,r,\\sigma)$ is the Black-Scholes closed formula."
   ]
  },
  {
   "cell_type": "markdown",
   "metadata": {},
   "source": [
    "<a id='sec1'></a>\n",
    "## The Merton PIDE\n",
    "\n",
    "In this notebook I want to show how to solve the Merton PIDE:   \n",
    "\n",
    "\\begin{align}\n",
    "  \\frac{\\partial V(t,x)}{\\partial t}\n",
    "          + \\biggl( r -\\frac{1}{2}\\sigma^2 -m \\biggr) \\frac{\\partial V(t,x)}{\\partial x}\n",
    "          + \\frac{1}{2} \\sigma^2 \\frac{\\partial^2 V(t,x)}{\\partial x^2} \n",
    "          + \\int_{\\mathbb{R}} V(t,x+z) \\nu(dz) - (\\lambda+r) V(t,x)  = 0.\n",
    "\\end{align}\n",
    "\n",
    "with\n",
    "\\begin{align} \n",
    " m :=& \\; \\int_{\\mathbb{R}} ( e^{z} - 1 ) \\nu(dz) \\\\\n",
    "    =& \\; \\lambda \\biggl( e^{\\alpha + \\frac{1}{2} \\xi^2} -1 \\biggr).\n",
    "\\end{align}\n",
    "\n",
    "The Lévy measure is:\n",
    "$$ \\nu(dz) = \\frac{\\lambda}{\\xi \\sqrt{2\\pi}} e^{- \\frac{(z-\\alpha)^2}{2\\xi^2}} dz.  $$\n",
    "\n",
    "This equation is an \"extension\" of the Black-Scholes equation. It coincides with the BS equation for $\\lambda = 0$.\n",
    "\n",
    "Let us first introduce the discretization method, and then write everything in python!"
   ]
  },
  {
   "cell_type": "markdown",
   "metadata": {},
   "source": [
    "<a id='sec1.1'></a>\n",
    "### Discretization\n",
    "\n",
    "The discretization of this equation is quite similar to the discretization of the BS equation.   \n",
    "However, here there is an additional integral term!!\n",
    "\n",
    "We will adopt the Implicit-Explicit **(IMEX)** scheme proposed by Cont-Voltchkova [1]. The differential part is discretized by an implicit scheme (the same approach used for the BS equation). The integral part in instead discretized by an explicit scheme. The reason of the explicit choice, is that it avoids the inversion of the dense \"jump\" matrix (below we will construct the jump matrix).\n",
    "\n",
    "The integral part is computed using **fourier methods** (it is a convolution integral) in order to increasing the efficiency."
   ]
  },
  {
   "cell_type": "markdown",
   "metadata": {},
   "source": [
    "Since we have to restrict the problem to a bounded region, we consider the equation:  \n",
    "\n",
    "\\begin{align*}\n",
    "  \\frac{\\partial V(t,x)}{\\partial t} \n",
    "          + \\biggl( r -\\frac{1}{2}\\sigma^2 - \\hat m \\biggr) \\frac{\\partial V(t,x)}{\\partial x} \n",
    "          + \\frac{1}{2} \\sigma^2 \\frac{\\partial^2 V(t,x)}{\\partial x^2} \n",
    "          + \\int_{-B_1}^{B_2} V(t,x+z) \\nu(dz) - (\\hat \\lambda + r) V(t,x)  = 0.\n",
    "\\end{align*}\n",
    "\n",
    "with   \n",
    "\n",
    "$$ \\hat m = \\int_{-B_1}^{B_2} \\bigl( e^z-1 \\bigr) \\nu(dz)$$ \n",
    "and \n",
    "$$\\hat \\lambda = \\int_{-B_1}^{B_2} \\nu(dz).$$\n",
    "\n",
    "For $0 < K_1 < K_2$ we choose $B_1,B_2$ such that $ \\bigl[-B_1,B_2\\bigr] = \\bigl[ ( -K_1-1/2 )\\Delta x , ( K_2+1/2 )\\Delta x \\bigr] $, and $\\Delta x$ is the space step.  \n",
    "\n",
    "The computational domain of interest becomes $[0,T]\\, \\times \\, [A_1-B_1,A_2+B_2]$, where in the regions $[0,T]\\, \\times \\, [A_1-B_1,A_1]$ and \n",
    "$[0,T]\\, \\times \\, [A_2,A_2+B_2]$ we need to define the boundary conditions.\n",
    "\n",
    "Let us discretize the integral as follows:\n",
    "\n",
    "$$ \\int_{-B_1}^{B_2}  V(t_n,x_i+z) \\nu(dz) \\approx \\sum_{k = -K_1}^{K_2} \\nu_k V^{n}_{i+k} $$\n",
    "\n",
    "where\n",
    "\n",
    "$$\n",
    " \\nu_k = \\int_{(k-\\frac{1}{2}) \\Delta x}^{(k+\\frac{1}{2}) \\Delta x} \\nu(z) dz, \\hspace{1em} \\mbox{ for } \\hspace{1em} -K_1 \\leq k \\leq K_2. \n",
    "$$\n",
    "\n",
    "We have that $ \\hat \\lambda = \\sum_{k = -K_1}^{K_2} \\nu_k $. For large values of $B_1$ and $B_2$, the parameter $\\hat \\lambda$ is a good approximation for $\\lambda$, since\n",
    "\n",
    "$$\\lambda = \\lim_{B_1,B_2 \\to \\infty} \\hat \\lambda = \\lim_{B_1,B_2 \\to \\infty} \\int_{-B_1}^{B_2} \\nu(dz). $$\n",
    "\n",
    "The discretized equation using the IMEX scheme becomes:   \n",
    "\n",
    "$$ \\begin{aligned}\n",
    "&\\frac{V^{n+1}_{i} -V^{n}_{i}}{\\Delta t} + \n",
    "(r-\\frac{1}{2}\\sigma^2 - \\hat m) \\frac{V^{n}_{i+1} -V^{n}_{i-1}}{ 2 \\Delta x} \\\\ \\nonumber\n",
    "&+ \\frac{1}{2} \\sigma^2 \\frac{V^{n}_{i+1} + V^{n}_{i-1} - 2 V^{n}_{i}}{\\Delta x^2}  - (r+\\hat \\lambda) V^{n}_i +\\sum_{k = -K_1}^{K_2} \\nu_k V^{n+1}_{i+k} = 0.\n",
    "\\end{aligned} $$\n",
    "\n",
    "Rearranging the terms: \n",
    "\n",
    "$$ \\begin{aligned}\n",
    "\\underbrace{ V^{n+1}_{i} + \\Delta t \\sum_{k = -K_1}^{K_2} \\nu_k V^{n+1}_{i+k} }_{\\tilde V^{n+1}_i} &= \n",
    "\tV^{n}_{i} \\biggl( 1 + (r+\\hat \\lambda)\\Delta t + \\sigma^2 \\frac{\\Delta t}{\\Delta x^2} \\biggr)  \\\\\n",
    "& + V^{n}_{i+1} \\biggl( -(r -\\frac{1}{2}\\sigma^2 -\\hat m )\\frac{\\Delta t}{2 \\Delta x} +\n",
    "\\frac{1}{2}\\sigma^2 \\frac{\\Delta t}{\\Delta x^2}  \\biggr)  \\\\\n",
    "& + V^{n}_{i-1} \\biggl( (r -\\frac{1}{2}\\sigma^2 - \\hat m)\\frac{\\Delta t}{2 \\Delta x} + \n",
    "\\frac{1}{2}\\sigma^2 \\frac{\\Delta t}{\\Delta x^2}  \\biggr).\n",
    "\\end{aligned} $$\n",
    "\n",
    "We can rename the coefficients:\n",
    "\n",
    "$$ \\tilde V^{n+1}_{i} = a V^{n}_{i-1} + b V^{n}_{i} + c V^{n}_{i+1}, $$\n",
    "\n",
    "and solve the system for $V^{n}_{i}$,  for every $1 \\leq i \\leq M-1$:\n",
    "\n",
    "$$\n",
    " \\begin{cases}\n",
    "  \\tilde V^{n+1}_i = V^{n+1}_{i} + \\Delta t \\sum_{k = -K_1}^{K_2} V^{n+1}_{i+k} \\nu_k \\quad \\mbox{ for } \\quad 1 \\leq i \\leq M-1 \\\\\n",
    "  V^{n} = \\mathcal{D}^{-1} \\biggl( \\tilde V^{n+1} - B \\biggr)   \n",
    " \\end{cases}\n",
    "$$\n",
    "\n",
    "where $\\mathcal{D}$ is the tridiagonal matrix formed by the coefficients $a,b,c$, and with boundary terms $B = (a V^{n}_{0}, 0, ... , 0, c V^{n}_{M})$.  \n",
    "\n",
    "Introducing the *jump* matrix $J$, the system becomes:\n",
    "\n",
    "$$\n",
    " \\begin{cases}\n",
    "  \\tilde V^{n+1} = V^{n+1} + \\Delta t \\, J \\, V^{n+1} \\\\\n",
    "  V^{n} = \\mathcal{D}^{-1} \\biggl( \\tilde V^{n+1} - B \\biggr) %\\quad \\mbox{ for } \\quad 1 \\leq i \\leq M-1.  \n",
    " \\end{cases}\n",
    "$$\n",
    "\n",
    "However, we will see that it is better to avoid to use this matrix, and solve the integral by **fft** methods."
   ]
  },
  {
   "cell_type": "markdown",
   "metadata": {},
   "source": [
    "<a id='sec2'></a>\n",
    "## Numerical solution of the PIDE\n",
    "\n",
    "Ok... we are ready to implement the previous algorithm.  \n",
    "\n",
    "In order to have a clear presentation, I prefer to choose a small number of time and space steps. It will be easier for you to follow what I'm doing.\n"
   ]
  },
  {
   "cell_type": "code",
   "execution_count": 13,
   "metadata": {},
   "outputs": [],
   "source": [
    "from scipy import sparse\n",
    "from scipy.sparse.linalg import splu\n",
    "\n",
    "import numpy as np\n",
    "import scipy as scp\n",
    "import scipy.stats as ss\n",
    "from IPython.display import display\n",
    "import sympy; sympy.init_printing()\n",
    "from scipy import signal\n",
    "from scipy.integrate import quad\n",
    "import matplotlib.pyplot as plt\n",
    "\n",
    "def display_matrix(m):\n",
    "    display(sympy.Matrix(m))"
   ]
  },
  {
   "cell_type": "code",
   "execution_count": 5,
   "metadata": {},
   "outputs": [],
   "source": [
    "r = 0.1; sig = 0.2          # risk free rate and diffusion coefficient      \n",
    "S0 = 100; X0 = np.log(S0)   # spot price and log-price       \n",
    "K = 100; Texpir = 1         # strike and maturity            \n",
    "\n",
    "lam = 0.8   # lambda \n",
    "muJ = 0     # (or alpha) is the mean of the jump size \n",
    "sigJ = 0.5  # (or xi) is the standard deviation of the jump size \n",
    "\n",
    "Nspace = 5   # M space steps \n",
    "Ntime = 3    # N time steps \n",
    "S_max = 3*float(K)                \n",
    "S_min = float(K)/3\n",
    "x_max = np.log(S_max)  # A2\n",
    "x_min = np.log(S_min)  # A1\n",
    "\n",
    "dev_X = np.sqrt(lam * sigJ**2 + lam * muJ**2)   # std dev of the jump component\n",
    "\n",
    "dx = (x_max - x_min)/(Nspace-1)\n",
    "extraP = int(np.floor(3*dev_X/dx))  # extra points\n",
    "x = np.linspace(x_min-extraP*dx, x_max+extraP*dx, Nspace + 2*extraP)   # space discretization\n",
    "T, dt = np.linspace(0, Texpir, Ntime, retstep=True)       # time discretization"
   ]
  },
  {
   "cell_type": "markdown",
   "metadata": {},
   "source": [
    "What I did was: \n",
    "- define tha parameters. \n",
    "  I called muJ and sigJ the mean and standard deviation of the (normal) jump random variables. They correspond to        $\\alpha$ and $\\xi$. \n",
    "- obtain the boundary values: A1 and A2. And the space step *dx* and time step *dt*.\n",
    "  The variable `x` takes values in the extended computational domain $[A_1-B_1, A_2+B_2]$. \n",
    "- compute the standard deviation of the jump component (at $t=1$). Let us recall the variance formula for the compound Poisson process (obtained from the formula of conditional variance):\n",
    "$$ Var \\biggl[ \\sum_{i=1}^{N_t} Y_i \\biggr] = \\lambda (\\alpha^2 + \\xi^2) t $$\n",
    "- compute the extra points *extraP* indicating the number of points to use as extra bounday conditions. The extra points are the points in the regions $[A_1 - B_1, A_1]$ and $[A_2, A_2 + B_2]$.\n",
    "\n",
    "Why did I choose the extra points in that way?\n",
    "\n",
    "The idea is that we want to cover at least 3 standard deviations of the domain of the Lévy measure. The choice of 3 is arbitrary. The higher is the better.     \n",
    "The important fact to remember, is that the smaller is $\\Delta X$, the higher is *extraP*. "
   ]
  },
  {
   "cell_type": "code",
   "execution_count": 6,
   "metadata": {},
   "outputs": [
    {
     "name": "stdout",
     "output_type": "stream",
     "text": [
      "Under this discretization there are 2 extra points\n"
     ]
    }
   ],
   "source": [
    "print(\"Under this discretization there are {} extra points\".format(extraP))"
   ]
  },
  {
   "cell_type": "code",
   "execution_count": 8,
   "metadata": {},
   "outputs": [
    {
     "data": {
      "text/latex": [
       "$\\displaystyle \\left[\\begin{matrix}0.0 & 0.0 & 0.0\\\\0.0 & 0.0 & 0.0\\\\0.0 & 0.0 & 0.0\\\\0.0 & 0.0 & 0.0\\\\0.0 & 0.0 & 0.0\\\\0.0 & 0.0 & 73.21\\\\209.52 & 204.88 & 200.0\\\\429.13 & 424.49 & 419.62\\\\809.52 & 804.88 & 800.0\\end{matrix}\\right]$"
      ],
      "text/plain": [
       "⎡ 0.0     0.0     0.0  ⎤\n",
       "⎢                      ⎥\n",
       "⎢ 0.0     0.0     0.0  ⎥\n",
       "⎢                      ⎥\n",
       "⎢ 0.0     0.0     0.0  ⎥\n",
       "⎢                      ⎥\n",
       "⎢ 0.0     0.0     0.0  ⎥\n",
       "⎢                      ⎥\n",
       "⎢ 0.0     0.0     0.0  ⎥\n",
       "⎢                      ⎥\n",
       "⎢ 0.0     0.0    73.21 ⎥\n",
       "⎢                      ⎥\n",
       "⎢209.52  204.88  200.0 ⎥\n",
       "⎢                      ⎥\n",
       "⎢429.13  424.49  419.62⎥\n",
       "⎢                      ⎥\n",
       "⎣809.52  804.88  800.0 ⎦"
      ]
     },
     "metadata": {},
     "output_type": "display_data"
    }
   ],
   "source": [
    "Payoff = np.maximum(np.exp(x)-K,0)             # Call payoff\n",
    "V = np.zeros((Nspace + 2*extraP, Ntime))       # grid initialization\n",
    "offset = np.zeros(Nspace-2)        # vector to be used for the boundary terms\n",
    "\n",
    "V[:,-1] = Payoff                   # terminal conditions \n",
    "V[-extraP-1:,:] = np.exp(x[-extraP-1:]).reshape(extraP+1,1) * np.ones((extraP+1,Ntime)) - \\\n",
    "                 K * np.exp(-r* T[::-1] ) * np.ones((extraP+1,Ntime))  # boundary conditions for the call  \n",
    "V[:extraP+1,:] = 0\n",
    "\n",
    "display_matrix(V.round(2))"
   ]
  },
  {
   "cell_type": "markdown",
   "metadata": {},
   "source": [
    "In the previous cell we created the grid for $V$.     \n",
    "The time grows from left to right. The stock price grows from up to down.\n",
    "\n",
    "- The first 2 rows, and the last 2, are the extra boundary conditions. (In agreement with extraP)\n",
    "- The third row and the seventh row are the usual boudary conditions.\n",
    "- The last column corresponds to the terminal boundary condition."
   ]
  },
  {
   "cell_type": "markdown",
   "metadata": {},
   "source": [
    "Let us create the vector $\\nu_k$:"
   ]
  },
  {
   "cell_type": "code",
   "execution_count": 17,
   "metadata": {},
   "outputs": [
    {
     "name": "stdout",
     "output_type": "stream",
     "text": [
      "[0.00236098 0.03733859 0.19337038 0.3337637  0.19337038 0.03733859\n",
      " 0.00236098]\n"
     ]
    }
   ],
   "source": [
    "cdf = ss.norm.cdf([np.linspace(-(extraP+1+0.5)*dx, (extraP+1+0.5)*dx, 2*(extraP+2) )], loc=muJ, scale=sigJ)[0]\n",
    "nu = lam * (cdf[1:] - cdf[:-1])\n",
    "print(nu)"
   ]
  },
  {
   "cell_type": "markdown",
   "metadata": {},
   "source": [
    "The integral:\n",
    "$$ \\hat m = \\int_{-B_1}^{B_2} \\bigl( e^z-1 \\bigr) \\nu(dz)$$ \n",
    "can be computed using two methods:\n",
    "- or using the scipy function `quad`\n",
    "- or using the discretization:\n",
    "$$  \\hat m \\approx \\sum_{k = -K_1}^{K_2} (e^{k \\Delta x}-1) \\nu_k  $$\n",
    "\n",
    "These two methods are equivalent. We show both in the next cell. Of course the values are different because $\\Delta x$ is quite big now."
   ]
  },
  {
   "cell_type": "code",
   "execution_count": 18,
   "metadata": {},
   "outputs": [
    {
     "name": "stdout",
     "output_type": "stream",
     "text": [
      "Truncated jump activity:  0.7999036142791525\n",
      "True value:  0.10651876245346106\n",
      "Truncated value, using quad:  0.10623607827426487\n",
      "Approximation value:  0.11761420996944338\n"
     ]
    }
   ],
   "source": [
    "lam_appr = sum(nu)    # sum of the components of nu\n",
    "print(\"Truncated jump activity: \", lam_appr)\n",
    "\n",
    "m = lam * (np.exp(muJ + (sigJ**2)/2) -1)     # coefficient m\n",
    "print(\"True value: \", m)\n",
    "m_int = quad(lambda z: lam * (np.exp(z)-1) * ss.norm.pdf(z,muJ,sigJ), -(extraP+1.5)*dx, (extraP+1.5)*dx )[0]\n",
    "print(\"Truncated value, using quad: \", m_int)\n",
    "m_appr = np.array([ np.exp(i*dx)-1 for i in range(-(extraP+1), extraP+2)]) @ nu\n",
    "print(\"Approximation value: \", m_appr)"
   ]
  },
  {
   "cell_type": "code",
   "execution_count": 23,
   "metadata": {},
   "outputs": [],
   "source": [
    "# construction of the tri-diagonal matrix D\n",
    "sig2 = sig*sig; dxx = dx * dx\n",
    "a = ( (dt/2) * ( (r-m_appr-0.5*sig2)/dx - sig2/dxx ) )\n",
    "b = ( 1 + dt * ( sig2/dxx + r + lam_appr) )\n",
    "c = (-(dt/2) * ( (r-m_appr-0.5*sig2)/dx + sig2/dxx ) )\n",
    "D = sparse.diags([a, b, c], [-1, 0, 1], shape=(Nspace-2, Nspace-2)).tocsc()\n",
    "DD = splu(D)"
   ]
  },
  {
   "cell_type": "markdown",
   "metadata": {},
   "source": [
    "In the previous cell we created the \"diffusion\" matrix, in the same way we did for the Black-Scholes equation in the notebook **2.1**.\n",
    "\n",
    "In the next cell we create the \"jump\" matrix $J$. As you can see, it is a dense matrix!"
   ]
  },
  {
   "cell_type": "code",
   "execution_count": 24,
   "metadata": {},
   "outputs": [
    {
     "data": {
      "text/latex": [
       "$\\displaystyle \\left[\\begin{matrix}0.0024 & 0.0373 & 0.1934 & 0.3338 & 0.1934 & 0.0373 & 0.0024 & 0.0 & 0.0\\\\0.0 & 0.0024 & 0.0373 & 0.1934 & 0.3338 & 0.1934 & 0.0373 & 0.0024 & 0.0\\\\0.0 & 0.0 & 0.0024 & 0.0373 & 0.1934 & 0.3338 & 0.1934 & 0.0373 & 0.0024\\end{matrix}\\right]$"
      ],
      "text/plain": [
       "⎡0.0024  0.0373  0.1934  0.3338  0.1934  0.0373  0.0024   0.0     0.0  ⎤\n",
       "⎢                                                                      ⎥\n",
       "⎢ 0.0    0.0024  0.0373  0.1934  0.3338  0.1934  0.0373  0.0024   0.0  ⎥\n",
       "⎢                                                                      ⎥\n",
       "⎣ 0.0     0.0    0.0024  0.0373  0.1934  0.3338  0.1934  0.0373  0.0024⎦"
      ]
     },
     "metadata": {},
     "output_type": "display_data"
    }
   ],
   "source": [
    "J = np.zeros((Nspace-2, Nspace + 2*extraP))\n",
    "for i in range(Nspace-2):\n",
    "    J[i, i:(len(nu)+i)] = nu\n",
    "display_matrix(J.round(4))"
   ]
  },
  {
   "cell_type": "markdown",
   "metadata": {},
   "source": [
    "We have all the ingredients to solve the backward in time algorithm:"
   ]
  },
  {
   "cell_type": "code",
   "execution_count": 31,
   "metadata": {},
   "outputs": [
    {
     "name": "stdout",
     "output_type": "stream",
     "text": [
      "15.205937181777447\n"
     ]
    }
   ],
   "source": [
    "# Backward iteration\n",
    "for i in range(Ntime-2,-1,-1):\n",
    "    offset[0] = a * V[extraP,i]\n",
    "    offset[-1] = c * V[-1-extraP,i]\n",
    "    V_jump = V[extraP+1 : -extraP-1, i+1] + dt * (J @ V[:,i+1])\n",
    "    V[extraP+1 : -extraP-1, i] = DD.solve( V_jump - offset )    \n",
    "\n",
    "# finds the option at S0\n",
    "oPrice = np.interp(X0, x, V[:,0])\n",
    "print(oPrice)"
   ]
  },
  {
   "cell_type": "markdown",
   "metadata": {},
   "source": [
    "#### Is the previous method efficient?\n",
    "\n",
    "Well NO!\n",
    "\n",
    "Since the integral we are considering is a convolution integral, we should take advantage of the [convolution theorem](https://en.wikipedia.org/wiki/Convolution_theorem).\n",
    "\n",
    "We can use two python functions:\n",
    "- [fftconvolve](https://docs.scipy.org/doc/scipy/reference/generated/scipy.signal.fftconvolve.html#scipy.signal.fftconvolve) Convolves two arrays using FFT.\n",
    "- [convolve](https://docs.scipy.org/doc/scipy/reference/generated/scipy.signal.convolve.html) Convolves two arrays. The user can specify the method. If the length of the array is smaller than 500 it is better to use the definition of convolution, otherwise it is better to use the FFT (and it calls fftconvolve).\n",
    "\n",
    "Let us check that the output is the same:"
   ]
  },
  {
   "cell_type": "code",
   "execution_count": 29,
   "metadata": {},
   "outputs": [
    {
     "name": "stdout",
     "output_type": "stream",
     "text": [
      "[ 3.2055702  22.61411538 80.66390056]\n",
      "[ 3.2055702  22.61411538 80.66390056]\n"
     ]
    }
   ],
   "source": [
    "# example\n",
    "from scipy import signal\n",
    "\n",
    "print(signal.fftconvolve(V[:,-1], nu, mode=\"valid\"))\n",
    "print(J @ V[:,-1])"
   ]
  },
  {
   "cell_type": "code",
   "execution_count": 30,
   "metadata": {},
   "outputs": [
    {
     "name": "stdout",
     "output_type": "stream",
     "text": [
      "15.20593718177744\n"
     ]
    }
   ],
   "source": [
    "# Backward iteration using fftconvolve:\n",
    "for i in range(Ntime-2,-1,-1):\n",
    "    offset[0] = a * V[extraP,i]\n",
    "    offset[-1] = c * V[-1-extraP,i]\n",
    "    V_jump = V[extraP+1 : -extraP-1, i+1] + dt * signal.fftconvolve(V[:,i+1], nu, mode=\"valid\")\n",
    "    V[extraP+1 : -extraP-1, i] = DD.solve( V_jump - offset )    \n",
    "\n",
    "# finds the option at S0\n",
    "oPrice = np.interp(X0, x, V[:,0])\n",
    "print(oPrice)"
   ]
  },
  {
   "cell_type": "markdown",
   "metadata": {},
   "source": [
    "<a id='sec3'></a>\n",
    "## Comparison with other numerical methods\n",
    "\n",
    "\n",
    "In the class `Merton_pricer` I made the following choice for the parameters:    \n",
    "```python\n",
    "        S_max = 6*float(self.K)                \n",
    "        S_min = float(self.K)/6\n",
    "```\n",
    "and\n",
    "```python\n",
    "extraP = int(np.floor(5*dev_X/dx))\n",
    "```\n",
    "The reason is that I want the parameters $A_1$, $A_2$, $B_1$, $B_2$ to be as large as possible.\n",
    "\n",
    "In the backward iteration I used the FFT approach:\n",
    "\n",
    "```python\n",
    "V_jump = V[extraP+1 : -extraP-1, i+1] + dt * signal.convolve(V[:,i+1],nu[::-1],mode=\"valid\",method=\"fft\")\n",
    "```\n",
    "\n",
    "The correct code to use is `nu[::-1]`.    \n",
    "This is because our convolution has the form\n",
    "$\\sum_{k = -K_1}^{K_2} \\nu_k V^{n}_{i+k}$, but the convolution in the [numpy.convolve](https://docs.scipy.org/doc/numpy/reference/generated/numpy.convolve.html) function is defined as\n",
    "$\\sum_{k = -K_1}^{K_2} \\nu_k V^{n}_{i-k}$. Therefore it is necessary to invert the vector!    \n",
    "(In the code above, I did not invert `nu` for clarity. The code worked because the considered `nu` was symmetric).\n",
    "\n",
    "Let us compare the solution of the Merton PIDE with other numerical methods: "
   ]
  },
  {
   "cell_type": "code",
   "execution_count": 2,
   "metadata": {},
   "outputs": [],
   "source": [
    "from functions.Parameters import Option_param\n",
    "from functions.Processes import Diffusion_process, Merton_process\n",
    "from functions.BS_pricer import BS_pricer\n",
    "from functions.Merton_pricer import Merton_pricer "
   ]
  },
  {
   "cell_type": "code",
   "execution_count": 3,
   "metadata": {},
   "outputs": [],
   "source": [
    "# Creates the object with the parameters of the option\n",
    "opt_param = Option_param(S0=100, K=100, T=1, exercise=\"European\", payoff=\"call\" )\n",
    "opt_param_p = Option_param(S0=100, K=100, T=1, exercise=\"European\", payoff=\"put\" )\n",
    "\n",
    "Merton_param = Merton_process(r=0.1, sig=0.2, lam=0.8, muJ=0, sigJ=0.5)\n",
    "Merton = Merton_pricer(opt_param, Merton_param)\n",
    "Merton_p = Merton_pricer(opt_param_p, Merton_param)"
   ]
  },
  {
   "cell_type": "markdown",
   "metadata": {},
   "source": [
    "**PIDE price:**"
   ]
  },
  {
   "cell_type": "code",
   "execution_count": 3,
   "metadata": {},
   "outputs": [
    {
     "data": {
      "text/plain": [
       "(22.01403904360017, 40.36621618270874)"
      ]
     },
     "execution_count": 3,
     "metadata": {},
     "output_type": "execute_result"
    }
   ],
   "source": [
    "Merton.PIDE_price((12000,10000), Time=True)"
   ]
  },
  {
   "cell_type": "markdown",
   "metadata": {},
   "source": [
    "**Closed formula:**"
   ]
  },
  {
   "cell_type": "code",
   "execution_count": 4,
   "metadata": {},
   "outputs": [
    {
     "data": {
      "text/plain": [
       "22.016367621905697"
      ]
     },
     "execution_count": 4,
     "metadata": {},
     "output_type": "execute_result"
    }
   ],
   "source": [
    "Merton.closed_formula()"
   ]
  },
  {
   "cell_type": "markdown",
   "metadata": {},
   "source": [
    "**Fourier inversion:**"
   ]
  },
  {
   "cell_type": "code",
   "execution_count": 3,
   "metadata": {},
   "outputs": [
    {
     "data": {
      "text/plain": [
       "22.0163676219057"
      ]
     },
     "execution_count": 3,
     "metadata": {},
     "output_type": "execute_result"
    }
   ],
   "source": [
    "Merton.Fourier_inversion()"
   ]
  },
  {
   "cell_type": "markdown",
   "metadata": {},
   "source": [
    "**Monte Carlo** method gives the value: (the output includes the price, the standard error and the execution time)"
   ]
  },
  {
   "cell_type": "code",
   "execution_count": 4,
   "metadata": {},
   "outputs": [
    {
     "data": {
      "text/plain": [
       "(22.01260319665876, 0.05643812936401397, 64.60239958763123)"
      ]
     },
     "execution_count": 4,
     "metadata": {},
     "output_type": "execute_result"
    }
   ],
   "source": [
    "Merton.MC(1000000, Err=True, Time=True)"
   ]
  },
  {
   "cell_type": "markdown",
   "metadata": {},
   "source": [
    "Plot of the call:"
   ]
  },
  {
   "cell_type": "code",
   "execution_count": 20,
   "metadata": {},
   "outputs": [
    {
     "data": {
      "image/png": "[encoded data removed]",
      "text/plain": [
       "<Figure size 432x288 with 1 Axes>"
      ]
     },
     "metadata": {
      "needs_background": "light"
     },
     "output_type": "display_data"
    }
   ],
   "source": [
    "Merton.plot([50,200,0,100])"
   ]
  },
  {
   "cell_type": "markdown",
   "metadata": {},
   "source": [
    "Plot of the put:"
   ]
  },
  {
   "cell_type": "code",
   "execution_count": 27,
   "metadata": {},
   "outputs": [
    {
     "data": {
      "image/png": "[encoded data removed]",
      "text/plain": [
       "<Figure size 432x288 with 1 Axes>"
      ]
     },
     "metadata": {
      "needs_background": "light"
     },
     "output_type": "display_data"
    }
   ],
   "source": [
    "Merton_p.plot([40,180,0,80])"
   ]
  },
  {
   "cell_type": "markdown",
   "metadata": {},
   "source": [
    "But what happens if we select some \"strange\" set of parameters?    \n",
    "Let's try."
   ]
  },
  {
   "cell_type": "code",
   "execution_count": 11,
   "metadata": {},
   "outputs": [
    {
     "name": "stdout",
     "output_type": "stream",
     "text": [
      "PIDEprice:  50.19209080990695\n",
      "Closed formula:  92.84579753439006\n",
      "Monte Carlo price and std error:  (0.021836642589105403, 0.010662297105708677)\n"
     ]
    }
   ],
   "source": [
    "Merton_param = Merton_process(r=0.1, sig=0.1, lam=0.1, muJ=0, sigJ=3.1)\n",
    "Merton = Merton_pricer(opt_param, Merton_param)\n",
    "\n",
    "print( \"PIDEprice: \", Merton.PIDE_price((12000,10000)) )\n",
    "print( \"Closed formula: \", Merton.closed_formula() )\n",
    "print( \"Monte Carlo price and std error: \", Merton.MC(500000, Err=True) )"
   ]
  },
  {
   "cell_type": "markdown",
   "metadata": {},
   "source": [
    "What happened?     \n",
    "Three methods... three different outputs.  This is not good. \n",
    "\n",
    "Do not worry. The model is fine. And the algorithms are fine too.     \n",
    "The last set of parameters is the problem.    \n",
    "To be precise, the model is fine under a certain set of parameters. Let us investigate this feature."
   ]
  },
  {
   "cell_type": "markdown",
   "metadata": {},
   "source": [
    "<a id='sec5'></a>\n",
    "## Comparison with the Black Scholes PDE"
   ]
  },
  {
   "cell_type": "markdown",
   "metadata": {},
   "source": [
    "Now let us compare the Merton curve with the Black Scholes curve, for a European call option.    \n",
    "The volatility of the BS model is chosen equal to the standard deviation of the Merton process. \n",
    "\n",
    "Looking at the plot we can see the different shape of the two curves."
   ]
  },
  {
   "cell_type": "code",
   "execution_count": 28,
   "metadata": {},
   "outputs": [
    {
     "name": "stdout",
     "output_type": "stream",
     "text": [
      "standard deviation:  0.8988882021697694\n",
      "kurtosis:  2.823252622291932\n"
     ]
    }
   ],
   "source": [
    "# Creates the object with the parameters of the option\n",
    "opt_param_c = Option_param(S0=100, K=100, T=1, exercise=\"European\", payoff=\"call\" )\n",
    "\n",
    "# Creates the object with the parameters of the process\n",
    "Merton_param = Merton_process(r=0.1, sig=0.2, lam=1.2, muJ=0, sigJ=0.8)\n",
    "diff_param = Diffusion_process(r=0.1, sig=np.sqrt(Merton_param.var))\n",
    "\n",
    "print(\"standard deviation: \", np.sqrt(Merton_param.var) )\n",
    "print(\"kurtosis: \", Merton_param.kurt)\n",
    "\n",
    "# Creates the object of the pricer: call\n",
    "BS_c = BS_pricer(opt_param_c, diff_param)\n",
    "Merton_c = Merton_pricer(opt_param_c, Merton_param)"
   ]
  },
  {
   "cell_type": "code",
   "execution_count": 29,
   "metadata": {},
   "outputs": [
    {
     "name": "stdout",
     "output_type": "stream",
     "text": [
      "Merton closed formula, call:  39.525220975930694\n",
      "BS closed formula, call:  37.987106518471414\n"
     ]
    }
   ],
   "source": [
    "print(\"Merton closed formula, call: \", Merton_c.closed_formula() )\n",
    "print(\"BS closed formula, call: \", BS_c.closed_formula() )"
   ]
  },
  {
   "cell_type": "code",
   "execution_count": 30,
   "metadata": {},
   "outputs": [
    {
     "name": "stdout",
     "output_type": "stream",
     "text": [
      "Merton PIDE call: 39.4908331514349\n",
      "BS PDE call: 37.9848259795486\n"
     ]
    }
   ],
   "source": [
    "print(\"Merton PIDE call:\", Merton_c.PIDE_price((13000,10000)))\n",
    "print(\"BS PDE call:\", BS_c.PDE_price((8000,5000)) ) "
   ]
  },
  {
   "cell_type": "code",
   "execution_count": 32,
   "metadata": {},
   "outputs": [
    {
     "data": {
      "image/png": "[encoded data removed]",
      "text/latex": [
       "$\\displaystyle \\left[ \\right]$"
      ],
      "text/plain": [
       "[]"
      ]
     },
     "execution_count": 32,
     "metadata": {},
     "output_type": "execute_result"
    },
    {
     "data": {
      "image/png": "[encoded data removed]",
      "text/plain": [
       "<Figure size 720x504 with 1 Axes>"
      ]
     },
     "metadata": {
      "needs_background": "light"
     },
     "output_type": "display_data"
    }
   ],
   "source": [
    "plt.figure(figsize=(10,7))\n",
    "plt.plot(BS_c.S_vec, BS_c.price_vec, color='red',label=\"BS curve\")\n",
    "plt.plot(Merton_c.S_vec, Merton_c.price_vec, color='blue',label=\"Merton curve\")\n",
    "plt.plot(Merton_c.S_vec, Merton_c.payoff_f(Merton_c.S_vec), color='black',label=\"Payoff\")\n",
    "plt.axis([50,190,0,120])\n",
    "plt.xlabel(\"S\"); plt.ylabel(\"price\"); plt.title(\"Merton vs Black-Scholes\")\n",
    "plt.legend()\n",
    "plt.plot()"
   ]
  },
  {
   "cell_type": "markdown",
   "metadata": {},
   "source": [
    "# References\n",
    "\n",
    "[1] Cont-Voltchkova (2005), \"Integro-differential equations for option prices in exponential Lévy models\", Finance and Stochastics, 9, 299--325.\n",
    "\n",
    "[2] Merton, R. (1976). \"Option pricing when underlying stock returns are discontinuous\", Journal of Financial Economics, 3, 125--144."
   ]
  }
 ],
 "metadata": {
  "kernelspec": {
   "display_name": "Python 3",
   "language": "python",
   "name": "python3"
  },
  "language_info": {
   "codemirror_mode": {
    "name": "ipython",
    "version": 3
   },
   "file_extension": ".py",
   "mimetype": "text/x-python",
   "name": "python",
   "nbconvert_exporter": "python",
   "pygments_lexer": "ipython3",
   "version": "3.7.3"
  }
 },
 "nbformat": 4,
 "nbformat_minor": 2
}

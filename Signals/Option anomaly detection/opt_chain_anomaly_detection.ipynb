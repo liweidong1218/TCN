{
 "cells": [
  {
   "cell_type": "markdown",
   "source": [
    "## Intraday Option Chain Anomaly Detection"
   ],
   "metadata": {}
  },
  {
   "cell_type": "code",
   "execution_count": 1,
   "source": [
    "import time, os, json, logging, sys\r\n",
    "print(\"First import completed.\")\r\n",
    "\r\n",
    "import pandas as pd\r\n",
    "import numpy as np\r\n",
    "import datetime as dt\r\n",
    "import matplotlib.pyplot as plt\r\n",
    "\r\n",
    "from tsmoothie.utils_func import sim_randomwalk\r\n",
    "from tsmoothie.smoother import LowessSmoother\r\n",
    "plt.style.use('ggplot')\r\n",
    "\r\n",
    "print(\"Second import completed.\")\r\n",
    "\r\n",
    "# Set config\r\n",
    "# TEST_DIR = os.path.realpath(os.path.join(os.getcwd(), '..', 'test'))\r\n",
    "DATA_DIR = 'D:\\\\Git Repository\\\\_local_data_\\\\option_data\\\\Json_files\\\\'\r\n",
    "# DATA_CLEAN_DIR = 'd:\\\\jupyter\\\\wooji\\\\repository\\\\Utils'\r\n",
    "\r\n",
    "pd.set_option('display.max_rows', 500)\r\n",
    "plt.style.use('seaborn')\r\n",
    "\r\n",
    "# sys.path.append(TEST_DIR)\r\n",
    "sys.path.append(DATA_DIR)\r\n",
    "# sys.path.append(DATA_CLEAN_DIR)\r\n",
    "print('Config all set.')\r\n",
    "\r\n",
    "from helpFunc import *\r\n",
    "# from anomaly_detection_helper import train_test_split\r\n",
    "# import pickle\r\n",
    "# import seaborn as sns\r\n",
    "print(\"Third import completed.\")"
   ],
   "outputs": [
    {
     "output_type": "stream",
     "name": "stdout",
     "text": [
      "First import completed.\n",
      "Second import completed.\n",
      "Config all set.\n",
      "Third import completed.\n"
     ]
    }
   ],
   "metadata": {}
  },
  {
   "cell_type": "code",
   "execution_count": 2,
   "source": [
    "# inputs\r\n",
    "ticker = 'SPY'\r\n",
    "date_list = [dt.date(2021, 9, 7)]\r\n",
    "folder_path = DATA_DIR + ticker"
   ],
   "outputs": [],
   "metadata": {}
  },
  {
   "cell_type": "code",
   "execution_count": 3,
   "source": [
    "dir_list = os.listdir(folder_path)\r\n",
    "x = dir_list[0]\r\n",
    "print(x)"
   ],
   "outputs": [
    {
     "output_type": "stream",
     "name": "stdout",
     "text": [
      "SPY_08312021 06_25_00.txt\n"
     ]
    }
   ],
   "metadata": {}
  },
  {
   "cell_type": "code",
   "execution_count": 4,
   "source": [
    "file_list = [x for x in dir_list if dt.datetime.strptime(x[len(ticker)+1:-13],'%m%d%Y').date() in date_list]  "
   ],
   "outputs": [],
   "metadata": {}
  },
  {
   "cell_type": "code",
   "execution_count": 5,
   "source": [
    "%%time\r\n",
    "df = day_chain(ticker,folder_path,date_list)\r\n",
    "call_raw_df = df[df['putCall']=='CALL']\r\n",
    "put_raw_df = df[df['putCall']=='PUT']"
   ],
   "outputs": [
    {
     "output_type": "error",
     "ename": "ValueError",
     "evalue": "time data '09072021 06_2' does not match format '%b %d %H_%M_%S %Y'",
     "traceback": [
      "\u001b[1;31m---------------------------------------------------------------------------\u001b[0m",
      "\u001b[1;31mValueError\u001b[0m                                Traceback (most recent call last)",
      "\u001b[1;32m<timed exec>\u001b[0m in \u001b[0;36m<module>\u001b[1;34m\u001b[0m\n",
      "\u001b[1;32md:\\Git Repository\\Trading-tools\\Signals\\Option anomaly detection\\helpFunc.py\u001b[0m in \u001b[0;36mday_chain\u001b[1;34m(ticker, folder_path, date_list)\u001b[0m\n\u001b[0;32m    299\u001b[0m         \u001b[1;32mwith\u001b[0m \u001b[0mopen\u001b[0m\u001b[1;33m(\u001b[0m\u001b[0mfolder_path\u001b[0m \u001b[1;33m+\u001b[0m \u001b[1;34m'/'\u001b[0m \u001b[1;33m+\u001b[0m \u001b[0mfilename\u001b[0m\u001b[1;33m,\u001b[0m \u001b[1;34m'r'\u001b[0m\u001b[1;33m)\u001b[0m \u001b[1;32mas\u001b[0m \u001b[0mread_file\u001b[0m\u001b[1;33m:\u001b[0m\u001b[1;33m\u001b[0m\u001b[1;33m\u001b[0m\u001b[0m\n\u001b[0;32m    300\u001b[0m             \u001b[0mopt\u001b[0m \u001b[1;33m=\u001b[0m \u001b[0mjson\u001b[0m\u001b[1;33m.\u001b[0m\u001b[0mload\u001b[0m\u001b[1;33m(\u001b[0m\u001b[0mread_file\u001b[0m\u001b[1;33m)\u001b[0m\u001b[1;33m\u001b[0m\u001b[1;33m\u001b[0m\u001b[0m\n\u001b[1;32m--> 301\u001b[1;33m         \u001b[0mdf\u001b[0m\u001b[1;33m.\u001b[0m\u001b[0mappend\u001b[0m\u001b[1;33m(\u001b[0m\u001b[0mminute_chain\u001b[0m\u001b[1;33m(\u001b[0m\u001b[0mticker\u001b[0m\u001b[1;33m,\u001b[0m\u001b[0mopt\u001b[0m\u001b[1;33m,\u001b[0m\u001b[0mfilename\u001b[0m\u001b[1;33m)\u001b[0m\u001b[1;33m)\u001b[0m\u001b[1;33m\u001b[0m\u001b[1;33m\u001b[0m\u001b[0m\n\u001b[0m\u001b[0;32m    302\u001b[0m \u001b[1;33m\u001b[0m\u001b[0m\n\u001b[0;32m    303\u001b[0m     \u001b[0mdf\u001b[0m \u001b[1;33m=\u001b[0m \u001b[0mpd\u001b[0m\u001b[1;33m.\u001b[0m\u001b[0mconcat\u001b[0m\u001b[1;33m(\u001b[0m\u001b[0mdf\u001b[0m\u001b[1;33m)\u001b[0m\u001b[1;33m\u001b[0m\u001b[1;33m\u001b[0m\u001b[0m\n",
      "\u001b[1;32md:\\Git Repository\\Trading-tools\\Signals\\Option anomaly detection\\helpFunc.py\u001b[0m in \u001b[0;36mminute_chain\u001b[1;34m(ticker, opt, filename)\u001b[0m\n\u001b[0;32m     92\u001b[0m                                orient='index',columns=col)\n\u001b[0;32m     93\u001b[0m \u001b[1;33m\u001b[0m\u001b[0m\n\u001b[1;32m---> 94\u001b[1;33m         \u001b[0mtime_now\u001b[0m \u001b[1;33m=\u001b[0m \u001b[0mdt\u001b[0m\u001b[1;33m.\u001b[0m\u001b[0mdatetime\u001b[0m\u001b[1;33m.\u001b[0m\u001b[0mstrptime\u001b[0m\u001b[1;33m(\u001b[0m\u001b[0mfilename\u001b[0m\u001b[1;33m[\u001b[0m\u001b[0mlen\u001b[0m\u001b[1;33m(\u001b[0m\u001b[0mticker\u001b[0m\u001b[1;33m)\u001b[0m\u001b[1;33m+\u001b[0m\u001b[1;36m1\u001b[0m\u001b[1;33m:\u001b[0m\u001b[1;33m-\u001b[0m\u001b[1;36m8\u001b[0m\u001b[1;33m]\u001b[0m\u001b[1;33m,\u001b[0m\u001b[1;34m'%b %d %H_%M_%S %Y'\u001b[0m\u001b[1;33m)\u001b[0m\u001b[1;33m\u001b[0m\u001b[1;33m\u001b[0m\u001b[0m\n\u001b[0m\u001b[0;32m     95\u001b[0m         \u001b[0mdf\u001b[0m\u001b[1;33m[\u001b[0m\u001b[1;34m'Date'\u001b[0m\u001b[1;33m]\u001b[0m \u001b[1;33m=\u001b[0m \u001b[0mtime_now\u001b[0m\u001b[1;33m\u001b[0m\u001b[1;33m\u001b[0m\u001b[0m\n\u001b[0;32m     96\u001b[0m         \u001b[1;32mreturn\u001b[0m \u001b[0mdf\u001b[0m\u001b[1;33m\u001b[0m\u001b[1;33m\u001b[0m\u001b[0m\n",
      "\u001b[1;32m~\\AppData\\Local\\Programs\\Python\\Python39\\lib\\_strptime.py\u001b[0m in \u001b[0;36m_strptime_datetime\u001b[1;34m(cls, data_string, format)\u001b[0m\n\u001b[0;32m    566\u001b[0m     \"\"\"Return a class cls instance based on the input string and the\n\u001b[0;32m    567\u001b[0m     format string.\"\"\"\n\u001b[1;32m--> 568\u001b[1;33m     \u001b[0mtt\u001b[0m\u001b[1;33m,\u001b[0m \u001b[0mfraction\u001b[0m\u001b[1;33m,\u001b[0m \u001b[0mgmtoff_fraction\u001b[0m \u001b[1;33m=\u001b[0m \u001b[0m_strptime\u001b[0m\u001b[1;33m(\u001b[0m\u001b[0mdata_string\u001b[0m\u001b[1;33m,\u001b[0m \u001b[0mformat\u001b[0m\u001b[1;33m)\u001b[0m\u001b[1;33m\u001b[0m\u001b[1;33m\u001b[0m\u001b[0m\n\u001b[0m\u001b[0;32m    569\u001b[0m     \u001b[0mtzname\u001b[0m\u001b[1;33m,\u001b[0m \u001b[0mgmtoff\u001b[0m \u001b[1;33m=\u001b[0m \u001b[0mtt\u001b[0m\u001b[1;33m[\u001b[0m\u001b[1;33m-\u001b[0m\u001b[1;36m2\u001b[0m\u001b[1;33m:\u001b[0m\u001b[1;33m]\u001b[0m\u001b[1;33m\u001b[0m\u001b[1;33m\u001b[0m\u001b[0m\n\u001b[0;32m    570\u001b[0m     \u001b[0margs\u001b[0m \u001b[1;33m=\u001b[0m \u001b[0mtt\u001b[0m\u001b[1;33m[\u001b[0m\u001b[1;33m:\u001b[0m\u001b[1;36m6\u001b[0m\u001b[1;33m]\u001b[0m \u001b[1;33m+\u001b[0m \u001b[1;33m(\u001b[0m\u001b[0mfraction\u001b[0m\u001b[1;33m,\u001b[0m\u001b[1;33m)\u001b[0m\u001b[1;33m\u001b[0m\u001b[1;33m\u001b[0m\u001b[0m\n",
      "\u001b[1;32m~\\AppData\\Local\\Programs\\Python\\Python39\\lib\\_strptime.py\u001b[0m in \u001b[0;36m_strptime\u001b[1;34m(data_string, format)\u001b[0m\n\u001b[0;32m    347\u001b[0m     \u001b[0mfound\u001b[0m \u001b[1;33m=\u001b[0m \u001b[0mformat_regex\u001b[0m\u001b[1;33m.\u001b[0m\u001b[0mmatch\u001b[0m\u001b[1;33m(\u001b[0m\u001b[0mdata_string\u001b[0m\u001b[1;33m)\u001b[0m\u001b[1;33m\u001b[0m\u001b[1;33m\u001b[0m\u001b[0m\n\u001b[0;32m    348\u001b[0m     \u001b[1;32mif\u001b[0m \u001b[1;32mnot\u001b[0m \u001b[0mfound\u001b[0m\u001b[1;33m:\u001b[0m\u001b[1;33m\u001b[0m\u001b[1;33m\u001b[0m\u001b[0m\n\u001b[1;32m--> 349\u001b[1;33m         raise ValueError(\"time data %r does not match format %r\" %\n\u001b[0m\u001b[0;32m    350\u001b[0m                          (data_string, format))\n\u001b[0;32m    351\u001b[0m     \u001b[1;32mif\u001b[0m \u001b[0mlen\u001b[0m\u001b[1;33m(\u001b[0m\u001b[0mdata_string\u001b[0m\u001b[1;33m)\u001b[0m \u001b[1;33m!=\u001b[0m \u001b[0mfound\u001b[0m\u001b[1;33m.\u001b[0m\u001b[0mend\u001b[0m\u001b[1;33m(\u001b[0m\u001b[1;33m)\u001b[0m\u001b[1;33m:\u001b[0m\u001b[1;33m\u001b[0m\u001b[1;33m\u001b[0m\u001b[0m\n",
      "\u001b[1;31mValueError\u001b[0m: time data '09072021 06_2' does not match format '%b %d %H_%M_%S %Y'"
     ]
    }
   ],
   "metadata": {}
  },
  {
   "cell_type": "code",
   "execution_count": null,
   "source": [
    "# %%time\r\n",
    "# read data\r\n",
    "# how to speed up this process? \r\n",
    "# idea 1: a faster json loader thru multiple files\r\n",
    "# idea 2: a faster method / algorithm to read thru the embedded dictionary\r\n",
    "# current speed: 40 seconds per day (82 files, 750MB)\r\n",
    "\r\n",
    "\r\n",
    "# tup = readChain(ticker, folder_path, date_list)\r\n",
    "\r\n",
    "# call_raw_df = tup[0]\r\n",
    "# call_raw_df.set_index('Date', inplace = True)\r\n",
    "# put_raw_df = tup[1]\r\n",
    "# put_raw_df.set_index('Date', inplace = True)\r\n",
    "\r\n",
    "# call_raw_df.head()"
   ],
   "outputs": [],
   "metadata": {
    "scrolled": true
   }
  },
  {
   "cell_type": "code",
   "execution_count": null,
   "source": [
    "call_raw_df.iloc[:, :-1] = call_raw_df.iloc[:, :-1].astype('float64')\r\n",
    "put_raw_df.iloc[:, :-1] = put_raw_df.iloc[:, :-1].astype('float64')"
   ],
   "outputs": [],
   "metadata": {}
  },
  {
   "cell_type": "markdown",
   "source": [
    "### Plot volume (both difference and cumulative)"
   ],
   "metadata": {}
  },
  {
   "cell_type": "markdown",
   "source": [
    "#### Plot aggregate volume and put-call ratio over time"
   ],
   "metadata": {}
  },
  {
   "cell_type": "code",
   "execution_count": null,
   "source": [
    "# cumulative volume\n",
    "frequency = '10min'\n",
    "volume_sum_call = call_raw_df.loc[:timestamp].groupby(pd.Grouper(freq=frequency, dropna = True)).sum()['volume_c']\n",
    "volume_sum_put = put_raw_df.loc[:timestamp].groupby(pd.Grouper(freq=frequency, dropna = True)).sum()['volume_p']"
   ],
   "outputs": [],
   "metadata": {
    "scrolled": true
   }
  },
  {
   "cell_type": "code",
   "execution_count": null,
   "source": [
    "plt.figure(figsize=(8, 5))\n",
    "plt.plot(volume_sum_call.index, volume_sum_call, volume_sum_put.index, volume_sum_put)\n",
    "plt.legend(['Call volume', 'Put volume'])\n",
    "plt.title('Put Call cumulative volume')\n",
    "plt.show()"
   ],
   "outputs": [],
   "metadata": {}
  },
  {
   "cell_type": "code",
   "execution_count": null,
   "source": [
    "# put-call ratio\n",
    "ratio = volume_sum_put / volume_sum_call\n",
    "plt.figure(figsize=(8, 5))\n",
    "plt.plot(ratio)\n",
    "plt.title('Put Call raio')\n",
    "plt.show()"
   ],
   "outputs": [],
   "metadata": {}
  },
  {
   "cell_type": "markdown",
   "source": [
    "#### Near the money volume, integer strike volume, far from the money volume surprises"
   ],
   "metadata": {}
  },
  {
   "cell_type": "code",
   "execution_count": null,
   "source": [
    "# Near the money\n",
    "frequency = '10min'\n",
    "call_ntm = call_raw_df.loc[(call_raw_df['delta_c'] >= 0.40) & (call_raw_df['delta_c'] <= 0.60)]\n",
    "volume_ntm_call = call_ntm.loc[:timestamp].groupby(pd.Grouper(freq=frequency, dropna = True)).sum()['volume_c']\n",
    "put_ntm = put_raw_df.loc[(put_raw_df['delta_p'] <= -0.40) & (put_raw_df['delta_p'] >= -0.60)]\n",
    "volume_ntm_put = put_ntm.loc[:timestamp].groupby(pd.Grouper(freq=frequency, dropna = True)).sum()['volume_p']"
   ],
   "outputs": [],
   "metadata": {}
  },
  {
   "cell_type": "code",
   "execution_count": null,
   "source": [
    "# ntm put call volume\n",
    "plt.figure(figsize=(8, 5))\n",
    "plt.plot(volume_ntm_call.index, volume_ntm_call, volume_ntm_put.index, volume_ntm_put)\n",
    "plt.legend(['NTM call volume', 'NTM put volume'])\n",
    "plt.title('Near-The-Money Put Call volume')\n",
    "plt.show()"
   ],
   "outputs": [],
   "metadata": {}
  },
  {
   "cell_type": "code",
   "execution_count": null,
   "source": [
    "# ntm put-call ratio\n",
    "ratio_ntm = volume_ntm_put / volume_ntm_call\n",
    "plt.figure(figsize=(8, 5))\n",
    "plt.plot(ratio_ntm)\n",
    "plt.title('Near-The-Money Put Call ratio')\n",
    "plt.show()"
   ],
   "outputs": [],
   "metadata": {}
  },
  {
   "cell_type": "code",
   "execution_count": null,
   "source": [
    "# Integer strike\n",
    "# strike_list = np.arange(370, 385, 5)\n",
    "strike_list = [370, 375, 380, 385, 395]\n",
    "call_int = call_raw_df.loc[call_raw_df['strike'].isin(strike_list)]\n",
    "volume_int_call = call_int.loc[:timestamp].groupby(pd.Grouper(freq=frequency, dropna = True)).sum()['volume_c']\n",
    "put_int = put_raw_df.loc[put_raw_df['strike'].isin(strike_list)]\n",
    "volume_int_put = put_int.loc[:timestamp].groupby(pd.Grouper(freq=frequency, dropna = True)).sum()['volume_p']"
   ],
   "outputs": [],
   "metadata": {}
  },
  {
   "cell_type": "code",
   "execution_count": null,
   "source": [
    "# Integer put call volume\n",
    "plt.figure(figsize=(8, 5))\n",
    "plt.plot(volume_int_call.index, volume_int_call, volume_int_put.index, volume_int_put)\n",
    "plt.legend(['Call volume', 'Put volume'])\n",
    "plt.title('Put Call volume for NTM Integer Strikes')\n",
    "plt.show()"
   ],
   "outputs": [],
   "metadata": {}
  },
  {
   "cell_type": "code",
   "execution_count": null,
   "source": [
    "# Integer put-call ratio\n",
    "ratio_int = volume_int_put / volume_int_call\n",
    "plt.figure(figsize=(8, 5))\n",
    "plt.plot(ratio_int)\n",
    "plt.title('Put Call raio for NTM Integer Strikes')\n",
    "plt.show()"
   ],
   "outputs": [],
   "metadata": {}
  },
  {
   "cell_type": "code",
   "execution_count": null,
   "source": [
    "# Far from the money put call ratio\n",
    "call_fotm = call_raw_df.loc[(call_raw_df['delta_c'] <= 0.40) | (call_raw_df['delta_c'] >= 0.60)]\n",
    "volume_fotm_call = call_fotm.loc[:timestamp].groupby(pd.Grouper(freq=frequency, dropna = True)).sum()['volume_c']\n",
    "put_fotm = put_raw_df.loc[(put_raw_df['delta_p'] >= -0.40) | (put_raw_df['delta_p'] <= -0.60)]\n",
    "volume_fotm_put = put_fotm.loc[:timestamp].groupby(pd.Grouper(freq=frequency, dropna = True)).sum()['volume_p']"
   ],
   "outputs": [],
   "metadata": {
    "scrolled": true
   }
  },
  {
   "cell_type": "code",
   "execution_count": null,
   "source": [
    "plt.figure(figsize=(8, 5))\n",
    "plt.plot(volume_fotm_call.index, volume_fotm_call, volume_fotm_put.index, volume_fotm_put)\n",
    "plt.legend(['FOTM call volume', 'FOTM put volume'])\n",
    "plt.title('Far Out-of-The-Money Put Call volume')\n",
    "plt.show()"
   ],
   "outputs": [],
   "metadata": {}
  },
  {
   "cell_type": "code",
   "execution_count": null,
   "source": [
    "ratio_fotm = volume_fotm_put / volume_fotm_call\n",
    "plt.figure(figsize=(8, 5))\n",
    "plt.plot(ratio_fotm)\n",
    "plt.title('Far Out-of-The-Money Put Call ratio')\n",
    "plt.show()"
   ],
   "outputs": [],
   "metadata": {}
  },
  {
   "cell_type": "code",
   "execution_count": null,
   "source": [],
   "outputs": [],
   "metadata": {}
  },
  {
   "cell_type": "markdown",
   "source": [
    "### Plot price"
   ],
   "metadata": {}
  },
  {
   "cell_type": "markdown",
   "source": [
    "### Volume surge monitor (original version)"
   ],
   "metadata": {}
  },
  {
   "cell_type": "code",
   "execution_count": null,
   "source": [
    "call_raw_df.head()"
   ],
   "outputs": [],
   "metadata": {}
  },
  {
   "cell_type": "code",
   "execution_count": null,
   "source": [
    "call_df = call_raw_df.loc['2021-05-11']\n",
    "put_df = put_raw_df.loc['2021-05-11']"
   ],
   "outputs": [],
   "metadata": {}
  },
  {
   "cell_type": "code",
   "execution_count": null,
   "source": [
    "call_exp_tup = rankExpiry(call_df, method = 'max')\n",
    "call_expiry = call_exp_tup[0]\n",
    "print('highest rank expiry date is: ' + call_expiry)\n",
    "call_strike_tup = rankStrike(call_df, method = 'max')\n",
    "call_strike = call_strike_tup[0]\n",
    "print('highest rank strike is: ' + str(call_strike))"
   ],
   "outputs": [],
   "metadata": {}
  },
  {
   "cell_type": "code",
   "execution_count": null,
   "source": [
    "# call_df.Expiry.tail(100)"
   ],
   "outputs": [],
   "metadata": {
    "scrolled": true
   }
  },
  {
   "cell_type": "code",
   "execution_count": null,
   "source": [
    "call_strike = 425.0\n",
    "put_strike = 410.0"
   ],
   "outputs": [],
   "metadata": {}
  },
  {
   "cell_type": "code",
   "execution_count": null,
   "source": [
    "put_df.groupby(pd.Grouper(freq='D')).sum()['volume_p'] / call_df.groupby(pd.Grouper(freq='D')).sum()['volume_c']"
   ],
   "outputs": [],
   "metadata": {}
  },
  {
   "cell_type": "code",
   "execution_count": null,
   "source": [
    "exp_date = '2021-05-21'"
   ],
   "outputs": [],
   "metadata": {}
  },
  {
   "cell_type": "code",
   "execution_count": null,
   "source": [
    "call_fil_df = call_df.loc[(call_df.Expiry == exp_date) & (call_df.strike == call_strike)]\n",
    "put_fil_df = put_df.loc[(put_df.Expiry == exp_date) & (put_df.strike == put_strike)]"
   ],
   "outputs": [],
   "metadata": {}
  },
  {
   "cell_type": "code",
   "execution_count": null,
   "source": [
    "call_group_df = call_df.loc[(call_df.Expiry == exp_date)].groupby(level = 'Date').sum()\n",
    "put_group_df = put_df.loc[(put_df.Expiry == exp_date)].groupby(level = 'Date').sum()"
   ],
   "outputs": [],
   "metadata": {}
  },
  {
   "cell_type": "code",
   "execution_count": null,
   "source": [
    "put_group_df['volume_p'][-1] / call_group_df['volume_c'][-1]"
   ],
   "outputs": [],
   "metadata": {
    "scrolled": true
   }
  },
  {
   "cell_type": "code",
   "execution_count": null,
   "source": [
    "pd.set_option('display.max_rows', None)\n",
    "call_fil_df.volume_c.diff()"
   ],
   "outputs": [],
   "metadata": {
    "scrolled": true
   }
  },
  {
   "cell_type": "code",
   "execution_count": null,
   "source": [
    "pd.set_option('display.max_rows', None)\n",
    "put_fil_df.volume_p.diff()"
   ],
   "outputs": [],
   "metadata": {
    "scrolled": true
   }
  },
  {
   "cell_type": "code",
   "execution_count": null,
   "source": [
    "plt.plot(call_fil_df.volume_c.diff())"
   ],
   "outputs": [],
   "metadata": {}
  },
  {
   "cell_type": "code",
   "execution_count": null,
   "source": [
    "plt.plot(put_fil_df.volume_p.diff())"
   ],
   "outputs": [],
   "metadata": {}
  },
  {
   "cell_type": "code",
   "execution_count": null,
   "source": [],
   "outputs": [],
   "metadata": {}
  },
  {
   "cell_type": "code",
   "execution_count": null,
   "source": [],
   "outputs": [],
   "metadata": {}
  },
  {
   "cell_type": "code",
   "execution_count": null,
   "source": [],
   "outputs": [],
   "metadata": {}
  },
  {
   "cell_type": "code",
   "execution_count": null,
   "source": [],
   "outputs": [],
   "metadata": {}
  }
 ],
 "metadata": {
  "kernelspec": {
   "name": "python3",
   "display_name": "Python 3.9.6 64-bit"
  },
  "language_info": {
   "codemirror_mode": {
    "name": "ipython",
    "version": 3
   },
   "file_extension": ".py",
   "mimetype": "text/x-python",
   "name": "python",
   "nbconvert_exporter": "python",
   "pygments_lexer": "ipython3",
   "version": "3.9.6"
  },
  "interpreter": {
   "hash": "bd2d11dae1870f72b68aef4ba11539c89fa715a3909acb663518747e605052a3"
  }
 },
 "nbformat": 4,
 "nbformat_minor": 2
}
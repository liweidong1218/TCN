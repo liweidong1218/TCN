{
 "cells": [
  {
   "cell_type": "code",
   "execution_count": null,
   "source": [
    "import os\r\n",
    "import sys\r\n",
    "\r\n",
    "project_dir = os.path.realpath(os.path.join(os.getcwd(), '..','..','..','..'))\r\n",
    "tool_dir = os.path.join(project_dir, 'Utils')\r\n",
    "sys.path.append(tool_dir)"
   ],
   "outputs": [],
   "metadata": {}
  },
  {
   "cell_type": "code",
   "execution_count": null,
   "source": [
    "import pandas as pd\r\n",
    "from workers import *\r\n",
    "from MRS import regimeSwitch, mrsPreprocess, get_MRS_stats\r\n",
    "import warnings\r\n",
    "import numpy as np\r\n",
    "\r\n",
    "plt.style.use('seaborn-whitegrid')\r\n",
    "warnings.filterwarnings(\"ignore\")"
   ],
   "outputs": [],
   "metadata": {}
  },
  {
   "cell_type": "code",
   "execution_count": null,
   "source": [
    "start = '2019-01-01'\r\n",
    "end = '2021-05-14'\r\n",
    "ticker = ['QQQ']\r\n",
    "df = get_all_price(ticker, start, end)\r\n",
    "df.head()"
   ],
   "outputs": [],
   "metadata": {}
  },
  {
   "cell_type": "code",
   "execution_count": null,
   "source": [
    "processed_data = mrsPreprocess(df)\r\n",
    "train, test = processed_data.split_train_test(testNum=80)\r\n",
    "\r\n",
    "train_endog, train_exog = train['ret'], train[['lag1_ret','lag2_ret']]\r\n",
    "test_endog, test_exog = test['ret'], test[['lag1_ret','lag2_ret']]"
   ],
   "outputs": [],
   "metadata": {}
  },
  {
   "cell_type": "code",
   "execution_count": null,
   "source": [
    "predictV, predictP, rmse, actual, model = get_MRS_stats(train_endog, train_exog, test_endog, test_exog)\r\n",
    "rmsedf = pd.DataFrame(rmse)\r\n",
    "rmsedf"
   ],
   "outputs": [],
   "metadata": {}
  },
  {
   "cell_type": "code",
   "execution_count": null,
   "source": [
    "rmsedf.T.plot(figsize=(12,7),title='RMSE for 2 models',kind='bar')"
   ],
   "outputs": [],
   "metadata": {}
  },
  {
   "cell_type": "code",
   "execution_count": null,
   "source": [
    "regimeSwitch.plotCompareModel(actual, predictV, 'Out-of-sample Predicted vs Actual Stock Return')"
   ],
   "outputs": [],
   "metadata": {
    "scrolled": false
   }
  },
  {
   "cell_type": "code",
   "execution_count": null,
   "source": [
    "predictP[0].plot(title='QQQ Predicted Probability of 3 regimes under model 0', figsize=(10,5))\r\n",
    "predictP[1].plot(title='QQQ Predicted Probability of 3 regimes under model 1', figsize=(10,5))"
   ],
   "outputs": [],
   "metadata": {
    "scrolled": false
   }
  },
  {
   "cell_type": "code",
   "execution_count": null,
   "source": [
    "plt.figure(figsize=(8,5))\r\n",
    "actual.plot(title='QQQ stock return ',color='k')\r\n",
    "mrsPreprocess(df).df['ret'].plot(linestyle='dotted')"
   ],
   "outputs": [],
   "metadata": {
    "scrolled": false
   }
  }
 ],
 "metadata": {
  "kernelspec": {
   "name": "python3",
   "display_name": "Python 3.9.6 64-bit"
  },
  "language_info": {
   "codemirror_mode": {
    "name": "ipython",
    "version": 3
   },
   "file_extension": ".py",
   "mimetype": "text/x-python",
   "name": "python",
   "nbconvert_exporter": "python",
   "pygments_lexer": "ipython3",
   "version": "3.9.6"
  },
  "interpreter": {
   "hash": "bd2d11dae1870f72b68aef4ba11539c89fa715a3909acb663518747e605052a3"
  }
 },
 "nbformat": 4,
 "nbformat_minor": 4
}
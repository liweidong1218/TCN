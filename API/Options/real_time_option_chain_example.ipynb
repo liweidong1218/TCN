{
 "cells": [
  {
   "cell_type": "code",
   "execution_count": 1,
   "source": [
    "import time, os, json, logging\r\n",
    "from helpFunc import *\r\n",
    "import pandas as pd\r\n",
    "import numpy as np\r\n",
    "import datetime as dt"
   ],
   "outputs": [],
   "metadata": {}
  },
  {
   "cell_type": "code",
   "execution_count": 2,
   "source": [
    "log_filename = 'D:\\Git Repository\\_local_data_\\option_data\\logging\\_' + dt.datetime.now().strftime('%m_%d_%Y') + \".log\"\r\n",
    "logging.basicConfig(filename=log_filename, \r\n",
    "                    format='%(asctime)s %(message)s', \r\n",
    "                    filemode='w') \r\n",
    "logger=logging.getLogger()\r\n",
    "# logger.setLevel(logging.INFO)\r\n",
    "# logger.info(\"option chain saved\") \r\n",
    "\r\n",
    "Ticker_list = ['SPY']\r\n",
    "time_step = 5 # in minutes"
   ],
   "outputs": [],
   "metadata": {}
  },
  {
   "cell_type": "code",
   "execution_count": 29,
   "source": [
    "def get_chain(Ticker):\r\n",
    "    starttime = time.ctime()\r\n",
    "    print('Starting time:' + starttime)\r\n",
    "    \r\n",
    "    # Exe_path = 'CREATE DATABASE IF NOT EXISTS ' + Ticker\r\n",
    "    for Ticker in Ticker_list:\r\n",
    "    # Get Option Chains\r\n",
    "        opt = get_option_chain(symbol=Ticker, includeQuotes = True)\r\n",
    "        # time_now = dt.datetime.strptime(starttime, \"%a %b %d %H:%M:%S %Y\")\r\n",
    "        \r\n",
    "        json_path = 'D:\\\\Git Repository\\\\_local_data_\\\\option_data\\\\Json_files\\\\' + Ticker + '/'\r\n",
    "        json_file = Ticker + '_' + dt.datetime.strftime(dt.datetime.strptime(starttime, \"%a %b %d %H:%M:%S %Y\"), \"%m%d%Y %H:%M:%S\").replace(':', '_') + '.txt'\r\n",
    "        \r\n",
    "        if not os.path.isdir(json_path):\r\n",
    "            os.mkdir(json_path)\r\n",
    "            with open(json_path + json_file, 'w') as write_file:\r\n",
    "                json.dump(opt, write_file)\r\n",
    "        else:\r\n",
    "            with open(json_path + json_file, 'w') as write_file:\r\n",
    "                json.dump(opt, write_file)\r\n",
    "        \r\n",
    "    logger.setLevel(logging.INFO)\r\n",
    "    logger.info(\"option chain saved\") \r\n",
    "    print('Ending time: ' + time.ctime())"
   ],
   "outputs": [],
   "metadata": {}
  },
  {
   "cell_type": "code",
   "execution_count": null,
   "source": [
    "while dt.datetime.strptime(\"06:45:00\",\"%H:%M:%S\").time() < dt.datetime.now().time() < dt.datetime.strptime(\"12:45:00\",\"%H:%M:%S\").time():\r\n",
    "    stime = time.time()\r\n",
    "    try:\r\n",
    "        get_chain(Ticker_list)\r\n",
    "        # test_func()\r\n",
    "    except:\r\n",
    "        print('Error log')\r\n",
    "        logger.setLevel(logging.ERROR)\r\n",
    "        logger.error(\"missing data caused by error\")\r\n",
    "\r\n",
    "        sender = 'option.chain.alert@gmail.com'\r\n",
    "        receiver = 'option.chain.alert@gmail.com'\r\n",
    "        password = 'DLWdlw110'\r\n",
    "        subject = 'Option chain alert'\r\n",
    "        message = 'Error occured at ' + dt.datetime.fromtimestamp(stime).strftime('%Y-%m-%d %H:%M:%S')\r\n",
    "\r\n",
    "        sendEmail(sender, password, receiver, subject, message) \r\n",
    "    time.sleep(time_step*60.0 - ((time.time() - stime) % (time_step*60.0)))\r\n"
   ],
   "outputs": [],
   "metadata": {}
  },
  {
   "cell_type": "code",
   "execution_count": null,
   "source": [
    "sender = 'option.chain.alert@gmail.com'\r\n",
    "receiver = 'option.chain.alert@gmail.com'\r\n",
    "password = 'DLWdlw110'\r\n",
    "subject = 'Option chain report'\r\n",
    "message = 'Data streaming completed. Server closed at ' + time.ctime()\r\n",
    "\r\n",
    "sendEmail(sender, password, receiver, subject, message) "
   ],
   "outputs": [],
   "metadata": {}
  }
 ],
 "metadata": {
  "kernelspec": {
   "name": "python3",
   "display_name": "Python 3.9.6 64-bit"
  },
  "language_info": {
   "codemirror_mode": {
    "name": "ipython",
    "version": 3
   },
   "file_extension": ".py",
   "mimetype": "text/x-python",
   "name": "python",
   "nbconvert_exporter": "python",
   "pygments_lexer": "ipython3",
   "version": "3.9.6"
  },
  "interpreter": {
   "hash": "bd2d11dae1870f72b68aef4ba11539c89fa715a3909acb663518747e605052a3"
  }
 },
 "nbformat": 4,
 "nbformat_minor": 2
}
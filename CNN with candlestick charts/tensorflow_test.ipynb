{
 "metadata": {
  "language_info": {
   "codemirror_mode": {
    "name": "ipython",
    "version": 3
   },
   "file_extension": ".py",
   "mimetype": "text/x-python",
   "name": "python",
   "nbconvert_exporter": "python",
   "pygments_lexer": "ipython3",
   "version": "3.9.5"
  },
  "orig_nbformat": 4,
  "kernelspec": {
   "name": "python3",
   "display_name": "Python 3.9.5 64-bit"
  },
  "interpreter": {
   "hash": "bd2d11dae1870f72b68aef4ba11539c89fa715a3909acb663518747e605052a3"
  }
 },
 "nbformat": 4,
 "nbformat_minor": 2,
 "cells": [
  {
   "cell_type": "code",
   "execution_count": 1,
   "source": [
    "# Test gpu\r\n",
    "import sys\r\n",
    "\r\n",
    "import tensorflow.keras\r\n",
    "import pandas as pd\r\n",
    "import sklearn as sk\r\n",
    "import tensorflow as tf"
   ],
   "outputs": [],
   "metadata": {}
  },
  {
   "cell_type": "code",
   "execution_count": 2,
   "source": [
    "check_gpu = len(tf.config.list_physical_devices('GPU'))>0\r\n",
    "\r\n",
    "print(f\"Tensor Flow Version: {tf.__version__}\")\r\n",
    "print(f\"Keras Version: {tensorflow.keras.__version__}\")\r\n",
    "print()\r\n",
    "print(f\"Python {sys.version}\")\r\n",
    "print(f\"Pandas {pd.__version__}\")\r\n",
    "print(f\"Scikit-Learn {sk.__version__}\")\r\n",
    "print(\"GPU is\", \"available\" if check_gpu \\\r\n",
    "      else \"NOT AVAILABLE\")"
   ],
   "outputs": [
    {
     "output_type": "stream",
     "name": "stdout",
     "text": [
      "Tensor Flow Version: 2.5.0\n",
      "Keras Version: 2.5.0\n",
      "\n",
      "Python 3.9.6 (tags/v3.9.6:db3ff76, Jun 28 2021, 15:26:21) [MSC v.1929 64 bit (AMD64)]\n",
      "Pandas 1.3.0\n",
      "Scikit-Learn 0.24.2\n",
      "GPU is available\n"
     ]
    }
   ],
   "metadata": {}
  },
  {
   "cell_type": "code",
   "execution_count": null,
   "source": [],
   "outputs": [],
   "metadata": {}
  }
 ]
}